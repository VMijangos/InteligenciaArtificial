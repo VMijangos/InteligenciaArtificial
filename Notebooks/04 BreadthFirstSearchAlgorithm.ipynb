{
 "cells": [
  {
   "cell_type": "markdown",
   "id": "b64be761",
   "metadata": {},
   "source": [
    "# Algoritmo Breadth-First\n",
    "\n",
    "El algoritmo de Breadth-First Search expande los nodos del aŕbol de búsqueda de modo jerárquico. , comenzando por el nodo raíz, expandiendo después sus hijos y así sucesivamente.\n",
    "\n",
    "### Construcción del problema de búsqueda\n",
    "\n",
    "Definimos un problema basado en el mundo de la aspiradora:"
   ]
  },
  {
   "cell_type": "code",
   "execution_count": 1,
   "id": "2e34e64e",
   "metadata": {},
   "outputs": [],
   "source": [
    "from itertools import product\n",
    "#Importamos métodos\n",
    "from VaccuumWorldSearchProblem import State, Transition, SearchProblem"
   ]
  },
  {
   "cell_type": "markdown",
   "id": "9b218590",
   "metadata": {},
   "source": [
    "Creamos el modelo de transición a partir de los estados posibles:"
   ]
  },
  {
   "cell_type": "code",
   "execution_count": 2,
   "id": "0effa971",
   "metadata": {},
   "outputs": [],
   "source": [
    "cuadros = ['A','B']\n",
    "\n",
    "#Inicializa contador de estados\n",
    "i = 0\n",
    "#Guarda estados\n",
    "states = {}\n",
    "#Determina los estados de suciedad\n",
    "for dirt in product([1,0],repeat=len(cuadros)):\n",
    "    #Determina la posición del agente\n",
    "    for agent_loc in cuadros:\n",
    "        #Asigna valores al objeto estado\n",
    "        state = State()\n",
    "        state.world = {cuadros[j]:dirt[j] for j in range(len(cuadros))}\n",
    "        state.agent_location = agent_loc\n",
    "        #Guarda el estado en diccionario\n",
    "        states[i] = state\n",
    "        #Aumenta el valor de i\n",
    "        i += 1"
   ]
  },
  {
   "cell_type": "markdown",
   "id": "9ed540b8",
   "metadata": {},
   "source": [
    "Definimos el problema:"
   ]
  },
  {
   "cell_type": "code",
   "execution_count": 3,
   "id": "b863c852",
   "metadata": {},
   "outputs": [
    {
     "name": "stdout",
     "output_type": "stream",
     "text": [
      "States: \n",
      " -[0, 1, 2, 3, 4, 5, 6, 7]\n",
      "Initial State:\n",
      " -0\n",
      "Final states:\n",
      " -[6, 7]\n",
      "Actions:\n",
      " -['Clean', 'Left', 'Right']\n",
      "Transition model:\n",
      " -[(0, 'Clean', 4), (0, 'Right', 1), (1, 'Clean', 3), (1, 'Left', 0), (2, 'Clean', 6), (2, 'Right', 3), (3, 'Left', 2), (4, 'Right', 5), (5, 'Clean', 7), (5, 'Left', 4), (6, 'Right', 7), (7, 'Left', 6)]\n"
     ]
    }
   ],
   "source": [
    "#Definimos transiciones\n",
    "transition_model = Transition()\n",
    "transition_model.get_transitions(states)\n",
    "\n",
    "#Definimos el problema de búsqueda\n",
    "vacuum_problem = SearchProblem(states=states,goal=[6,7], initial=0,\n",
    "                        transition_model=transition_model,actions=['Clean','Left','Right'])\n",
    "\n",
    "print(vacuum_problem)"
   ]
  },
  {
   "cell_type": "markdown",
   "id": "dbf737b7",
   "metadata": {},
   "source": [
    "## Aplicación del algoritmo Breadth-First Search\n",
    "\n",
    "El algoritmo de Breadth-First Search se puede ver más simple que el de Best-First Search. En este caso, relajamos las condiciones para agregar los nodos alcanzados. No contamos con una función de costo en sentido estrcito. Por lo tanto, se utiliza una pila FIFO que permite tomar el nodo al tope de la fila en cada iteración."
   ]
  },
  {
   "cell_type": "code",
   "execution_count": 4,
   "id": "aa30c0d8",
   "metadata": {},
   "outputs": [],
   "source": [
    "from SearchTree import FIFOQueue, Node, expand"
   ]
  },
  {
   "cell_type": "code",
   "execution_count": 8,
   "id": "c5c1dd38",
   "metadata": {},
   "outputs": [],
   "source": [
    "class FIFOQueue(object):\n",
    "    \"\"\"\n",
    "    Clase de una cola FIFO en los problemas de búsqueda.\n",
    "    \"\"\"\n",
    "    def __init__(self):\n",
    "        self.queue = []\n",
    "  \n",
    "    def __str__(self):\n",
    "        return ' '.join([str(q) for q in self.queue])\n",
    "  \n",
    "    def isEmpty(self):\n",
    "        \"\"\"\n",
    "        Returns\n",
    "        -------\n",
    "        empty : bool\n",
    "            Devuelve el valor True si el queue está vacío\n",
    "        \"\"\"\n",
    "        return self.queue == []\n",
    "  \n",
    "    def push(self, element):\n",
    "        \"\"\"\n",
    "        Arguments\n",
    "        ---------\n",
    "        element : \n",
    "            El elemento que se va agregar al queue\n",
    "        \"\"\"\n",
    "        self.queue.append(element)\n",
    "  \n",
    "    def pop(self):\n",
    "        \"\"\"\n",
    "        Elimina el elemento con más valor según un peso f\n",
    "        y regresa el elemento correspondiente a este valor.\n",
    "        \"\"\"\n",
    "        #Regresa el primer elemento que llegó\n",
    "        first_element = self.queue[0]\n",
    "        #Borra este elemento de la cola\n",
    "        del self.queue[0]\n",
    "    \n",
    "        return first_element\n",
    "    \n",
    "    def top(self):\n",
    "        \"\"\"\n",
    "        Devuelve el elemento con la función de costo más alta.\n",
    "        A diferencia de pop, no elimina el elemento de la pila.\n",
    "        \"\"\"\n",
    "        #Encuentra el elemento máximo en base al costo\n",
    "        max_element = np.argmax([element.cost for element in self.queue])\n",
    "        #Guarda el elemento máximo\n",
    "        item = self.queue[max_element]\n",
    "        \n",
    "        return item"
   ]
  },
  {
   "cell_type": "code",
   "execution_count": 5,
   "id": "3809a838",
   "metadata": {},
   "outputs": [],
   "source": [
    "def BreadthFirstSearch(problem):\n",
    "    \"\"\"\n",
    "    Algoritmo Breadth-First Search para generar el camino más apto\n",
    "    en el árbol de búsqueda de un problema.\n",
    "    \n",
    "    Argumentos\n",
    "    ----------\n",
    "    problem : objeto\n",
    "        Problema de búsquda.\n",
    "        \n",
    "    Salida\n",
    "    ------\n",
    "    nodes : list\n",
    "        Lista de los nodos que llevan a la solución.\n",
    "    \"\"\"\n",
    "    #Almacenamiento de nodos\n",
    "    nodes = []\n",
    "    #Nodo inicial\n",
    "    node = Node()\n",
    "    node.state = problem.initial\n",
    "    \n",
    "    #Revisa si el nodo es meta\n",
    "    if node in problem.goal:\n",
    "        return nodes\n",
    "    \n",
    "    #Frontera con cola de prioridad\n",
    "    frontier = FIFOQueue()\n",
    "    frontier.push(node)\n",
    "    #Nodos alcanzados\n",
    "    reached = {problem.initial:node}\n",
    "\n",
    "    #Mientras la frontera no esté vacía\n",
    "    while frontier.isEmpty() == False:\n",
    "        #Pop en frontera\n",
    "        node = frontier.pop()\n",
    "        #Guarda el nodo en la lista\n",
    "        nodes.append(node)\n",
    "        \n",
    "        #Expande el nodo actual\n",
    "        for child in expand(problem, node):\n",
    "            #Guarda el estado del hijo\n",
    "            state = child.state\n",
    "            \n",
    "            #Revisa si el nodo es meta\n",
    "            if state in problem.goal:\n",
    "                nodes.append(child)\n",
    "                return nodes\n",
    "            \n",
    "            #Guarda los hijos no alcanzados o que tengan menor costo\n",
    "            if state not in reached.keys():\n",
    "                reached[state] = child\n",
    "                frontier.push(child)\n",
    "        \n",
    "    #Si no logra llegar a un nodo final\n",
    "    #El algoritmo regresa mensaje de error\n",
    "    return \"No se ha logrado llegar a un estado final.\""
   ]
  },
  {
   "cell_type": "markdown",
   "id": "d407883d",
   "metadata": {},
   "source": [
    "Aplicamos el algoritmo al problema del mundo de la aspiradora:"
   ]
  },
  {
   "cell_type": "code",
   "execution_count": 6,
   "id": "33b73636",
   "metadata": {},
   "outputs": [
    {
     "name": "stdout",
     "output_type": "stream",
     "text": [
      "Action: None, World: {'A': 1, 'B': 1}, Loc: A, cost: 0\n",
      "Action: Clean, World: {'A': 0, 'B': 1}, Loc: A, cost: 1\n",
      "Action: Right, World: {'A': 1, 'B': 1}, Loc: B, cost: 1\n",
      "Action: Right, World: {'A': 0, 'B': 1}, Loc: B, cost: 2\n",
      "Action: Clean, World: {'A': 0, 'B': 0}, Loc: B, cost: 3\n"
     ]
    }
   ],
   "source": [
    "tree = BreadthFirstSearch(vacuum_problem)\n",
    "    \n",
    "#Observamos el resultado del árbol\n",
    "for node in tree:\n",
    "    print(\"Action: {}, {}, cost: {}\".format(node.action, states[node.state], node.cost))"
   ]
  },
  {
   "cell_type": "code",
   "execution_count": 7,
   "id": "bb60e2bc",
   "metadata": {},
   "outputs": [
    {
     "name": "stdout",
     "output_type": "stream",
     "text": [
      "None ----->\n",
      "World: {'A': 1, 'B': 1}, Loc: A\n",
      "Clean ----->\n",
      "World: {'A': 0, 'B': 1}, Loc: A\n",
      "Right ----->\n",
      "World: {'A': 0, 'B': 1}, Loc: B\n",
      "Clean ----->\n",
      "World: {'A': 0, 'B': 0}, Loc: B\n"
     ]
    }
   ],
   "source": [
    "def get_path(search_tree, root):\n",
    "    \"\"\"\n",
    "    Recorre el árbol de búsqueda de atrás hacia el inicio para obtener el camino de acciones\n",
    "    que llevaron a la meta.\n",
    "    \"\"\"\n",
    "    #Meta\n",
    "    leaf = search_tree[::-1][0]\n",
    "    #Padre de la meta\n",
    "    parent = leaf.parent\n",
    "    #Adjunta la meta y su padre al camino\n",
    "    path = [leaf, parent]\n",
    "    #Recorre el árbol de búsqueda hasta el inicial\n",
    "    while parent.state != root:\n",
    "        parent = parent.parent\n",
    "        #Adjunta los padres en el camino\n",
    "        path.append(parent)\n",
    "        \n",
    "    return path[::-1]\n",
    "    \n",
    "for n in get_path(tree, vacuum_problem.initial):\n",
    "    print(\"{} ----->\\n{}\".format(n.action, states[n.state]))"
   ]
  },
  {
   "cell_type": "markdown",
   "id": "0082c605",
   "metadata": {},
   "source": [
    "## Ejercicio\n",
    "\n",
    "Programar el algoritmo de <b>Depth First Search</b> (primero en profundidad) para el problema del 8-puzzle. Comenzar tomando como estado inicial el estado:\n",
    "\n",
    "$$[1,e,2] \\\\ [6,3,4] \\\\ [7,5,8]$$\n",
    "\n",
    "Probar otros estados para determinar si el algoritmo es capaz de converger apropiadamente."
   ]
  },
  {
   "cell_type": "markdown",
   "id": "e4c120ed",
   "metadata": {},
   "source": [
    "    "
   ]
  }
 ],
 "metadata": {
  "kernelspec": {
   "display_name": "Python 3",
   "language": "python",
   "name": "python3"
  },
  "language_info": {
   "codemirror_mode": {
    "name": "ipython",
    "version": 3
   },
   "file_extension": ".py",
   "mimetype": "text/x-python",
   "name": "python",
   "nbconvert_exporter": "python",
   "pygments_lexer": "ipython3",
   "version": "3.8.8"
  }
 },
 "nbformat": 4,
 "nbformat_minor": 5
}
