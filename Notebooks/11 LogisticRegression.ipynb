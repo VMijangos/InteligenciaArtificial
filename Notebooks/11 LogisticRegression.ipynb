{
 "cells": [
  {
   "cell_type": "markdown",
   "metadata": {},
   "source": [
    "# Regresión logística\n",
    "\n",
    "El modelo de regresión logística es un modelo gráfico no dirigido que estima una probabilidad de una distribución binaria $X \\sim Ber(p)$ donde $p =p(y=1|x)$ es la probabilidad de que el observable $x$ sea parte de la clase y se estima por medio de la función logísitica:\n",
    "\n",
    "$$p(y=1|x) = \\frac{1}{1+exp\\{-(\\theta x + \\theta_0\\})\\}}$$\n",
    "\n",
    "A partir de aquí se puede predecir una clase que clasifique al vector de entrada. Presentamos una implementación sencilla que utiliza el algoritmo de gradiente descendiente para aprender los pesos."
   ]
  },
  {
   "cell_type": "code",
   "execution_count": 1,
   "metadata": {},
   "outputs": [],
   "source": [
    "import pandas as pd\n",
    "import numpy as np\n",
    "import matplotlib.pyplot as plt\n",
    "from seaborn import heatmap"
   ]
  },
  {
   "cell_type": "markdown",
   "metadata": {},
   "source": [
    "## Preparación de los datos\n",
    "\n",
    "Utilizamos datos que cuentan con 7 varibales de observación $x_1,...,x_7$ que responden a características como animal, mamífero, tener cuatro patas, etc. El obtjetivo es determinar la probabilidad de que una observación sea o no un gato."
   ]
  },
  {
   "cell_type": "code",
   "execution_count": 2,
   "metadata": {},
   "outputs": [
    {
     "data": {
      "text/html": [
       "<div>\n",
       "<style scoped>\n",
       "    .dataframe tbody tr th:only-of-type {\n",
       "        vertical-align: middle;\n",
       "    }\n",
       "\n",
       "    .dataframe tbody tr th {\n",
       "        vertical-align: top;\n",
       "    }\n",
       "\n",
       "    .dataframe thead th {\n",
       "        text-align: right;\n",
       "    }\n",
       "</style>\n",
       "<table border=\"1\" class=\"dataframe\">\n",
       "  <thead>\n",
       "    <tr style=\"text-align: right;\">\n",
       "      <th></th>\n",
       "      <th>¿es animal?</th>\n",
       "      <th>¿es mamífero?</th>\n",
       "      <th>¿es felino?</th>\n",
       "      <th>¿es doméstico?</th>\n",
       "      <th>¿tiene dos orejas?</th>\n",
       "      <th>¿es negro?</th>\n",
       "      <th>¿tiene cuatro patas?</th>\n",
       "      <th>¿es gato?</th>\n",
       "    </tr>\n",
       "  </thead>\n",
       "  <tbody>\n",
       "    <tr>\n",
       "      <th>0</th>\n",
       "      <td>1</td>\n",
       "      <td>1</td>\n",
       "      <td>1</td>\n",
       "      <td>1</td>\n",
       "      <td>1</td>\n",
       "      <td>1</td>\n",
       "      <td>1</td>\n",
       "      <td>1</td>\n",
       "    </tr>\n",
       "    <tr>\n",
       "      <th>1</th>\n",
       "      <td>0</td>\n",
       "      <td>0</td>\n",
       "      <td>0</td>\n",
       "      <td>1</td>\n",
       "      <td>0</td>\n",
       "      <td>1</td>\n",
       "      <td>0</td>\n",
       "      <td>0</td>\n",
       "    </tr>\n",
       "    <tr>\n",
       "      <th>2</th>\n",
       "      <td>1</td>\n",
       "      <td>0</td>\n",
       "      <td>1</td>\n",
       "      <td>1</td>\n",
       "      <td>0</td>\n",
       "      <td>1</td>\n",
       "      <td>1</td>\n",
       "      <td>0</td>\n",
       "    </tr>\n",
       "    <tr>\n",
       "      <th>3</th>\n",
       "      <td>1</td>\n",
       "      <td>1</td>\n",
       "      <td>0</td>\n",
       "      <td>1</td>\n",
       "      <td>1</td>\n",
       "      <td>0</td>\n",
       "      <td>1</td>\n",
       "      <td>0</td>\n",
       "    </tr>\n",
       "    <tr>\n",
       "      <th>4</th>\n",
       "      <td>1</td>\n",
       "      <td>1</td>\n",
       "      <td>1</td>\n",
       "      <td>0</td>\n",
       "      <td>1</td>\n",
       "      <td>0</td>\n",
       "      <td>1</td>\n",
       "      <td>0</td>\n",
       "    </tr>\n",
       "    <tr>\n",
       "      <th>5</th>\n",
       "      <td>1</td>\n",
       "      <td>1</td>\n",
       "      <td>1</td>\n",
       "      <td>1</td>\n",
       "      <td>0</td>\n",
       "      <td>0</td>\n",
       "      <td>0</td>\n",
       "      <td>1</td>\n",
       "    </tr>\n",
       "    <tr>\n",
       "      <th>6</th>\n",
       "      <td>1</td>\n",
       "      <td>0</td>\n",
       "      <td>0</td>\n",
       "      <td>1</td>\n",
       "      <td>1</td>\n",
       "      <td>1</td>\n",
       "      <td>0</td>\n",
       "      <td>0</td>\n",
       "    </tr>\n",
       "    <tr>\n",
       "      <th>7</th>\n",
       "      <td>1</td>\n",
       "      <td>1</td>\n",
       "      <td>1</td>\n",
       "      <td>1</td>\n",
       "      <td>0</td>\n",
       "      <td>0</td>\n",
       "      <td>1</td>\n",
       "      <td>1</td>\n",
       "    </tr>\n",
       "    <tr>\n",
       "      <th>8</th>\n",
       "      <td>1</td>\n",
       "      <td>0</td>\n",
       "      <td>0</td>\n",
       "      <td>1</td>\n",
       "      <td>0</td>\n",
       "      <td>0</td>\n",
       "      <td>0</td>\n",
       "      <td>0</td>\n",
       "    </tr>\n",
       "    <tr>\n",
       "      <th>9</th>\n",
       "      <td>0</td>\n",
       "      <td>0</td>\n",
       "      <td>0</td>\n",
       "      <td>0</td>\n",
       "      <td>0</td>\n",
       "      <td>0</td>\n",
       "      <td>0</td>\n",
       "      <td>0</td>\n",
       "    </tr>\n",
       "    <tr>\n",
       "      <th>10</th>\n",
       "      <td>1</td>\n",
       "      <td>1</td>\n",
       "      <td>1</td>\n",
       "      <td>0</td>\n",
       "      <td>1</td>\n",
       "      <td>1</td>\n",
       "      <td>1</td>\n",
       "      <td>0</td>\n",
       "    </tr>\n",
       "    <tr>\n",
       "      <th>11</th>\n",
       "      <td>1</td>\n",
       "      <td>1</td>\n",
       "      <td>1</td>\n",
       "      <td>0</td>\n",
       "      <td>1</td>\n",
       "      <td>0</td>\n",
       "      <td>1</td>\n",
       "      <td>0</td>\n",
       "    </tr>\n",
       "    <tr>\n",
       "      <th>12</th>\n",
       "      <td>1</td>\n",
       "      <td>1</td>\n",
       "      <td>1</td>\n",
       "      <td>1</td>\n",
       "      <td>1</td>\n",
       "      <td>0</td>\n",
       "      <td>1</td>\n",
       "      <td>1</td>\n",
       "    </tr>\n",
       "    <tr>\n",
       "      <th>13</th>\n",
       "      <td>1</td>\n",
       "      <td>1</td>\n",
       "      <td>1</td>\n",
       "      <td>1</td>\n",
       "      <td>1</td>\n",
       "      <td>0</td>\n",
       "      <td>0</td>\n",
       "      <td>1</td>\n",
       "    </tr>\n",
       "  </tbody>\n",
       "</table>\n",
       "</div>"
      ],
      "text/plain": [
       "    ¿es animal?   ¿es mamífero?   ¿es felino?   ¿es doméstico?  \\\n",
       "0             1               1             1                1   \n",
       "1             0               0             0                1   \n",
       "2             1               0             1                1   \n",
       "3             1               1             0                1   \n",
       "4             1               1             1                0   \n",
       "5             1               1             1                1   \n",
       "6             1               0             0                1   \n",
       "7             1               1             1                1   \n",
       "8             1               0             0                1   \n",
       "9             0               0             0                0   \n",
       "10            1               1             1                0   \n",
       "11            1               1             1                0   \n",
       "12            1               1             1                1   \n",
       "13            1               1             1                1   \n",
       "\n",
       "     ¿tiene dos orejas?   ¿es negro?   ¿tiene cuatro patas?   ¿es gato?  \n",
       "0                     1            1                      1           1  \n",
       "1                     0            1                      0           0  \n",
       "2                     0            1                      1           0  \n",
       "3                     1            0                      1           0  \n",
       "4                     1            0                      1           0  \n",
       "5                     0            0                      0           1  \n",
       "6                     1            1                      0           0  \n",
       "7                     0            0                      1           1  \n",
       "8                     0            0                      0           0  \n",
       "9                     0            0                      0           0  \n",
       "10                    1            1                      1           0  \n",
       "11                    1            0                      1           0  \n",
       "12                    1            0                      1           1  \n",
       "13                    1            0                      0           1  "
      ]
     },
     "execution_count": 2,
     "metadata": {},
     "output_type": "execute_result"
    }
   ],
   "source": [
    "data = pd.read_csv('cat_data.csv')\n",
    "data"
   ]
  },
  {
   "cell_type": "markdown",
   "metadata": {},
   "source": [
    "La variable $y$ será la columna correspondiente a ser o no gato, mientras que los observables serán el resto de las columnas."
   ]
  },
  {
   "cell_type": "code",
   "execution_count": 3,
   "metadata": {},
   "outputs": [],
   "source": [
    "#Convertir los datos a numpy\n",
    "npData = data.to_numpy()\n",
    "#Ejemplos\n",
    "X = npData[:,:-1]\n",
    "#Clases de los ejemplos\n",
    "Y = npData[:,-1]\n",
    "\n",
    "#Tamaño de los datos\n",
    "#Unidades de entrada\n",
    "m,d = X.shape"
   ]
  },
  {
   "cell_type": "markdown",
   "metadata": {},
   "source": [
    "## Aprendizaje en el modelo de regresión logística\n",
    "\n",
    "Para realizar el aprendizaje en el modelo de regresión logística primero que nada generaremos el modelo, como sabemos el modelo aplica la función logística:\n",
    "\n",
    "$$f(x) = \\frac{1}{1 + e^{\\theta x + \\theta_0}}$$\n",
    "\n",
    "Donde $\\theta$ y $\\theta_0$ definen los factores del modelo. El objetivo es entonces estimar esto parámetros para que la predicción hecha por el modelo sea correcto.\n",
    "\n",
    "#### Función logística\n",
    "\n",
    "Definimos, en principio, la función logística."
   ]
  },
  {
   "cell_type": "code",
   "execution_count": 4,
   "metadata": {},
   "outputs": [],
   "source": [
    "#Función logística\n",
    "logist = lambda a: 1./(1.+np.exp(-a))"
   ]
  },
  {
   "cell_type": "markdown",
   "metadata": {},
   "source": [
    "La función logística toma valores entre 0 y 1 y puede, por tanto, interpretarse como una probabilidad. En este caso es la probabilidad de que los datos observados pertenezcan a la clase 0. El comportamiento de la función logística es como de S, como puede observarse a continuación."
   ]
  },
  {
   "cell_type": "code",
   "execution_count": 5,
   "metadata": {},
   "outputs": [
    {
     "data": {
      "image/png": "[encoded data removed]",
      "text/plain": [
       "<Figure size 432x288 with 1 Axes>"
      ]
     },
     "metadata": {
      "needs_background": "light"
     },
     "output_type": "display_data"
    }
   ],
   "source": [
    "plt.plot(logist(np.linspace(-7,7)))\n",
    "plt.title('Función logística')\n",
    "plt.xlabel('x')\n",
    "plt.ylabel('y')\n",
    "plt.show()"
   ]
  },
  {
   "cell_type": "markdown",
   "metadata": {},
   "source": [
    "### Estimación de los parámetros\n",
    "\n",
    "Para obtener los valores $\\theta_i$, $i=\\{0,1,...,d\\}$ adecuados, usaremos el algoritmo del gradiente descendiente. Este es un algoritmo sencillo que depende del gradiente de una función de costo o riesgo que depende de los parámetros, $R(\\theta)$. \n",
    "\n",
    "El método del gradiente descendiente actualiza los parámetros en base al gradiente y a un factor $\\eta$ conocido como el rango de aprendizaje que determina que tanto cambia cada parámetro con respecto al gradiente:\n",
    "\n",
    "$$\\theta_i \\leftarrow \\theta_i - \\eta \\nabla_iR(\\theta)$$\n",
    "\n",
    "En el caso de la regresión logística para problemas binarios, nuestra función de costo estará dada por:\n",
    "\n",
    "$$R(\\theta) =  -\\Big( y \\log p(y=1|x) + (1-y)\\log \\big( 1- p(y=0|x) \\big) \\Big)$$\n",
    "\n",
    "En este caso, la probabilidad se obtiene con la función logística. Notamos que las derivadas parciales (que definen el gradiente) son:\n",
    "\n",
    "$$\\frac{\\partial R(\\theta)}{\\partial \\theta_i} (p(y=1|x) - y) x_i$$\n",
    "\n",
    "Y en el caso de $\\theta_0$ se puede denotar que $x_0= 1$ siempre. Por tanto, la actualización de los parámetros se realzará como:\n",
    "\n",
    "$$\\theta_i \\leftarrow \\theta_i  - \\eta \\big( f(x) - y \\big) \\cdot x_i$$\n",
    "\n",
    "Donde $f(x) = p(y=1|x)$ es la función logística. Para actualizar los parámetros utilizaremos un rango de aprendizaje $\\eta =0.5$ y iteraremos varias veces el procedimiento."
   ]
  },
  {
   "cell_type": "code",
   "execution_count": 6,
   "metadata": {},
   "outputs": [
    {
     "name": "stdout",
     "output_type": "stream",
     "text": [
      "CPU times: user 6.05 ms, sys: 1.04 ms, total: 7.09 ms\n",
      "Wall time: 4.64 ms\n"
     ]
    }
   ],
   "source": [
    "%%time\n",
    "#Número máximo de itraciones\n",
    "max_its = 10\n",
    "#Rango de aprendizaje\n",
    "lr = 0.5\n",
    "\n",
    "#Iniciamos theta_i con 0s\n",
    "theta = np.zeros(d)\n",
    "#Iniciamos theta_0 = 0\n",
    "theta0 = 0\n",
    "\n",
    "#Cuando detenerse\n",
    "stop = False\n",
    "t = 0\n",
    "while  stop == False:\n",
    "    #Revisamos cada uno de los ejemplos\n",
    "    for x, y in zip(X,Y):\n",
    "        #Calculamos función logística\n",
    "        f = logist(np.dot(theta,x)+theta0)\n",
    "        #Actualizamos los parámetros\n",
    "        theta = theta - lr*(f-y)*x\n",
    "        theta0 = theta0 - lr*(f-y)\n",
    "   \n",
    "    t += 1\n",
    "    #Criterio de paro\n",
    "    if t > max_its: \n",
    "        stop = True"
   ]
  },
  {
   "cell_type": "markdown",
   "metadata": {},
   "source": [
    "### Aplicación de regrsión logística\n",
    "\n",
    "Finalmente, una vez obtenido los pesos, podemos estimar las probabilidades de los objetos que estamos trabajando. En este caso, se estima la probabilidad para la calse 1 como $f(x)$ y para la clase 0 obtenemos que se puede sacar de la anterior como $1-f(x)$.\n",
    "\n",
    "Asimismo, podemos estimar cuál es la clase que mejor se ajusta al dato observable simplemente viendo su probabilidad; si esta supera el 0.5 será de la clase 1, sino pertenecerá a la clase 0.\n",
    "\n",
    "$$\\hat{y} = \\begin{cases} 1 & \\text{si } f(x) > 0.5 \\\\ 0 & \\text{en otro cas} \\end{cases}$$"
   ]
  },
  {
   "cell_type": "code",
   "execution_count": 7,
   "metadata": {},
   "outputs": [],
   "source": [
    "def estimate(X):\n",
    "    \"\"\"Estima la probabilidad con el modelo y regresa la clase\"\"\"\n",
    "    #función logística\n",
    "    p = logist(np.dot(X,theta)+theta0)\n",
    "    #Clasificación\n",
    "    cl = 1*(p > 0.5)\n",
    "    \n",
    "    return cl, p"
   ]
  },
  {
   "cell_type": "markdown",
   "metadata": {},
   "source": [
    "Podemos ver cuáles son las clases y las probabilidades que obtuvo para los datos observados. Así como podemos estimar el error que comete al clasificar los datos."
   ]
  },
  {
   "cell_type": "code",
   "execution_count": 8,
   "metadata": {},
   "outputs": [
    {
     "name": "stdout",
     "output_type": "stream",
     "text": [
      "Clases predichas: [0 0 0 0 0 1 0 1 0 0 0 0 1 1] \n",
      "Clases esperadas: [1 0 0 0 0 1 0 1 0 0 0 0 1 1] \n",
      "Error: 0.07142857142857142\n"
     ]
    }
   ],
   "source": [
    "clases, probs = estimate(X)\n",
    "print('Clases predichas: {} \\nClases esperadas: {} \\nError: {}'.format(clases,Y, np.abs(clases-Y).sum(0)/len(Y)))"
   ]
  },
  {
   "cell_type": "markdown",
   "metadata": {},
   "source": [
    "El modelo de regresión logística determina las probabilidades para la clase 1 (gato) y la clase 0 (no gato) y elige la clase que maximice la probabilidad.\n",
    "Es importante obervar las probabilidades, pues estas aportan información relevante sobre la clasificación y sobre los datos que estamos eligiendo:"
   ]
  },
  {
   "cell_type": "code",
   "execution_count": 9,
   "metadata": {},
   "outputs": [
    {
     "data": {
      "text/html": [
       "<div>\n",
       "<style scoped>\n",
       "    .dataframe tbody tr th:only-of-type {\n",
       "        vertical-align: middle;\n",
       "    }\n",
       "\n",
       "    .dataframe tbody tr th {\n",
       "        vertical-align: top;\n",
       "    }\n",
       "\n",
       "    .dataframe thead th {\n",
       "        text-align: right;\n",
       "    }\n",
       "</style>\n",
       "<table border=\"1\" class=\"dataframe\">\n",
       "  <thead>\n",
       "    <tr style=\"text-align: right;\">\n",
       "      <th></th>\n",
       "      <th>Prob. clase 1</th>\n",
       "      <th>Prob. clase 0</th>\n",
       "      <th>Clase real</th>\n",
       "      <th>Clase predicha</th>\n",
       "    </tr>\n",
       "  </thead>\n",
       "  <tbody>\n",
       "    <tr>\n",
       "      <th>0</th>\n",
       "      <td>0.464137</td>\n",
       "      <td>0.535863</td>\n",
       "      <td>1</td>\n",
       "      <td>0</td>\n",
       "    </tr>\n",
       "    <tr>\n",
       "      <th>1</th>\n",
       "      <td>0.056811</td>\n",
       "      <td>0.943189</td>\n",
       "      <td>0</td>\n",
       "      <td>0</td>\n",
       "    </tr>\n",
       "    <tr>\n",
       "      <th>2</th>\n",
       "      <td>0.095876</td>\n",
       "      <td>0.904124</td>\n",
       "      <td>0</td>\n",
       "      <td>0</td>\n",
       "    </tr>\n",
       "    <tr>\n",
       "      <th>3</th>\n",
       "      <td>0.195629</td>\n",
       "      <td>0.804371</td>\n",
       "      <td>0</td>\n",
       "      <td>0</td>\n",
       "    </tr>\n",
       "    <tr>\n",
       "      <th>4</th>\n",
       "      <td>0.386437</td>\n",
       "      <td>0.613563</td>\n",
       "      <td>0</td>\n",
       "      <td>0</td>\n",
       "    </tr>\n",
       "    <tr>\n",
       "      <th>5</th>\n",
       "      <td>0.987273</td>\n",
       "      <td>0.012727</td>\n",
       "      <td>1</td>\n",
       "      <td>1</td>\n",
       "    </tr>\n",
       "    <tr>\n",
       "      <th>6</th>\n",
       "      <td>0.008696</td>\n",
       "      <td>0.991304</td>\n",
       "      <td>0</td>\n",
       "      <td>0</td>\n",
       "    </tr>\n",
       "    <tr>\n",
       "      <th>7</th>\n",
       "      <td>0.937893</td>\n",
       "      <td>0.062107</td>\n",
       "      <td>1</td>\n",
       "      <td>1</td>\n",
       "    </tr>\n",
       "    <tr>\n",
       "      <th>8</th>\n",
       "      <td>0.132661</td>\n",
       "      <td>0.867339</td>\n",
       "      <td>0</td>\n",
       "      <td>0</td>\n",
       "    </tr>\n",
       "    <tr>\n",
       "      <th>9</th>\n",
       "      <td>0.041961</td>\n",
       "      <td>0.958039</td>\n",
       "      <td>0</td>\n",
       "      <td>0</td>\n",
       "    </tr>\n",
       "    <tr>\n",
       "      <th>10</th>\n",
       "      <td>0.078043</td>\n",
       "      <td>0.921957</td>\n",
       "      <td>0</td>\n",
       "      <td>0</td>\n",
       "    </tr>\n",
       "    <tr>\n",
       "      <th>11</th>\n",
       "      <td>0.386437</td>\n",
       "      <td>0.613563</td>\n",
       "      <td>0</td>\n",
       "      <td>0</td>\n",
       "    </tr>\n",
       "    <tr>\n",
       "      <th>12</th>\n",
       "      <td>0.865672</td>\n",
       "      <td>0.134328</td>\n",
       "      <td>1</td>\n",
       "      <td>1</td>\n",
       "    </tr>\n",
       "    <tr>\n",
       "      <th>13</th>\n",
       "      <td>0.970677</td>\n",
       "      <td>0.029323</td>\n",
       "      <td>1</td>\n",
       "      <td>1</td>\n",
       "    </tr>\n",
       "  </tbody>\n",
       "</table>\n",
       "</div>"
      ],
      "text/plain": [
       "    Prob. clase 1  Prob. clase 0  Clase real  Clase predicha\n",
       "0        0.464137       0.535863           1               0\n",
       "1        0.056811       0.943189           0               0\n",
       "2        0.095876       0.904124           0               0\n",
       "3        0.195629       0.804371           0               0\n",
       "4        0.386437       0.613563           0               0\n",
       "5        0.987273       0.012727           1               1\n",
       "6        0.008696       0.991304           0               0\n",
       "7        0.937893       0.062107           1               1\n",
       "8        0.132661       0.867339           0               0\n",
       "9        0.041961       0.958039           0               0\n",
       "10       0.078043       0.921957           0               0\n",
       "11       0.386437       0.613563           0               0\n",
       "12       0.865672       0.134328           1               1\n",
       "13       0.970677       0.029323           1               1"
      ]
     },
     "execution_count": 9,
     "metadata": {},
     "output_type": "execute_result"
    }
   ],
   "source": [
    "datos = pd.DataFrame(data=np.array([probs, 1-probs]).T, columns=['Prob. clase 1', 'Prob. clase 0'])\n",
    "datos['Clase real'] = Y\n",
    "datos['Clase predicha'] = clases\n",
    "datos"
   ]
  },
  {
   "cell_type": "markdown",
   "metadata": {},
   "source": [
    "Asimismo, podemos ver la probabilidad y la clase que se obtienen para cualquier observable que dependa de las variables observables del modelo de regresión logística."
   ]
  },
  {
   "cell_type": "code",
   "execution_count": 10,
   "metadata": {},
   "outputs": [
    {
     "name": "stdout",
     "output_type": "stream",
     "text": [
      "El ejemplo [[1, 1, 0, 0, 1, 1, 1]] tiene:\n",
      "Probabilidad y=1: [0.00318444]; Clase: [0]\n"
     ]
    }
   ],
   "source": [
    "#Un ejemplo de observable\n",
    "ejemplo = [[1,1,0,0,1,1,1]]\n",
    "#Aplicación del modelo\n",
    "cl, p = estimate(ejemplo)\n",
    "\n",
    "print('El ejemplo {} tiene:\\nProbabilidad y=1: {}; Clase: {}'.format(ejemplo, p, cl))"
   ]
  },
  {
   "cell_type": "markdown",
   "metadata": {},
   "source": [
    "### Estado de creencias del modelo\n",
    "\n",
    "Los parámetros $\\theta_i$ determinan los factores del modelo, pero también nos dan información sobre el estado de creecnias del modelo. Pues cada uno de los parámetros está asociado a una variable observable $x_i$; por tanto, entre mayor sea el valor de este $\\theta_i$ para ese observable, mayor será el valor que el modelo le da a este observable para decidir que pertenece a la clase ($y=1$)."
   ]
  },
  {
   "cell_type": "code",
   "execution_count": 11,
   "metadata": {},
   "outputs": [
    {
     "data": {
      "text/html": [
       "<div>\n",
       "<style scoped>\n",
       "    .dataframe tbody tr th:only-of-type {\n",
       "        vertical-align: middle;\n",
       "    }\n",
       "\n",
       "    .dataframe tbody tr th {\n",
       "        vertical-align: top;\n",
       "    }\n",
       "\n",
       "    .dataframe thead th {\n",
       "        text-align: right;\n",
       "    }\n",
       "</style>\n",
       "<table border=\"1\" class=\"dataframe\">\n",
       "  <thead>\n",
       "    <tr style=\"text-align: right;\">\n",
       "      <th></th>\n",
       "      <th>$\\theta_i$</th>\n",
       "    </tr>\n",
       "  </thead>\n",
       "  <tbody>\n",
       "    <tr>\n",
       "      <th>¿es animal?</th>\n",
       "      <td>-1.075021</td>\n",
       "    </tr>\n",
       "    <tr>\n",
       "      <th>¿es mamífero?</th>\n",
       "      <td>2.951767</td>\n",
       "    </tr>\n",
       "    <tr>\n",
       "      <th>¿es felino?</th>\n",
       "      <td>3.277059</td>\n",
       "    </tr>\n",
       "    <tr>\n",
       "      <th>¿es doméstico?</th>\n",
       "      <td>2.325535</td>\n",
       "    </tr>\n",
       "    <tr>\n",
       "      <th>¿tiene dos orejas?</th>\n",
       "      <td>-0.851558</td>\n",
       "    </tr>\n",
       "    <tr>\n",
       "      <th>¿es negro?</th>\n",
       "      <td>-2.006918</td>\n",
       "    </tr>\n",
       "    <tr>\n",
       "      <th>¿tiene cuatro patas?</th>\n",
       "      <td>-1.636412</td>\n",
       "    </tr>\n",
       "    <tr>\n",
       "      <th>$\\theta_0$</th>\n",
       "      <td>-3.128148</td>\n",
       "    </tr>\n",
       "  </tbody>\n",
       "</table>\n",
       "</div>"
      ],
      "text/plain": [
       "                        $\\theta_i$\n",
       "¿es animal?              -1.075021\n",
       " ¿es mamífero?            2.951767\n",
       " ¿es felino?              3.277059\n",
       " ¿es doméstico?           2.325535\n",
       " ¿tiene dos orejas?      -0.851558\n",
       " ¿es negro?              -2.006918\n",
       " ¿tiene cuatro patas?    -1.636412\n",
       " $\\theta_0$              -3.128148"
      ]
     },
     "execution_count": 11,
     "metadata": {},
     "output_type": "execute_result"
    },
    {
     "data": {
      "image/png": "[encoded data removed]",
      "text/plain": [
       "<Figure size 432x288 with 2 Axes>"
      ]
     },
     "metadata": {
      "needs_background": "light"
     },
     "output_type": "display_data"
    }
   ],
   "source": [
    "#DataFrame de los parámetros\n",
    "beliefs = pd.DataFrame(data=np.append(theta,theta0),index=list(data.columns)[:7]+[' $\\theta_0$'],columns=[' $\\theta_i$'])\n",
    "#Mapa de calor\n",
    "heatmap(beliefs, annot=True, cmap='viridis')\n",
    "beliefs"
   ]
  },
  {
   "cell_type": "markdown",
   "metadata": {},
   "source": [
    "  "
   ]
  }
 ],
 "metadata": {
  "kernelspec": {
   "display_name": "Python 3",
   "language": "python",
   "name": "python3"
  },
  "language_info": {
   "codemirror_mode": {
    "name": "ipython",
    "version": 3
   },
   "file_extension": ".py",
   "mimetype": "text/x-python",
   "name": "python",
   "nbconvert_exporter": "python",
   "pygments_lexer": "ipython3",
   "version": "3.8.8"
  }
 },
 "nbformat": 4,
 "nbformat_minor": 4
}
