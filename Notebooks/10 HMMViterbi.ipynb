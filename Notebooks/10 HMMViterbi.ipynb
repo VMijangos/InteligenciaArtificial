{
 "cells": [
  {
   "cell_type": "markdown",
   "metadata": {},
   "source": [
    "# Modelos Ocultos de Markov"
   ]
  },
  {
   "cell_type": "markdown",
   "metadata": {},
   "source": [
    "Podemos entender un modelo oculto de Markov como la tupla: $$HMM = (O, S, A, \\Pi, B)$$ donde $O$ es el alfabeto de observaciones, $S$ el alfabeto de emisiones, $(A, \\Pi)$ un modelo del lenguaje sobre $S$ y, finalmente, $B$ la matriz de probabilidades de emisión.\n",
    "\n",
    "Para construir este modelo necesitaremos diferentes librerías:"
   ]
  },
  {
   "cell_type": "code",
   "execution_count": 1,
   "metadata": {},
   "outputs": [],
   "source": [
    "from collections import Counter, defaultdict\n",
    "from itertools import chain\n",
    "import numpy as np\n",
    "from pickle import dump\n",
    "\n",
    "#Funcion que crea un vocabulario de palabras con un indice numerico\n",
    "def vocab():\n",
    "    vocab = defaultdict()\n",
    "    vocab.default_factory = lambda: len(vocab)\n",
    "    return vocab    \n",
    "\n",
    "#Funcion que pasa la cadena de simbolos a una secuencia con indices numericos\n",
    "def text2numba(corpus, vocab):\n",
    "    for doc in corpus:\n",
    "        yield [vocab[w] for w in doc.strip().split()]"
   ]
  },
  {
   "cell_type": "markdown",
   "metadata": {},
   "source": [
    "La idea es encontrar una función que sea capaz de mapear cadenas en un lenguaje $L_1$ a un lenguaje $L_2$. En este sentido, el primer lenguaje es el español y el segundo corresponde a las cadenas de etiqeutas POS."
   ]
  },
  {
   "cell_type": "code",
   "execution_count": 2,
   "metadata": {
    "scrolled": false
   },
   "outputs": [],
   "source": [
    "obs = ['el salto de altura', 'yo salto la cuerda', \n",
    "         'ellos tomaban vino', 'ellos saltaban la cuerda']\n",
    "ems = ['DA NC PP NC', 'DP V DA NC', 'DP V NC', 'DP V DA NC']"
   ]
  },
  {
   "cell_type": "markdown",
   "metadata": {},
   "source": [
    "## Obtención de los vocabularios (alfabetos)\n",
    "\n",
    "Ahora tenemos que indicar cuáles son las observaciones y cuáles los símbolos de emisión. Asimimso, asignaremos sus frecuencias y las probabilidades iniciales."
   ]
  },
  {
   "cell_type": "code",
   "execution_count": 3,
   "metadata": {},
   "outputs": [
    {
     "name": "stdout",
     "output_type": "stream",
     "text": [
      "defaultdict(<function vocab.<locals>.<lambda> at 0x7fe57c062790>, {'el': 0, 'salto': 1, 'de': 2, 'altura': 3, 'yo': 4, 'la': 5, 'cuerda': 6, 'ellos': 7, 'tomaban': 8, 'vino': 9, 'saltaban': 10})\n"
     ]
    }
   ],
   "source": [
    "#Vocabulario de observaciones\n",
    "obs_voc = vocab()\n",
    "obs_cads = list(text2numba(obs,obs_voc))\n",
    "print(obs_voc)"
   ]
  },
  {
   "cell_type": "code",
   "execution_count": 4,
   "metadata": {},
   "outputs": [
    {
     "name": "stdout",
     "output_type": "stream",
     "text": [
      "defaultdict(<function vocab.<locals>.<lambda> at 0x7fe50123cf70>, {'DA': 0, 'NC': 1, 'PP': 2, 'DP': 3, 'V': 4})\n"
     ]
    }
   ],
   "source": [
    "#Vocabulario de emisiones\n",
    "ems_voc = vocab()\n",
    "ems_cads = list(text2numba(ems,ems_voc))\n",
    "print(ems_voc)"
   ]
  },
  {
   "cell_type": "markdown",
   "metadata": {},
   "source": [
    "Para obtener la matriz $B$ de probabilidades de emisión, requerimos saber que observaciones son generadas por qué emisiones. Para esto obtendremos pares de la forma $(o_i,s_j)$ con $o_i \\in O$ y $s_j \\in S)$. Esto es, si la observación $o_i$ está etiquetado con la emisión $s_i$ entonces lo tomaremos como un par de este conjunto."
   ]
  },
  {
   "cell_type": "code",
   "execution_count": 5,
   "metadata": {},
   "outputs": [
    {
     "name": "stdout",
     "output_type": "stream",
     "text": [
      "[(0, 0), (1, 1), (2, 2), (3, 1), (4, 3), (1, 4), (5, 0), (6, 1), (7, 3), (8, 4), (9, 1), (7, 3), (10, 4), (5, 0), (6, 1)]\n"
     ]
    }
   ],
   "source": [
    "#Pares de observaciones y sus etiquetas\n",
    "obs_ems = list(chain(*[list(zip(c[0],c[1])) for c in zip(obs_cads,ems_cads)]))\n",
    "print(obs_ems)"
   ]
  },
  {
   "cell_type": "markdown",
   "metadata": {},
   "source": [
    "Asimismo, para crear el modelo del lenguaje sobre $S$ requerimos llenar la matriz $A$ y el vector $\\Pi$, para esto, a cada cadena de símbolos de emisión se le agregan los símbolos de inicio (BOS) y final (BOS)."
   ]
  },
  {
   "cell_type": "code",
   "execution_count": 6,
   "metadata": {},
   "outputs": [
    {
     "name": "stdout",
     "output_type": "stream",
     "text": [
      "[[6, 0, 1, 2, 1, 5], [6, 3, 4, 0, 1, 5], [6, 3, 4, 1, 5], [6, 3, 4, 0, 1, 5]]\n"
     ]
    }
   ],
   "source": [
    "#Indicamos las etiquetas a usar\n",
    "EOS = '<EOS>'\n",
    "BOS = '<BOS>'\n",
    "\n",
    "#Cada etiqeuta se le asigna un indice numerico\n",
    "BOS_IDX = max(ems_voc.values())+2\n",
    "EOS_IDX = max(ems_voc.values())+1\n",
    "\n",
    "#Se agregan estas etiqeutas al vocabulario\n",
    "ems_voc[EOS] = EOS_IDX\n",
    "ems_voc[BOS] = BOS_IDX\n",
    "\n",
    "#A cada cadena se le agrega la etiqueta BOS al inicio y EOS al final\n",
    "ems_cads = [[BOS_IDX] + cad + [EOS_IDX] for cad in ems_cads]\n",
    "\n",
    "emsID = {v:k for k,v in ems_voc.items()}\n",
    "\n",
    "print(ems_cads)"
   ]
  },
  {
   "cell_type": "markdown",
   "metadata": {},
   "source": [
    "A partir de las cadenas de emisiones (que pertenencen a $S^*$) obtenemos los bigramas que se atestiguaron en el corpus."
   ]
  },
  {
   "cell_type": "code",
   "execution_count": 7,
   "metadata": {},
   "outputs": [
    {
     "name": "stdout",
     "output_type": "stream",
     "text": [
      "[(6, 0), (0, 1), (1, 2), (2, 1), (1, 5), (6, 3), (3, 4), (4, 0), (0, 1), (1, 5), (6, 3), (3, 4), (4, 1), (1, 5), (6, 3), (3, 4), (4, 0), (0, 1), (1, 5)]\n"
     ]
    }
   ],
   "source": [
    "#Bigramas a partir de las cadenas de emisiones\n",
    "ems_bigrams = list(chain(*[ zip(cad,cad[1:]) for cad in ems_cads] ))\n",
    "print(ems_bigrams)"
   ]
  },
  {
   "cell_type": "markdown",
   "metadata": {},
   "source": [
    "## Estimación del modelo oculto de Markov\n",
    "\n",
    "Una vez obtenido los vocabularios, así como sus indices, así como los pares de observaciones y sus emisiones y los bigramas de emisiones, podemos determinar el modelo; es decir, estimaremos las probabilidades que llenarán las marices $A$, $\\Pi$ y $B$."
   ]
  },
  {
   "cell_type": "code",
   "execution_count": 8,
   "metadata": {},
   "outputs": [],
   "source": [
    "#Longitud del vocabulario de emisiones\n",
    "N = len(ems_voc)\n",
    "#Longitud del vocabulario de observaciones\n",
    "M = len(obs_voc)\n",
    "\n",
    "#ems language model\n",
    "Pi = np.zeros(N-2)\n",
    "A = np.zeros((N-2,N-1))\n",
    "\n",
    "#Prob ems\n",
    "B = np.zeros((M,N-2))"
   ]
  },
  {
   "cell_type": "markdown",
   "metadata": {},
   "source": [
    "Para obtener el modelo del lenguaje sobre $S$ estimaremos los siguientes elementos:\n",
    "* La matriz de transiciones:\n",
    "\n",
    "$$A=(a_{ij}) = p(s_j|s_i)  = \\frac{\\#(s_i s_j)+1}{\\#(s_i) + N}$$\n",
    "\n",
    "* El vector de iniciales:\n",
    "\n",
    "$$\\Pi = (\\pi_{i}) = p(s_i|<BOS>) = \\frac{\\#(<BOS> s_i)+1}{\\#(<BOS>)+N}$$"
   ]
  },
  {
   "cell_type": "code",
   "execution_count": 9,
   "metadata": {},
   "outputs": [],
   "source": [
    "#Frecuencia de bigramas de emisiones\n",
    "frec_ems = Counter(ems_bigrams)\n",
    "\n",
    "#Llenado de las frecuencias\n",
    "for em, frec_em in frec_ems.items():\n",
    "    if em[0] == BOS_IDX:\n",
    "        Pi[em[1]] = frec_em\n",
    "    else:\n",
    "        A[em] = frec_em"
   ]
  },
  {
   "cell_type": "code",
   "execution_count": 10,
   "metadata": {},
   "outputs": [],
   "source": [
    "#Sommothing\n",
    "A = ((A.T+1)/(A+1).sum(1)).T\n",
    "Pi = (Pi+1)/(Pi+1).sum(0)"
   ]
  },
  {
   "cell_type": "code",
   "execution_count": 11,
   "metadata": {},
   "outputs": [
    {
     "name": "stdout",
     "output_type": "stream",
     "text": [
      "[1. 1. 1. 1. 1.]\n",
      "1.0\n"
     ]
    }
   ],
   "source": [
    "#Comprobar que las sumas sean 1\n",
    "print(A.sum(1))\n",
    "print(Pi.sum(0))"
   ]
  },
  {
   "cell_type": "markdown",
   "metadata": {},
   "source": [
    "Para obtener la matriz $B$, usaremos la siguiente función:\n",
    "\n",
    "$$B = (b_{ij}) = p(o_j|s_i) = \\frac{\\#(o_j, s_i)+1}{\\#(s_i)+M}$$"
   ]
  },
  {
   "cell_type": "code",
   "execution_count": 12,
   "metadata": {},
   "outputs": [],
   "source": [
    "#Frecuencia de pares de observaciones y emisiones\n",
    "frec_obs = Counter(obs_ems)\n",
    "\n",
    "#Llenado con las frecuencias\n",
    "for ob, frec_ob in frec_obs.items():\n",
    "    B[ob] = frec_ob"
   ]
  },
  {
   "cell_type": "code",
   "execution_count": 13,
   "metadata": {},
   "outputs": [],
   "source": [
    "#Smoothing\n",
    "B = ((B+1).T/(B+1).sum(1)).T"
   ]
  },
  {
   "cell_type": "code",
   "execution_count": 14,
   "metadata": {},
   "outputs": [
    {
     "name": "stdout",
     "output_type": "stream",
     "text": [
      "[1. 1. 1. 1. 1. 1. 1. 1. 1. 1. 1.]\n"
     ]
    }
   ],
   "source": [
    "#Comprobar que se sume 1\n",
    "print(B.sum(1))"
   ]
  },
  {
   "cell_type": "markdown",
   "metadata": {},
   "source": [
    "## Calculo de probabilidades\n",
    "\n",
    "El modelo oculto de Markov (HMM) que hemos estimado permite el cálculo de diferentes probabilidades. En primer lugar, nos permite calcular probabilidades como en un modelo del lenguaje sobre las etiquetas $S$."
   ]
  },
  {
   "cell_type": "code",
   "execution_count": 15,
   "metadata": {},
   "outputs": [],
   "source": [
    "def prob_cad(string):\n",
    "    #Separar\n",
    "    seq = string.split()\n",
    "    #Prob inicial\n",
    "    p = Pi[ems_voc[seq[0]]]\n",
    "    \n",
    "    #Probs de transición\n",
    "    for i in range(len(seq)):\n",
    "        if i != len(seq)-1:\n",
    "            p *= A[ ems_voc[seq[i]], ems_voc[seq[i+1]] ]\n",
    "        else:\n",
    "            pass\n",
    "    \n",
    "    return p"
   ]
  },
  {
   "cell_type": "code",
   "execution_count": 16,
   "metadata": {},
   "outputs": [
    {
     "name": "stdout",
     "output_type": "stream",
     "text": [
      "0.008978675645342311\n"
     ]
    }
   ],
   "source": [
    "print(prob_cad('DA NC V'))"
   ]
  },
  {
   "cell_type": "markdown",
   "metadata": {},
   "source": [
    "Asimismo, nos puede ayudar a predecir cuál es el elemento siguiente en una cadena, dada la historia."
   ]
  },
  {
   "cell_type": "code",
   "execution_count": 17,
   "metadata": {},
   "outputs": [],
   "source": [
    "def next_word(string):\n",
    "    #Palabras en la cadena\n",
    "    sent = [ems_voc[w] for w in string.split()]\n",
    "    #Los elementos previos\n",
    "    prev_gram = sent[-1]\n",
    "    #Se obtiene probabilidad d ela cadena previa\n",
    "    p = prob_cad(string)\n",
    "    #Se obtienen las probabilidades de los elementps subsiguientes\n",
    "    #Se obtiene el máximo de estas probabilidades\n",
    "    next = np.argmax(p*A[prev_gram])\n",
    "    \n",
    "    return emsID[next]"
   ]
  },
  {
   "cell_type": "code",
   "execution_count": 18,
   "metadata": {},
   "outputs": [
    {
     "name": "stdout",
     "output_type": "stream",
     "text": [
      "DA\n"
     ]
    }
   ],
   "source": [
    "print(next_word('DA NC V'))"
   ]
  },
  {
   "cell_type": "markdown",
   "metadata": {},
   "source": [
    "Más aún, podemos utilizar las propiedades del grafo que definen para obtener la probabilidad:"
   ]
  },
  {
   "cell_type": "markdown",
   "metadata": {},
   "source": [
    "$$p(s_1,...,s_T|o_1,...,o_T) \\propto p(s_1)\\prod_{t=2}^T p(o_t|s_t)p(s_t|s_{t-1})$$"
   ]
  },
  {
   "cell_type": "code",
   "execution_count": 19,
   "metadata": {},
   "outputs": [],
   "source": [
    "ej_text = 'yo salto la cuerda'\n",
    "ej_tags = 'DP V DA NC'"
   ]
  },
  {
   "cell_type": "code",
   "execution_count": 20,
   "metadata": {},
   "outputs": [
    {
     "name": "stdout",
     "output_type": "stream",
     "text": [
      "[('DP', 'V'), ('V', 'DA'), ('DA', 'NC')]\n",
      "[('yo', 'DP'), ('salto', 'V'), ('la', 'DA'), ('cuerda', 'NC')]\n"
     ]
    }
   ],
   "source": [
    "transit = list(zip( ej_tags.split(),ej_tags.split()[1:] ))\n",
    "ejemplo = list(zip( ej_text.split(),ej_tags.split() ))\n",
    "\n",
    "print(transit)\n",
    "print(ejemplo)"
   ]
  },
  {
   "cell_type": "code",
   "execution_count": 21,
   "metadata": {},
   "outputs": [],
   "source": [
    "import networkx as nx \n",
    "import matplotlib.pyplot as plt\n",
    "\n",
    "G1 = nx.Graph()\n",
    "G1.add_edges_from(ejemplo+transit)"
   ]
  },
  {
   "cell_type": "code",
   "execution_count": 22,
   "metadata": {},
   "outputs": [
    {
     "data": {
      "image/png": "[encoded data removed]",
      "text/plain": [
       "<Figure size 432x288 with 1 Axes>"
      ]
     },
     "metadata": {},
     "output_type": "display_data"
    }
   ],
   "source": [
    "nx.draw_spectral(G1, with_labels=True, node_size=1)\n",
    "plt.show()"
   ]
  },
  {
   "cell_type": "markdown",
   "metadata": {},
   "source": [
    "También, dado una secuencia de observaciones, podemos estimar la mejor secuencia de etiquetas a partir de:\n",
    "\n",
    "$$\\arg\\max_{s_1,...,s_N} p(s_1)\\prod_{t=2}^T p(o_t|s_t)p(s_t|s_{t-1})$$"
   ]
  },
  {
   "cell_type": "code",
   "execution_count": 23,
   "metadata": {
    "scrolled": true
   },
   "outputs": [],
   "source": [
    "def prob_conj(text, tags):\n",
    "    tags_bigrs = list(zip( tags.split(), tags.split()[1:] ))\n",
    "    text_pairs = list(zip( text.split(), tags.split() ))\n",
    "    p = Pi[ ems_voc[tags_bigrs[0][0]] ]\n",
    "    \n",
    "    for bi in tags_bigrs:\n",
    "        p *= A[ ems_voc[bi[0]], ems_voc[bi[1]] ]\n",
    "        \n",
    "    for t in text_pairs:\n",
    "        p *= B[ obs_voc[t[0]], ems_voc[t[1]] ]\n",
    "    \n",
    "    return p"
   ]
  },
  {
   "cell_type": "code",
   "execution_count": 24,
   "metadata": {},
   "outputs": [
    {
     "name": "stdout",
     "output_type": "stream",
     "text": [
      "0.0005119037620927265\n"
     ]
    }
   ],
   "source": [
    "print(prob_conj(ej_text,ej_tags))"
   ]
  },
  {
   "cell_type": "markdown",
   "metadata": {},
   "source": [
    "Cómo obtener el mejor etiquetado dado una secuencia de observaciones."
   ]
  },
  {
   "cell_type": "code",
   "execution_count": 25,
   "metadata": {},
   "outputs": [
    {
     "name": "stdout",
     "output_type": "stream",
     "text": [
      "390625\n",
      "[('DA', 'DA', 'DA', 'DA', 'DA', 'DA', 'DA', 'DA'), ('DA', 'DA', 'DA', 'DA', 'DA', 'DA', 'DA', 'NC'), ('DA', 'DA', 'DA', 'DA', 'DA', 'DA', 'DA', 'PP'), ('DA', 'DA', 'DA', 'DA', 'DA', 'DA', 'DA', 'DP'), ('DA', 'DA', 'DA', 'DA', 'DA', 'DA', 'DA', 'V')]\n"
     ]
    }
   ],
   "source": [
    "from itertools import product\n",
    "\n",
    "text1 = 'yo salto el salto de altura ellos saltaban'\n",
    "\n",
    "candidatos = list(product( list(ems_voc.keys())[:-2], repeat=len(text1.split()) ))\n",
    "print(len(candidatos))\n",
    "print(candidatos[:5])"
   ]
  },
  {
   "cell_type": "code",
   "execution_count": 26,
   "metadata": {},
   "outputs": [
    {
     "name": "stdout",
     "output_type": "stream",
     "text": [
      "yo salto el salto de altura ellos saltaban\n",
      "('DP', 'V', 'DA', 'NC', 'PP', 'NC', 'DP', 'V')\n",
      "CPU times: user 4.24 s, sys: 4.62 ms, total: 4.25 s\n",
      "Wall time: 4.25 s\n"
     ]
    }
   ],
   "source": [
    "%%time\n",
    "#Guarda los candidatos\n",
    "temp = np.zeros(len(candidatos))\n",
    "\n",
    "#Obtiene la probabilidad para todos los candidatos\n",
    "for i,cand in enumerate(candidatos):\n",
    "    cand_tags = ' '.join(cand)\n",
    "    temp[i] = prob_conj(text1, cand_tags )\n",
    "\n",
    "#El candidato que maximiza la probabilidad\n",
    "ArgMax = np.argmax(temp)\n",
    "\n",
    "print(text1)\n",
    "print(candidatos[ArgMax])"
   ]
  },
  {
   "cell_type": "markdown",
   "metadata": {},
   "source": [
    "## Aplicación del algoritmo de Viterbi"
   ]
  },
  {
   "cell_type": "code",
   "execution_count": 27,
   "metadata": {},
   "outputs": [
    {
     "data": {
      "image/png": "[encoded data removed]",
      "text/plain": [
       "<Figure size 432x288 with 1 Axes>"
      ]
     },
     "metadata": {},
     "output_type": "display_data"
    }
   ],
   "source": [
    "from itertools import combinations\n",
    "\n",
    "edges = []\n",
    "for t,w in enumerate(text1.split()):\n",
    "    conn = [(s+str(t),w) for s in ems_voc]\n",
    "    edges.append(conn)\n",
    "    \n",
    "    edges.append( [(s+str(t),st+str(t+1)) for s,st in combinations(ems_voc,2)] )\n",
    "    \n",
    "edges = list( chain(*edges) )\n",
    "graph = nx.Graph()\n",
    "graph.add_edges_from(edges)\n",
    "\n",
    "nx.draw(graph, with_labels=True, node_size=1)\n",
    "plt.show()"
   ]
  },
  {
   "cell_type": "code",
   "execution_count": 28,
   "metadata": {},
   "outputs": [],
   "source": [
    "tags = {v:k for k,v in ems_voc.items()}"
   ]
  },
  {
   "cell_type": "code",
   "execution_count": 29,
   "metadata": {},
   "outputs": [
    {
     "name": "stdout",
     "output_type": "stream",
     "text": [
      "Texto orig: yo salto el salto de altura ellos saltaban\n",
      "Viterbi: ['DP', 'V', 'DA', 'NC', 'PP', 'NC', 'DP', 'V']\n",
      "CPU times: user 1.11 ms, sys: 249 µs, total: 1.36 ms\n",
      "Wall time: 820 µs\n"
     ]
    }
   ],
   "source": [
    "%%time\n",
    "#Inicialización\n",
    "obs_text = text1.split()\n",
    "d = np.zeros((len(obs_text),len(ems_voc)-2))\n",
    "d[0] = Pi*B[ obs_voc[obs_text[0]] ]\n",
    "\n",
    "phi = np.zeros((len(obs_text),len(ems_voc)-2))\n",
    "\n",
    "for t,o in enumerate(obs_text):\n",
    "    probs = A[:,:-1]*np.outer(B[obs_voc[o]],d[t])\n",
    "    phi[t] = np.argmax(probs,axis=0)\n",
    "    \n",
    "    if t != len(obs_text)-1:\n",
    "        d[t+1] = np.max(probs,axis=0)\n",
    "\n",
    "    \n",
    "#print(d,phi)\n",
    "\n",
    "#BACKWARD\n",
    "tags_prop = []\n",
    "for j in range(len(obs_text)):\n",
    "    T = len(obs_text)-j-1\n",
    "    if j == 0:\n",
    "        tags_prop.append(np.argmax( d[T]))\n",
    "    else:        \n",
    "        tags_prop.append( int(phi[T][tags_prop[j-1]]) )\n",
    "  \n",
    "print('Texto orig:',text1)\n",
    "print('Viterbi:', [tags[w] for w in tags_prop][::-1])   \n",
    "#print('Combinar:',candidatos[ArgMax])"
   ]
  },
  {
   "cell_type": "markdown",
   "metadata": {},
   "source": [
    "# Etiquetado POS con NLTK\n",
    "\n",
    "Las bibliotecas de sklearn y nltk cuentan con el algoritmo de HMM. En particular nos enfocamos a nltk ya que esta paquetería se orienta al etiquetado de secuencias de texto. También utilizamos un corpus con sentencias que ya cuentan con etiquetado POS para entrenar el modelo; este es el corpus CESS."
   ]
  },
  {
   "cell_type": "code",
   "execution_count": 30,
   "metadata": {},
   "outputs": [],
   "source": [
    "from nltk.tag import hmm\n",
    "from nltk.corpus import cess_esp\n",
    "from nltk.stem import SnowballStemmer\n",
    "from sklearn.model_selection import train_test_split\n",
    "from sklearn.metrics import classification_report\n",
    "#from pickle import dump\n",
    "from tqdm import tqdm\n",
    "\n",
    "#Determinación de un stemmer\n",
    "stemmer = SnowballStemmer('spanish')"
   ]
  },
  {
   "cell_type": "markdown",
   "metadata": {},
   "source": [
    "### Obtención de los datos\n",
    "\n",
    "Contaremos con el corpus etiquetado CESS, el cual dividiremos en dos partes: 1) el corpus de entrenamiento (70\\%); y 2) el corpus de evaluación (30\\%)."
   ]
  },
  {
   "cell_type": "code",
   "execution_count": 31,
   "metadata": {},
   "outputs": [
    {
     "name": "stdout",
     "output_type": "stream",
     "text": [
      "[('el', 'da'), ('grup', 'nc'), ('estatal', 'aq'), ('electricite_de_franc', 'np'), ('edf', 'np'), ('anunc', 'vm'), ('hoy', 'rg'), ('juev', 'W'), ('la', 'da'), ('compr', 'nc'), ('del', 'sp'), ('51_por_cient', 'Zp'), ('de', 'sp'), ('la', 'da'), ('empres', 'nc'), ('mexican', 'aq'), ('electricidad_aguila_de_altamir', 'np'), ('eaa', 'np'), ('cre', 'aq'), ('por', 'sp'), ('el', 'da'), ('japones', 'aq'), ('mitsubishi_corporation', 'np'), ('par', 'sp'), ('poner_en_march', 'vm'), ('una', 'di'), ('central', 'nc'), ('de', 'sp'), ('gas', 'nc'), ('de', 'sp'), ('495', 'Z'), ('megavati', 'nc')]\n",
      "4211 1805\n"
     ]
    }
   ],
   "source": [
    "#Carga el corpus de oraciones etiquetadas\n",
    "corpus = cess_esp.tagged_sents()\n",
    "#Elimina signos de puntuación y se fija que no haya sentencias vacías\n",
    "#recorta las etiquetas a la información de las 2 primeras posiciones\n",
    "corpus = [[(stemmer.stem(token[0]), token[1][:2]) for token in sent if token[1][:1] != 'F'] for sent in corpus]\n",
    "#Elimina oraciones vacías\n",
    "corpus = [sent for sent in corpus if sent != []]\n",
    "\n",
    "#Dividimos en evaluación y entrenamiento\n",
    "train_data, test_data = train_test_split(corpus, test_size=0.3)\n",
    "\n",
    "print(corpus[0])\n",
    "print(len(train_data), len(test_data))"
   ]
  },
  {
   "cell_type": "markdown",
   "metadata": {},
   "source": [
    "### Entrenamiento\n",
    "\n",
    "En el caso del entrenamiento determinaremos el modelo oculto de Markov; en el caso de nltk este proceso es muy sencillo:"
   ]
  },
  {
   "cell_type": "code",
   "execution_count": 32,
   "metadata": {},
   "outputs": [],
   "source": [
    "#Genera el modelo\n",
    "HMM = hmm.HiddenMarkovModelTrainer()\n",
    "#Entrena el modelo\n",
    "POStagger = HMM.train_supervised(train_data)"
   ]
  },
  {
   "cell_type": "markdown",
   "metadata": {},
   "source": [
    "### Evaluación\n",
    "\n",
    "Finalmente evaluaremos sobre el corpus de evaluación, aplicaremos el modelo para etiquetar este corpus y veremos qué tan bien lo hace:"
   ]
  },
  {
   "cell_type": "code",
   "execution_count": 33,
   "metadata": {},
   "outputs": [
    {
     "name": "stderr",
     "output_type": "stream",
     "text": [
      "100%|██████████| 1805/1805 [00:13<00:00, 133.77it/s]\n"
     ]
    }
   ],
   "source": [
    "#Etiquetas reales\n",
    "Y = []\n",
    "#Etiquetas predichas\n",
    "Y_pred = []\n",
    "for test_sent in tqdm(test_data):\n",
    "    #Observaciones y emisiones\n",
    "    x,y = zip(*test_sent)\n",
    "    #Predicción\n",
    "    y_pred = POStagger.tag(list(x))\n",
    "    \n",
    "    #Guarda las etiquetas\n",
    "    Y.append(list(y))\n",
    "    Y_pred.append([tag[1] for tag in y_pred])"
   ]
  },
  {
   "cell_type": "markdown",
   "metadata": {},
   "source": [
    "Utilizamos un rpeorte de clasificación para observar la calidad de los datos."
   ]
  },
  {
   "cell_type": "code",
   "execution_count": 34,
   "metadata": {},
   "outputs": [
    {
     "name": "stderr",
     "output_type": "stream",
     "text": [
      "/home/mijangos/.local/lib/python3.8/site-packages/sklearn/metrics/_classification.py:1221: UndefinedMetricWarning: Precision and F-score are ill-defined and being set to 0.0 in labels with no predicted samples. Use `zero_division` parameter to control this behavior.\n",
      "  _warn_prf(average, modifier, msg_start, len(result))\n"
     ]
    },
    {
     "name": "stdout",
     "output_type": "stream",
     "text": [
      "              precision    recall  f1-score   support\n",
      "\n",
      "           I       0.00      0.00      0.00         1\n",
      "           W       0.88      0.29      0.44       263\n",
      "           Y       0.00      0.00      0.00         1\n",
      "           Z       0.98      0.32      0.48       403\n",
      "          Zm       0.78      0.19      0.31        73\n",
      "          Zp       1.00      0.20      0.33        75\n",
      "          ao       0.98      0.51      0.67       217\n",
      "          aq       0.82      0.38      0.52      3935\n",
      "          cc       0.98      0.47      0.63      1737\n",
      "          cs       0.87      0.55      0.67      1376\n",
      "          da       0.99      0.56      0.72      5530\n",
      "          dd       0.95      0.59      0.73       342\n",
      "          de       0.00      0.00      0.00         3\n",
      "          di       0.96      0.53      0.68      1525\n",
      "          dn       0.81      0.51      0.62       225\n",
      "          dp       0.99      0.53      0.69       617\n",
      "          dt       0.00      0.00      0.00         7\n",
      "           i       0.50      0.07      0.12        14\n",
      "          nc       0.93      0.47      0.62     10209\n",
      "          np       0.11      0.96      0.20      2941\n",
      "          p0       0.97      0.54      0.70       589\n",
      "          pd       0.98      0.74      0.85        78\n",
      "          pi       0.86      0.47      0.61       247\n",
      "          pn       0.89      0.55      0.68        56\n",
      "          pp       0.89      0.56      0.69       503\n",
      "          pr       0.91      0.42      0.58      1075\n",
      "          pt       0.64      0.14      0.23        49\n",
      "          px       1.00      0.22      0.36         9\n",
      "          rg       0.91      0.51      0.66      1816\n",
      "          rn       0.98      0.64      0.77       394\n",
      "          sn       1.00      0.59      0.74      1194\n",
      "          sp       0.99      0.51      0.68      8710\n",
      "          va       1.00      0.57      0.73       546\n",
      "          vm       0.89      0.51      0.65      5453\n",
      "          vs       0.99      0.63      0.77       706\n",
      "\n",
      "    accuracy                           0.53     50919\n",
      "   macro avg       0.78      0.42      0.52     50919\n",
      "weighted avg       0.89      0.53      0.62     50919\n",
      "\n"
     ]
    }
   ],
   "source": [
    "print(classification_report(list(chain(*Y)), list(chain(*Y_pred))))"
   ]
  },
  {
   "cell_type": "markdown",
   "metadata": {},
   "source": [
    "Podemos también observar su calidad para casos particulares."
   ]
  },
  {
   "cell_type": "code",
   "execution_count": 35,
   "metadata": {},
   "outputs": [
    {
     "name": "stdout",
     "output_type": "stream",
     "text": [
      "el\tda\n",
      "gobiern\tnc\n",
      "de\tsp\n",
      "mexic\tnp\n"
     ]
    }
   ],
   "source": [
    "#Función de pre-procesamiento\n",
    "process = lambda sent: [stemmer.stem(w) for w in sent.split()]\n",
    "#Oración a etiquetar\n",
    "sentence = 'el gobierno de México'\n",
    "#Etiquetado\n",
    "for w,t in POStagger.tag(process(sentence)):\n",
    "    print('{}\\t{}'.format(w,t))"
   ]
  },
  {
   "cell_type": "markdown",
   "metadata": {},
   "source": [
    "    "
   ]
  }
 ],
 "metadata": {
  "kernelspec": {
   "display_name": "Python 3",
   "language": "python",
   "name": "python3"
  },
  "language_info": {
   "codemirror_mode": {
    "name": "ipython",
    "version": 3
   },
   "file_extension": ".py",
   "mimetype": "text/x-python",
   "name": "python",
   "nbconvert_exporter": "python",
   "pygments_lexer": "ipython3",
   "version": "3.8.8"
  }
 },
 "nbformat": 4,
 "nbformat_minor": 1
}
