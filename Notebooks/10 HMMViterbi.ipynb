{
 "cells": [
  {
   "cell_type": "markdown",
   "metadata": {},
   "source": [
    "# Algoritmo de Viterbi para HMMs"
   ]
  },
  {
   "cell_type": "markdown",
   "metadata": {},
   "source": [
    "Podemos entender un modelo oculto de Markov como la tupla: $$HMM = (\\Sigma, S, A, \\Pi, B)$$ donde $\\Sigma$ es el alfabeto de observaciones, $S$ el alfabeto de emisiones, $(A, \\Pi)$ un modelo del lenguaje sobre $S$ y, finalmente, $B$ la matriz de probabilidades de emisión.\n",
    "\n",
    "Para construir este modelo necesitaremos diferentes librerías:"
   ]
  },
  {
   "cell_type": "code",
   "execution_count": 1,
   "metadata": {},
   "outputs": [],
   "source": [
    "from collections import Counter, defaultdict\n",
    "from itertools import chain\n",
    "import numpy as np\n",
    "import matplotlib.pyplot as plt\n",
    "import pandas as pd\n",
    "import networkx as nx\n",
    "\n",
    "#Funcion que crea un vocabulario de palabras con un indice numerico\n",
    "def vocab():\n",
    "    vocab = defaultdict()\n",
    "    vocab.default_factory = lambda: len(vocab)\n",
    "    return vocab    \n",
    "\n",
    "#Funcion que pasa la cadena de simbolos a una secuencia con indices numericos\n",
    "def text2numba(corpus, vocab):\n",
    "    for doc in corpus:\n",
    "        yield [vocab[w] for w in doc.strip().split()]"
   ]
  },
  {
   "cell_type": "markdown",
   "metadata": {},
   "source": [
    "La idea es encontrar una función que sea capaz de mapear cadenas en un lenguaje $L_1$ a un lenguaje $L_2$. En este sentido, el primer lenguaje es el español y el segundo corresponde a las cadenas de etiqeutas POS."
   ]
  },
  {
   "cell_type": "code",
   "execution_count": 2,
   "metadata": {
    "scrolled": false
   },
   "outputs": [],
   "source": [
    "obs = ['el salto de altura', 'yo salto la cuerda', \n",
    "         'ellos tomaban vino', 'ellos saltaban la cuerda', 'ellos saltaban el salto',\n",
    "      'yo salto']\n",
    "ems = ['DA NC PP NC', 'DP V DA NC', 'DP V NC', 'DP V DA NC', 'DP V DA NC', 'DP V']"
   ]
  },
  {
   "cell_type": "markdown",
   "metadata": {},
   "source": [
    "## Obtención de los vocabularios (alfabetos)\n",
    "\n",
    "Ahora tenemos que indicar cuáles son las observaciones y cuáles los símbolos de emisión. Asimimso, asignaremos sus frecuencias y las probabilidades iniciales."
   ]
  },
  {
   "cell_type": "code",
   "execution_count": 3,
   "metadata": {},
   "outputs": [
    {
     "name": "stdout",
     "output_type": "stream",
     "text": [
      "defaultdict(<function vocab.<locals>.<lambda> at 0x7f5e8f3eb700>, {'el': 0, 'salto': 1, 'de': 2, 'altura': 3, 'yo': 4, 'la': 5, 'cuerda': 6, 'ellos': 7, 'tomaban': 8, 'vino': 9, 'saltaban': 10})\n"
     ]
    }
   ],
   "source": [
    "#Vocabulario de observaciones\n",
    "obs_voc = vocab()\n",
    "obs_cads = list(text2numba(obs,obs_voc))\n",
    "print(obs_voc)"
   ]
  },
  {
   "cell_type": "code",
   "execution_count": 4,
   "metadata": {},
   "outputs": [
    {
     "name": "stdout",
     "output_type": "stream",
     "text": [
      "defaultdict(<function vocab.<locals>.<lambda> at 0x7f5e8c35bc10>, {'DA': 0, 'NC': 1, 'PP': 2, 'DP': 3, 'V': 4})\n"
     ]
    }
   ],
   "source": [
    "#Vocabulario de emisiones\n",
    "ems_voc = vocab()\n",
    "ems_cads = list(text2numba(ems,ems_voc))\n",
    "print(ems_voc)"
   ]
  },
  {
   "cell_type": "markdown",
   "metadata": {},
   "source": [
    "Para obtener la matriz $B$ de probabilidades de emisión, requerimos saber que observaciones son generadas por qué emisiones. Para esto obtendremos pares de la forma $(o_i,s_j)$ con $o_i \\in \\Sigma$ y $s_j \\in S)$. Esto es, si la observación $o_i$ está etiquetado con la emisión $s_i$ entonces lo tomaremos como un par de este conjunto."
   ]
  },
  {
   "cell_type": "code",
   "execution_count": 5,
   "metadata": {},
   "outputs": [
    {
     "name": "stdout",
     "output_type": "stream",
     "text": [
      "[(0, 0), (1, 1), (2, 2), (3, 1), (4, 3), (1, 4), (5, 0), (6, 1), (7, 3), (8, 4), (9, 1), (7, 3), (10, 4), (5, 0), (6, 1), (7, 3), (10, 4), (0, 0), (1, 1), (4, 3), (1, 4)]\n"
     ]
    }
   ],
   "source": [
    "#Pares de observaciones y sus etiquetas\n",
    "obs_ems = list(chain(*[list(zip(c[0],c[1])) for c in zip(obs_cads,ems_cads)]))\n",
    "print(obs_ems)"
   ]
  },
  {
   "cell_type": "code",
   "execution_count": 6,
   "metadata": {},
   "outputs": [],
   "source": [
    "#Obtención de las etiquetas\n",
    "tags = {v:k for k,v in ems_voc.items()}"
   ]
  },
  {
   "cell_type": "markdown",
   "metadata": {},
   "source": [
    "Asimismo, para crear el modelo del lenguaje sobre $S$ requerimos llenar la matriz $A$ y el vector $\\Pi$, para esto, a cada cadena de símbolos de emisión se le agregan los símbolos de inicio (BOS) y final (BOS)."
   ]
  },
  {
   "cell_type": "code",
   "execution_count": 7,
   "metadata": {},
   "outputs": [
    {
     "name": "stdout",
     "output_type": "stream",
     "text": [
      "[[6, 0, 1, 2, 1, 5], [6, 3, 4, 0, 1, 5], [6, 3, 4, 1, 5], [6, 3, 4, 0, 1, 5], [6, 3, 4, 0, 1, 5], [6, 3, 4, 5]]\n"
     ]
    }
   ],
   "source": [
    "#Indicamos las etiquetas a usar\n",
    "EOS = '<EOS>'\n",
    "BOS = '<BOS>'\n",
    "\n",
    "#Cada etiqeuta se le asigna un indice numerico\n",
    "BOS_IDX = max(ems_voc.values())+2\n",
    "EOS_IDX = max(ems_voc.values())+1\n",
    "\n",
    "#Se agregan estas etiqeutas al vocabulario\n",
    "ems_voc[EOS] = EOS_IDX\n",
    "ems_voc[BOS] = BOS_IDX\n",
    "\n",
    "#A cada cadena se le agrega la etiqueta BOS al inicio y EOS al final\n",
    "ems_cads = [[BOS_IDX] + cad + [EOS_IDX] for cad in ems_cads]\n",
    "\n",
    "emsID = {v:k for k,v in ems_voc.items()}\n",
    "\n",
    "print(ems_cads)"
   ]
  },
  {
   "cell_type": "markdown",
   "metadata": {},
   "source": [
    "A partir de las cadenas de emisiones (que pertenencen a $S^*$) obtenemos los bigramas que se atestiguaron en el corpus."
   ]
  },
  {
   "cell_type": "code",
   "execution_count": 8,
   "metadata": {},
   "outputs": [
    {
     "name": "stdout",
     "output_type": "stream",
     "text": [
      "[(6, 0), (0, 1), (1, 2), (2, 1), (1, 5), (6, 3), (3, 4), (4, 0), (0, 1), (1, 5), (6, 3), (3, 4), (4, 1), (1, 5), (6, 3), (3, 4), (4, 0), (0, 1), (1, 5), (6, 3), (3, 4), (4, 0), (0, 1), (1, 5), (6, 3), (3, 4), (4, 5)]\n"
     ]
    }
   ],
   "source": [
    "#Bigramas a partir de las cadenas de emisiones\n",
    "ems_bigrams = list(chain(*[ zip(cad,cad[1:]) for cad in ems_cads] ))\n",
    "print(ems_bigrams)"
   ]
  },
  {
   "cell_type": "markdown",
   "metadata": {},
   "source": [
    "## Estimación del modelo oculto de Markov\n",
    "\n",
    "Una vez obtenido los vocabularios, así como sus indices, así como los pares de observaciones y sus emisiones y los bigramas de emisiones, podemos determinar el modelo; es decir, estimaremos las probabilidades que llenarán las marices $A$, $\\Pi$ y $B$."
   ]
  },
  {
   "cell_type": "code",
   "execution_count": 9,
   "metadata": {},
   "outputs": [],
   "source": [
    "#Longitud del vocabulario de emisiones\n",
    "N = len(ems_voc)\n",
    "#Longitud del vocabulario de observaciones\n",
    "M = len(obs_voc)\n",
    "\n",
    "#ems language model\n",
    "Pi = np.zeros(N-2)\n",
    "A = np.zeros((N-2,N-1))\n",
    "\n",
    "#Prob ems\n",
    "B = np.zeros((M,N-2))"
   ]
  },
  {
   "cell_type": "markdown",
   "metadata": {},
   "source": [
    "Para obtener el modelo del lenguaje sobre $S$ estimaremos los siguientes elementos:\n",
    "* La matriz de transiciones:\n",
    "\n",
    "$$A=(a_{ij}) = p(s_j|s_i)  = \\frac{\\#(s_i s_j)+1}{\\#(s_i) + N}$$\n",
    "\n",
    "* El vector de iniciales:\n",
    "\n",
    "$$\\Pi = (\\pi_{i}) = p(s_i) = \\frac{\\#(BOS, s_i)+1}{\\#(BOS)+N}$$"
   ]
  },
  {
   "cell_type": "code",
   "execution_count": 10,
   "metadata": {},
   "outputs": [],
   "source": [
    "#Frecuencia de bigramas de emisiones\n",
    "frec_ems = Counter(ems_bigrams)\n",
    "\n",
    "#Llenado de las frecuencias\n",
    "for em, frec_em in frec_ems.items():\n",
    "    if em[0] == BOS_IDX:\n",
    "        Pi[em[1]] = frec_em\n",
    "    else:\n",
    "        A[em] = frec_em"
   ]
  },
  {
   "cell_type": "code",
   "execution_count": 11,
   "metadata": {},
   "outputs": [
    {
     "data": {
      "text/html": [
       "<div>\n",
       "<style scoped>\n",
       "    .dataframe tbody tr th:only-of-type {\n",
       "        vertical-align: middle;\n",
       "    }\n",
       "\n",
       "    .dataframe tbody tr th {\n",
       "        vertical-align: top;\n",
       "    }\n",
       "\n",
       "    .dataframe thead th {\n",
       "        text-align: right;\n",
       "    }\n",
       "</style>\n",
       "<table border=\"1\" class=\"dataframe\">\n",
       "  <thead>\n",
       "    <tr style=\"text-align: right;\">\n",
       "      <th></th>\n",
       "      <th>DA</th>\n",
       "      <th>NC</th>\n",
       "      <th>PP</th>\n",
       "      <th>DP</th>\n",
       "      <th>V</th>\n",
       "      <th>&lt;EOS&gt;</th>\n",
       "    </tr>\n",
       "  </thead>\n",
       "  <tbody>\n",
       "    <tr>\n",
       "      <th>DA</th>\n",
       "      <td>0.100000</td>\n",
       "      <td>0.500000</td>\n",
       "      <td>0.100000</td>\n",
       "      <td>0.100000</td>\n",
       "      <td>0.100000</td>\n",
       "      <td>0.100000</td>\n",
       "    </tr>\n",
       "    <tr>\n",
       "      <th>NC</th>\n",
       "      <td>0.083333</td>\n",
       "      <td>0.083333</td>\n",
       "      <td>0.166667</td>\n",
       "      <td>0.083333</td>\n",
       "      <td>0.083333</td>\n",
       "      <td>0.500000</td>\n",
       "    </tr>\n",
       "    <tr>\n",
       "      <th>PP</th>\n",
       "      <td>0.142857</td>\n",
       "      <td>0.285714</td>\n",
       "      <td>0.142857</td>\n",
       "      <td>0.142857</td>\n",
       "      <td>0.142857</td>\n",
       "      <td>0.142857</td>\n",
       "    </tr>\n",
       "    <tr>\n",
       "      <th>DP</th>\n",
       "      <td>0.090909</td>\n",
       "      <td>0.090909</td>\n",
       "      <td>0.090909</td>\n",
       "      <td>0.090909</td>\n",
       "      <td>0.545455</td>\n",
       "      <td>0.090909</td>\n",
       "    </tr>\n",
       "    <tr>\n",
       "      <th>V</th>\n",
       "      <td>0.363636</td>\n",
       "      <td>0.181818</td>\n",
       "      <td>0.090909</td>\n",
       "      <td>0.090909</td>\n",
       "      <td>0.090909</td>\n",
       "      <td>0.181818</td>\n",
       "    </tr>\n",
       "  </tbody>\n",
       "</table>\n",
       "</div>"
      ],
      "text/plain": [
       "          DA        NC        PP        DP         V     <EOS>\n",
       "DA  0.100000  0.500000  0.100000  0.100000  0.100000  0.100000\n",
       "NC  0.083333  0.083333  0.166667  0.083333  0.083333  0.500000\n",
       "PP  0.142857  0.285714  0.142857  0.142857  0.142857  0.142857\n",
       "DP  0.090909  0.090909  0.090909  0.090909  0.545455  0.090909\n",
       "V   0.363636  0.181818  0.090909  0.090909  0.090909  0.181818"
      ]
     },
     "execution_count": 11,
     "metadata": {},
     "output_type": "execute_result"
    }
   ],
   "source": [
    "#Sommothing\n",
    "A = ((A.T+1)/(A+1).sum(1)).T\n",
    "Pi = (Pi+1)/(Pi+1).sum(0)\n",
    "\n",
    "pd.DataFrame(data=A, index=list(ems_voc.keys())[:-2], columns=list(ems_voc.keys())[:-1])"
   ]
  },
  {
   "cell_type": "code",
   "execution_count": 12,
   "metadata": {},
   "outputs": [
    {
     "data": {
      "text/html": [
       "<div>\n",
       "<style scoped>\n",
       "    .dataframe tbody tr th:only-of-type {\n",
       "        vertical-align: middle;\n",
       "    }\n",
       "\n",
       "    .dataframe tbody tr th {\n",
       "        vertical-align: top;\n",
       "    }\n",
       "\n",
       "    .dataframe thead th {\n",
       "        text-align: right;\n",
       "    }\n",
       "</style>\n",
       "<table border=\"1\" class=\"dataframe\">\n",
       "  <thead>\n",
       "    <tr style=\"text-align: right;\">\n",
       "      <th></th>\n",
       "      <th>Init</th>\n",
       "    </tr>\n",
       "  </thead>\n",
       "  <tbody>\n",
       "    <tr>\n",
       "      <th>DA</th>\n",
       "      <td>0.181818</td>\n",
       "    </tr>\n",
       "    <tr>\n",
       "      <th>NC</th>\n",
       "      <td>0.090909</td>\n",
       "    </tr>\n",
       "    <tr>\n",
       "      <th>PP</th>\n",
       "      <td>0.090909</td>\n",
       "    </tr>\n",
       "    <tr>\n",
       "      <th>DP</th>\n",
       "      <td>0.545455</td>\n",
       "    </tr>\n",
       "    <tr>\n",
       "      <th>V</th>\n",
       "      <td>0.090909</td>\n",
       "    </tr>\n",
       "  </tbody>\n",
       "</table>\n",
       "</div>"
      ],
      "text/plain": [
       "        Init\n",
       "DA  0.181818\n",
       "NC  0.090909\n",
       "PP  0.090909\n",
       "DP  0.545455\n",
       "V   0.090909"
      ]
     },
     "execution_count": 12,
     "metadata": {},
     "output_type": "execute_result"
    }
   ],
   "source": [
    "pd.DataFrame(data=Pi, index=list(ems_voc.keys())[:-2], columns=['Init'])"
   ]
  },
  {
   "cell_type": "code",
   "execution_count": 13,
   "metadata": {},
   "outputs": [
    {
     "name": "stdout",
     "output_type": "stream",
     "text": [
      "[1. 1. 1. 1. 1.]\n",
      "1.0\n"
     ]
    }
   ],
   "source": [
    "#Comprobar que las sumas sean 1\n",
    "print(A.sum(1))\n",
    "print(Pi.sum(0))"
   ]
  },
  {
   "cell_type": "markdown",
   "metadata": {},
   "source": [
    "Para obtener la matriz $B$, usaremos la siguiente función:\n",
    "\n",
    "$$B = (b_{ij}) = p(o_j|s_i) = \\frac{\\#(o_j, s_i)+1}{\\#(s_i)+M}$$"
   ]
  },
  {
   "cell_type": "code",
   "execution_count": 14,
   "metadata": {},
   "outputs": [],
   "source": [
    "#Frecuencia de pares de observaciones y emisiones\n",
    "frec_obs = Counter(obs_ems)\n",
    "\n",
    "#Llenado con las frecuencias\n",
    "for ob, frec_ob in frec_obs.items():\n",
    "    B[ob] = frec_ob"
   ]
  },
  {
   "cell_type": "code",
   "execution_count": 15,
   "metadata": {},
   "outputs": [
    {
     "data": {
      "text/html": [
       "<div>\n",
       "<style scoped>\n",
       "    .dataframe tbody tr th:only-of-type {\n",
       "        vertical-align: middle;\n",
       "    }\n",
       "\n",
       "    .dataframe tbody tr th {\n",
       "        vertical-align: top;\n",
       "    }\n",
       "\n",
       "    .dataframe thead th {\n",
       "        text-align: right;\n",
       "    }\n",
       "</style>\n",
       "<table border=\"1\" class=\"dataframe\">\n",
       "  <thead>\n",
       "    <tr style=\"text-align: right;\">\n",
       "      <th></th>\n",
       "      <th>DA</th>\n",
       "      <th>NC</th>\n",
       "      <th>PP</th>\n",
       "      <th>DP</th>\n",
       "      <th>V</th>\n",
       "    </tr>\n",
       "  </thead>\n",
       "  <tbody>\n",
       "    <tr>\n",
       "      <th>el</th>\n",
       "      <td>0.428571</td>\n",
       "      <td>0.142857</td>\n",
       "      <td>0.142857</td>\n",
       "      <td>0.142857</td>\n",
       "      <td>0.142857</td>\n",
       "    </tr>\n",
       "    <tr>\n",
       "      <th>salto</th>\n",
       "      <td>0.111111</td>\n",
       "      <td>0.333333</td>\n",
       "      <td>0.111111</td>\n",
       "      <td>0.111111</td>\n",
       "      <td>0.333333</td>\n",
       "    </tr>\n",
       "    <tr>\n",
       "      <th>de</th>\n",
       "      <td>0.166667</td>\n",
       "      <td>0.166667</td>\n",
       "      <td>0.333333</td>\n",
       "      <td>0.166667</td>\n",
       "      <td>0.166667</td>\n",
       "    </tr>\n",
       "    <tr>\n",
       "      <th>altura</th>\n",
       "      <td>0.166667</td>\n",
       "      <td>0.333333</td>\n",
       "      <td>0.166667</td>\n",
       "      <td>0.166667</td>\n",
       "      <td>0.166667</td>\n",
       "    </tr>\n",
       "    <tr>\n",
       "      <th>yo</th>\n",
       "      <td>0.142857</td>\n",
       "      <td>0.142857</td>\n",
       "      <td>0.142857</td>\n",
       "      <td>0.428571</td>\n",
       "      <td>0.142857</td>\n",
       "    </tr>\n",
       "    <tr>\n",
       "      <th>la</th>\n",
       "      <td>0.428571</td>\n",
       "      <td>0.142857</td>\n",
       "      <td>0.142857</td>\n",
       "      <td>0.142857</td>\n",
       "      <td>0.142857</td>\n",
       "    </tr>\n",
       "    <tr>\n",
       "      <th>cuerda</th>\n",
       "      <td>0.142857</td>\n",
       "      <td>0.428571</td>\n",
       "      <td>0.142857</td>\n",
       "      <td>0.142857</td>\n",
       "      <td>0.142857</td>\n",
       "    </tr>\n",
       "    <tr>\n",
       "      <th>ellos</th>\n",
       "      <td>0.125000</td>\n",
       "      <td>0.125000</td>\n",
       "      <td>0.125000</td>\n",
       "      <td>0.500000</td>\n",
       "      <td>0.125000</td>\n",
       "    </tr>\n",
       "    <tr>\n",
       "      <th>tomaban</th>\n",
       "      <td>0.166667</td>\n",
       "      <td>0.166667</td>\n",
       "      <td>0.166667</td>\n",
       "      <td>0.166667</td>\n",
       "      <td>0.333333</td>\n",
       "    </tr>\n",
       "    <tr>\n",
       "      <th>vino</th>\n",
       "      <td>0.166667</td>\n",
       "      <td>0.333333</td>\n",
       "      <td>0.166667</td>\n",
       "      <td>0.166667</td>\n",
       "      <td>0.166667</td>\n",
       "    </tr>\n",
       "    <tr>\n",
       "      <th>saltaban</th>\n",
       "      <td>0.142857</td>\n",
       "      <td>0.142857</td>\n",
       "      <td>0.142857</td>\n",
       "      <td>0.142857</td>\n",
       "      <td>0.428571</td>\n",
       "    </tr>\n",
       "  </tbody>\n",
       "</table>\n",
       "</div>"
      ],
      "text/plain": [
       "                DA        NC        PP        DP         V\n",
       "el        0.428571  0.142857  0.142857  0.142857  0.142857\n",
       "salto     0.111111  0.333333  0.111111  0.111111  0.333333\n",
       "de        0.166667  0.166667  0.333333  0.166667  0.166667\n",
       "altura    0.166667  0.333333  0.166667  0.166667  0.166667\n",
       "yo        0.142857  0.142857  0.142857  0.428571  0.142857\n",
       "la        0.428571  0.142857  0.142857  0.142857  0.142857\n",
       "cuerda    0.142857  0.428571  0.142857  0.142857  0.142857\n",
       "ellos     0.125000  0.125000  0.125000  0.500000  0.125000\n",
       "tomaban   0.166667  0.166667  0.166667  0.166667  0.333333\n",
       "vino      0.166667  0.333333  0.166667  0.166667  0.166667\n",
       "saltaban  0.142857  0.142857  0.142857  0.142857  0.428571"
      ]
     },
     "execution_count": 15,
     "metadata": {},
     "output_type": "execute_result"
    }
   ],
   "source": [
    "#Smoothing\n",
    "B = ((B+1).T/(B+1).sum(1)).T\n",
    "\n",
    "pd.DataFrame(data=B, index=list(obs_voc.keys()), columns=list(ems_voc.keys())[:-2])"
   ]
  },
  {
   "cell_type": "code",
   "execution_count": 16,
   "metadata": {},
   "outputs": [
    {
     "name": "stdout",
     "output_type": "stream",
     "text": [
      "[1. 1. 1. 1. 1. 1. 1. 1. 1. 1. 1.]\n"
     ]
    }
   ],
   "source": [
    "#Comprobar que se sume 1\n",
    "print(B.sum(1))"
   ]
  },
  {
   "cell_type": "markdown",
   "metadata": {},
   "source": [
    "## Cálculo bruto de cadena de emisiones\n",
    "\n",
    "Podemos preguntarnos cómo obtener el mejor etiquetado dado una secuencia de observaciones. Un primer caso es calcular la probabilidad de cada una de las posibles cadenas de emisiones y encontrar:\n",
    "\n",
    "$$\\arg\\max p(s^{(1)},...,s^{(T)}, w^{(1)},...,w^{(T)})$$\n",
    "\n",
    "Sin embargo, en este caso, tenemos que obtener todas las posibles convinaciones de $N$ símbolos de emisiones en $T$ elementos de la cadena. Es decir, tenemos que realizar $N^T$ cálculos, una complejidad exponencial."
   ]
  },
  {
   "cell_type": "code",
   "execution_count": 17,
   "metadata": {},
   "outputs": [
    {
     "name": "stdout",
     "output_type": "stream",
     "text": [
      "390625\n",
      "[('DA', 'DA', 'DA', 'DA', 'DA', 'DA', 'DA', 'DA'), ('DA', 'DA', 'DA', 'DA', 'DA', 'DA', 'DA', 'NC'), ('DA', 'DA', 'DA', 'DA', 'DA', 'DA', 'DA', 'PP'), ('DA', 'DA', 'DA', 'DA', 'DA', 'DA', 'DA', 'DP'), ('DA', 'DA', 'DA', 'DA', 'DA', 'DA', 'DA', 'V')]\n"
     ]
    }
   ],
   "source": [
    "from itertools import product\n",
    "\n",
    "text1 = 'yo salto el salto de altura ellos saltaban'\n",
    "\n",
    "candidatos = list(product( list(ems_voc.keys())[:-2], repeat=len(text1.split()) ))\n",
    "print(len(candidatos))\n",
    "print(candidatos[:5])"
   ]
  },
  {
   "cell_type": "code",
   "execution_count": 18,
   "metadata": {},
   "outputs": [
    {
     "name": "stdout",
     "output_type": "stream",
     "text": [
      "yo salto el salto de altura ellos saltaban\n",
      "('DP', 'V', 'DA', 'NC', 'PP', 'NC', 'DP', 'V')\n",
      "CPU times: user 6.86 s, sys: 454 µs, total: 6.86 s\n",
      "Wall time: 6.86 s\n"
     ]
    }
   ],
   "source": [
    "%%time\n",
    "\n",
    "#Función para el cálculo de probabilidades conjuntas p(s1,...,sT,w1,..,wT)\n",
    "def prob_conj(text, tags):\n",
    "    tags_bigrs = list(zip( tags.split(), tags.split()[1:] ))\n",
    "    text_pairs = list(zip( text.split(), tags.split() ))\n",
    "    p = Pi[ ems_voc[tags_bigrs[0][0]] ]\n",
    "    \n",
    "    for bi in tags_bigrs:\n",
    "        p *= A[ ems_voc[bi[0]], ems_voc[bi[1]] ]\n",
    "        \n",
    "    for t in text_pairs:\n",
    "        p *= B[ obs_voc[t[0]], ems_voc[t[1]] ]\n",
    "    \n",
    "    return p\n",
    "\n",
    "#Guarda los candidatos\n",
    "temp = np.zeros(len(candidatos))\n",
    "\n",
    "#Obtiene la probabilidad para todos los candidatos\n",
    "for i,cand in enumerate(candidatos):\n",
    "    cand_tags = ' '.join(cand)\n",
    "    temp[i] = prob_conj(text1, cand_tags )\n",
    "\n",
    "#El candidato que maximiza la probabilidad\n",
    "ArgMax = np.argmax(temp)\n",
    "\n",
    "print(text1)\n",
    "print(candidatos[ArgMax])"
   ]
  },
  {
   "cell_type": "markdown",
   "metadata": {},
   "source": [
    "## Aplicación del algoritmo de Viterbi\n",
    "\n",
    "El algoritmo de Viterbi nos permitirá obtener las emisiones que maximicen la probabilidad conjunta con las observaciones. Podemos observar que las posibles combinaciones de observaciones son $N^T$ donde $N$ es el número de símbolos de emisión y $T$ la longitud de la observación."
   ]
  },
  {
   "cell_type": "code",
   "execution_count": 19,
   "metadata": {},
   "outputs": [
    {
     "data": {
      "image/png": "[encoded data removed]",
      "text/plain": [
       "<Figure size 1080x216 with 1 Axes>"
      ]
     },
     "metadata": {
      "needs_background": "light"
     },
     "output_type": "display_data"
    }
   ],
   "source": [
    "#Aristas\n",
    "edges = []\n",
    "#Posiciones\n",
    "layout_all = {}\n",
    "for t,w in enumerate(text1.split()):\n",
    "    #Obtienes las aristas del diagrama Trellis\n",
    "    for s in list(ems_voc.keys())[:-2]:\n",
    "        for st in list(ems_voc.keys())[:-2]:\n",
    "            prev = s+'_'+str(t)\n",
    "            actual = st+'_'+str(t+1)\n",
    "            layout_all[prev] = np.array([t, ems_voc[s]])\n",
    "            if t < len(text1.split()) - 1:\n",
    "                edges.append( (prev, actual) )\n",
    "                layout_all[actual] = np.array([t+1, ems_voc[s]])\n",
    "        \n",
    "\n",
    "#Gráfica del diagrama\n",
    "graph = nx.DiGraph()\n",
    "graph.add_edges_from(edges)\n",
    "\n",
    "#Visualización\n",
    "fig, ax = plt.subplots(figsize=(15, 3))\n",
    "nx.draw_networkx(graph, with_labels=True, node_size=700, font_size=10, node_color='#ffffff', pos=layout_all, ax=ax)\n",
    "ax.tick_params(bottom=True, labelbottom=True)\n",
    "plt.title('Diagrama de Trellis del problema')\n",
    "plt.xticks([0,1,2,3,4,5,6,7], text1.split())\n",
    "plt.show()"
   ]
  },
  {
   "cell_type": "markdown",
   "metadata": {},
   "source": [
    "### Forward\n",
    "\n",
    "En primer lugar obtenemos las variables $\\delta_j(t)$ para todo símbolo y para todo estado $t$. Estas variables, junto con las variables $\\phi_j(t)$ nos darán los posibles caminos con mayor probabilidad dentro de la gráfica Trellis.\n",
    "\n",
    "En primer lugar tomamos la observación y generamos un estado por cada uno de los elementos en la cadena de observaciones.\n",
    "\n",
    "Asimismo, iniciamos las variables $\\delta$ y $\\phi$, tal que:\n",
    "\n",
    "$$\\delta_j(t) = \\max_{i_1,...,i_{t-1}} p(s_{i_1}^{(1)},..., s_{i_{t-1}}^{(t-1)}, w^{(1)},...,w^{(t)}, s^{(t)}_j)$$\n",
    "\n",
    "y:\n",
    "\n",
    "$$\\phi_j(t) = \\arg\\max_{i_1,...,i_{t-1}} p(s_{i_1}^{(1)},..., s_{i_{t-1}}^{(t-1)}, w^{(1)},...,w^{(t)}, s^{(t)}_j)$$\n",
    "\n"
   ]
  },
  {
   "cell_type": "code",
   "execution_count": 20,
   "metadata": {},
   "outputs": [],
   "source": [
    "#Obtenemos las observaciones por estado\n",
    "obs_text = text1.split()\n",
    "\n",
    "#Variable delta guarda las probs máximas\n",
    "d = np.zeros((len(obs_text),len(ems_voc)-2))\n",
    "#Variable phi guarda los argumentos que maximizan las probs\n",
    "phi = np.zeros((len(obs_text),len(ems_voc)-2))"
   ]
  },
  {
   "cell_type": "markdown",
   "metadata": {},
   "source": [
    "El algoritmo de Viterbo se definirá como:\n",
    "\n",
    "* <b>Inicialización</b>: $$\\delta_j(1) = p(w^{(1)}|s_j)p(s_j)$$ o bien, en términos de matrices $$\\delta(1) = B_{w^{(1)}} \\odot Pi$$\n",
    "* <b>Inducción</b>: $$\\delta_j(t+1) = \\max_i p(w^{(t+1)}|s_j)p(s_j|s_i)\\delta_i(t)$$ o en términos de vectores y matrices: $$\\delta(t+1) = \\max_i A \\odot \\Big(B_{w^{(t+1)}} \\otimes \\delta(t) \\Big)$$ Las variables $\\phi$ se calculan de forma similar pero usando el $\\arg\\max$."
   ]
  },
  {
   "cell_type": "code",
   "execution_count": 21,
   "metadata": {},
   "outputs": [
    {
     "name": "stdout",
     "output_type": "stream",
     "text": [
      "CPU times: user 1.67 ms, sys: 0 ns, total: 1.67 ms\n",
      "Wall time: 1.48 ms\n"
     ]
    },
    {
     "data": {
      "text/html": [
       "<div>\n",
       "<style scoped>\n",
       "    .dataframe tbody tr th:only-of-type {\n",
       "        vertical-align: middle;\n",
       "    }\n",
       "\n",
       "    .dataframe tbody tr th {\n",
       "        vertical-align: top;\n",
       "    }\n",
       "\n",
       "    .dataframe thead th {\n",
       "        text-align: right;\n",
       "    }\n",
       "</style>\n",
       "<table border=\"1\" class=\"dataframe\">\n",
       "  <thead>\n",
       "    <tr style=\"text-align: right;\">\n",
       "      <th></th>\n",
       "      <th>DA</th>\n",
       "      <th>NC</th>\n",
       "      <th>PP</th>\n",
       "      <th>DP</th>\n",
       "      <th>V</th>\n",
       "    </tr>\n",
       "  </thead>\n",
       "  <tbody>\n",
       "    <tr>\n",
       "      <th>yo</th>\n",
       "      <td>2.597403e-02</td>\n",
       "      <td>1.298701e-02</td>\n",
       "      <td>1.298701e-02</td>\n",
       "      <td>2.337662e-01</td>\n",
       "      <td>1.298701e-02</td>\n",
       "    </tr>\n",
       "    <tr>\n",
       "      <th>salto</th>\n",
       "      <td>1.349300e-03</td>\n",
       "      <td>9.276438e-04</td>\n",
       "      <td>5.059875e-04</td>\n",
       "      <td>9.107775e-03</td>\n",
       "      <td>3.035925e-03</td>\n",
       "    </tr>\n",
       "    <tr>\n",
       "      <th>el</th>\n",
       "      <td>1.635515e-04</td>\n",
       "      <td>5.622084e-05</td>\n",
       "      <td>2.811042e-05</td>\n",
       "      <td>2.759932e-04</td>\n",
       "      <td>1.839955e-04</td>\n",
       "    </tr>\n",
       "    <tr>\n",
       "      <th>salto</th>\n",
       "      <td>8.496183e-06</td>\n",
       "      <td>1.204732e-05</td>\n",
       "      <td>1.204732e-06</td>\n",
       "      <td>1.182828e-05</td>\n",
       "      <td>1.433731e-05</td>\n",
       "    </tr>\n",
       "    <tr>\n",
       "      <th>de</th>\n",
       "      <td>1.029840e-06</td>\n",
       "      <td>7.301407e-07</td>\n",
       "      <td>6.692957e-08</td>\n",
       "      <td>3.584327e-07</td>\n",
       "      <td>8.689278e-07</td>\n",
       "    </tr>\n",
       "    <tr>\n",
       "      <th>altura</th>\n",
       "      <td>6.241457e-08</td>\n",
       "      <td>6.953721e-08</td>\n",
       "      <td>3.187122e-09</td>\n",
       "      <td>1.706822e-08</td>\n",
       "      <td>7.899344e-08</td>\n",
       "    </tr>\n",
       "    <tr>\n",
       "      <th>ellos</th>\n",
       "      <td>3.782701e-09</td>\n",
       "      <td>5.794768e-09</td>\n",
       "      <td>1.770623e-10</td>\n",
       "      <td>4.741174e-10</td>\n",
       "      <td>7.181221e-09</td>\n",
       "    </tr>\n",
       "    <tr>\n",
       "      <th>saltaban</th>\n",
       "      <td>1.719410e-10</td>\n",
       "      <td>3.621730e-10</td>\n",
       "      <td>8.048288e-12</td>\n",
       "      <td>2.155079e-11</td>\n",
       "      <td>1.958515e-09</td>\n",
       "    </tr>\n",
       "  </tbody>\n",
       "</table>\n",
       "</div>"
      ],
      "text/plain": [
       "                    DA            NC            PP            DP             V\n",
       "yo        2.597403e-02  1.298701e-02  1.298701e-02  2.337662e-01  1.298701e-02\n",
       "salto     1.349300e-03  9.276438e-04  5.059875e-04  9.107775e-03  3.035925e-03\n",
       "el        1.635515e-04  5.622084e-05  2.811042e-05  2.759932e-04  1.839955e-04\n",
       "salto     8.496183e-06  1.204732e-05  1.204732e-06  1.182828e-05  1.433731e-05\n",
       "de        1.029840e-06  7.301407e-07  6.692957e-08  3.584327e-07  8.689278e-07\n",
       "altura    6.241457e-08  6.953721e-08  3.187122e-09  1.706822e-08  7.899344e-08\n",
       "ellos     3.782701e-09  5.794768e-09  1.770623e-10  4.741174e-10  7.181221e-09\n",
       "saltaban  1.719410e-10  3.621730e-10  8.048288e-12  2.155079e-11  1.958515e-09"
      ]
     },
     "execution_count": 21,
     "metadata": {},
     "output_type": "execute_result"
    }
   ],
   "source": [
    "%%time\n",
    "#Inicialización\n",
    "d[0] = B[ obs_voc[obs_text[0]] ]*Pi\n",
    "\n",
    "#Inducción\n",
    "for t in range(0, len(obs_text)-1):\n",
    "    #Calculamos las probabilidades\n",
    "    probs = A[:,:-1]*np.outer(B[obs_voc[obs_text[t]]], d[t])\n",
    "    \n",
    "    #Obtenemos las variables delta\n",
    "    d[t+1] = np.max(probs,axis=0)\n",
    "    #Obtenemos variables phi\n",
    "    phi[t] = np.argmax(probs,axis=0)\n",
    "\n",
    "pd.DataFrame(data=d, index=obs_text, columns=list(ems_voc.keys())[:-2])"
   ]
  },
  {
   "cell_type": "markdown",
   "metadata": {},
   "source": [
    "Podemos visualizar también las etiquetas que ha guardado la variable $\\phi$."
   ]
  },
  {
   "cell_type": "code",
   "execution_count": 22,
   "metadata": {},
   "outputs": [
    {
     "data": {
      "text/html": [
       "<div>\n",
       "<style scoped>\n",
       "    .dataframe tbody tr th:only-of-type {\n",
       "        vertical-align: middle;\n",
       "    }\n",
       "\n",
       "    .dataframe tbody tr th {\n",
       "        vertical-align: top;\n",
       "    }\n",
       "\n",
       "    .dataframe thead th {\n",
       "        text-align: right;\n",
       "    }\n",
       "</style>\n",
       "<table border=\"1\" class=\"dataframe\">\n",
       "  <thead>\n",
       "    <tr style=\"text-align: right;\">\n",
       "      <th></th>\n",
       "      <th>DA</th>\n",
       "      <th>NC</th>\n",
       "      <th>PP</th>\n",
       "      <th>DP</th>\n",
       "      <th>V</th>\n",
       "    </tr>\n",
       "  </thead>\n",
       "  <tbody>\n",
       "    <tr>\n",
       "      <th>yo</th>\n",
       "      <td>V</td>\n",
       "      <td>DA</td>\n",
       "      <td>DP</td>\n",
       "      <td>DP</td>\n",
       "      <td>DP</td>\n",
       "    </tr>\n",
       "    <tr>\n",
       "      <th>salto</th>\n",
       "      <td>V</td>\n",
       "      <td>V</td>\n",
       "      <td>NC</td>\n",
       "      <td>V</td>\n",
       "      <td>DP</td>\n",
       "    </tr>\n",
       "    <tr>\n",
       "      <th>el</th>\n",
       "      <td>V</td>\n",
       "      <td>DA</td>\n",
       "      <td>DA</td>\n",
       "      <td>DA</td>\n",
       "      <td>DP</td>\n",
       "    </tr>\n",
       "    <tr>\n",
       "      <th>salto</th>\n",
       "      <td>V</td>\n",
       "      <td>V</td>\n",
       "      <td>NC</td>\n",
       "      <td>V</td>\n",
       "      <td>DP</td>\n",
       "    </tr>\n",
       "    <tr>\n",
       "      <th>de</th>\n",
       "      <td>V</td>\n",
       "      <td>PP</td>\n",
       "      <td>PP</td>\n",
       "      <td>PP</td>\n",
       "      <td>DP</td>\n",
       "    </tr>\n",
       "    <tr>\n",
       "      <th>altura</th>\n",
       "      <td>V</td>\n",
       "      <td>DA</td>\n",
       "      <td>NC</td>\n",
       "      <td>NC</td>\n",
       "      <td>DP</td>\n",
       "    </tr>\n",
       "    <tr>\n",
       "      <th>ellos</th>\n",
       "      <td>DP</td>\n",
       "      <td>DA</td>\n",
       "      <td>DP</td>\n",
       "      <td>DP</td>\n",
       "      <td>DP</td>\n",
       "    </tr>\n",
       "    <tr>\n",
       "      <th>saltaban</th>\n",
       "      <td>DA</td>\n",
       "      <td>DA</td>\n",
       "      <td>DA</td>\n",
       "      <td>DA</td>\n",
       "      <td>DA</td>\n",
       "    </tr>\n",
       "  </tbody>\n",
       "</table>\n",
       "</div>"
      ],
      "text/plain": [
       "          DA  NC  PP  DP   V\n",
       "yo         V  DA  DP  DP  DP\n",
       "salto      V   V  NC   V  DP\n",
       "el         V  DA  DA  DA  DP\n",
       "salto      V   V  NC   V  DP\n",
       "de         V  PP  PP  PP  DP\n",
       "altura     V  DA  NC  NC  DP\n",
       "ellos     DP  DA  DP  DP  DP\n",
       "saltaban  DA  DA  DA  DA  DA"
      ]
     },
     "execution_count": 22,
     "metadata": {},
     "output_type": "execute_result"
    }
   ],
   "source": [
    "phi_cat = []\n",
    "for j, c in enumerate(phi):\n",
    "    phi_cat.append([tags[i] for i in c])\n",
    "    \n",
    "pd.DataFrame(data=phi_cat, index=obs_text, columns=list(ems_voc.keys())[:-2])"
   ]
  },
  {
   "cell_type": "markdown",
   "metadata": {},
   "source": [
    "Lo que esta parte del algoritmo ha hecho es crear una gráfica con $N$ caminos, tantos como símbolos de emisión. De esta forma, la complejidad de la búsqueda se simplifica. Podemos observar cómo se comportan los caminos encontrados."
   ]
  },
  {
   "cell_type": "code",
   "execution_count": 23,
   "metadata": {},
   "outputs": [
    {
     "name": "stdout",
     "output_type": "stream",
     "text": [
      "yo\n",
      "\t V --> DA 0.025974025974025972\n",
      "\t DA --> NC 0.012987012987012986\n",
      "\t DP --> PP 0.012987012987012986\n",
      "\t DP --> DP 0.23376623376623373\n",
      "\t DP --> V 0.012987012987012986\n",
      "salto\n",
      "\t V --> DA 0.0013493000505987519\n",
      "\t V --> NC 0.0009276437847866418\n",
      "\t NC --> PP 0.0005059875189745319\n",
      "\t V --> DP 0.009107775341541575\n",
      "\t DP --> V 0.003035925113847191\n",
      "el\n",
      "\t V --> DA 0.0001635515212846972\n",
      "\t DA --> NC 5.622083544161466e-05\n",
      "\t DA --> PP 2.8110417720807326e-05\n",
      "\t DA --> DP 0.00027599319216792647\n",
      "\t DP --> V 0.00018399546144528428\n",
      "salto\n",
      "\t V --> DA 8.496182923880373e-06\n",
      "\t V --> NC 1.2047321880345997e-05\n",
      "\t NC --> PP 1.2047321880345996e-06\n",
      "\t V --> DP 1.1828279664339705e-05\n",
      "\t DP --> V 1.4337308684048124e-05\n",
      "de\n",
      "\t V --> DA 1.0298403544097422e-06\n",
      "\t PP --> NC 7.301407200209695e-07\n",
      "\t PP --> PP 6.692956600192219e-08\n",
      "\t PP --> DP 3.5843271710120315e-07\n",
      "\t DP --> V 8.689277990332196e-07\n",
      "altura\n",
      "\t V --> DA 6.241456693392376e-08\n",
      "\t DA --> NC 6.95372114305685e-08\n",
      "\t NC --> PP 3.187122190567723e-09\n",
      "\t NC --> DP 1.7068224623866814e-08\n",
      "\t DP --> V 7.899343627574723e-08\n",
      "ellos\n",
      "\t DP --> DA 3.78270102629841e-09\n",
      "\t DA --> NC 5.794767619214042e-09\n",
      "\t DP --> PP 1.7706234392042904e-10\n",
      "\t DP --> DP 4.741173506629671e-10\n",
      "\t DP --> V 7.181221479613384e-09\n",
      "saltaban\n",
      "\t DA 1.719409557408368e-10\n",
      "\t NC 3.621729762008776e-10\n",
      "\t PP 8.048288360019503e-12\n",
      "\t DP 2.1550788666498502e-11\n",
      "\t V 1.958514948985468e-09\n"
     ]
    }
   ],
   "source": [
    "trellis = []\n",
    "#Creamos las transiciones que se dan con Viterbi\n",
    "for i, w in enumerate(obs_text):\n",
    "    print(w)\n",
    "    for s,j in ems_voc.items():\n",
    "        try:\n",
    "            if i != len(obs_text)-1:\n",
    "                print('\\t', phi_cat[i][j], '-->', s, d[i][j])\n",
    "                trellis.append((phi_cat[i][j]+'_'+str(i), s+'_'+str(i+1), d[i][j]))\n",
    "            else:\n",
    "                print('\\t', s, d[i][j],)\n",
    "        except:\n",
    "            pass"
   ]
  },
  {
   "cell_type": "markdown",
   "metadata": {},
   "source": [
    "Una forma más clara de verlo es a partir del diagrama de caminos que resultan de aplicar el algoritmo de Viterbi. Tenemos tantos caminos como símbolos. Sólo basta escoger un camino que máximice la probabilidad para obtener la cadena de emisiones más óptima."
   ]
  },
  {
   "cell_type": "code",
   "execution_count": 24,
   "metadata": {},
   "outputs": [
    {
     "data": {
      "image/png": "[encoded data removed]",
      "text/plain": [
       "<Figure size 1080x216 with 1 Axes>"
      ]
     },
     "metadata": {
      "needs_background": "light"
     },
     "output_type": "display_data"
    }
   ],
   "source": [
    "#Crea el diagrama Trellis\n",
    "Trell = nx.DiGraph()\n",
    "Trell.add_weighted_edges_from(trellis)\n",
    "\n",
    "#Posiciona los nodos\n",
    "layout = {}\n",
    "for n in Trell.nodes:\n",
    "    lab, t = n.split('_')\n",
    "    layout[n] = np.array([float(t), ems_voc[lab]])\n",
    "\n",
    "#Visalización\n",
    "fig, ax = plt.subplots(figsize=(15, 3))\n",
    "nx.draw_networkx(Trell, with_labels=True, node_size=700, font_size=10, node_color='#ffffff', pos=layout, ax=ax)\n",
    "ax.tick_params(bottom=True, labelbottom=True)\n",
    "plt.title('Caminos encontrados por algoritmo de Viterbi')\n",
    "plt.xticks([0,1,2,3,4,5,6,7], obs_text)\n",
    "plt.show()"
   ]
  },
  {
   "cell_type": "markdown",
   "metadata": {},
   "source": [
    "### Backward\n",
    "\n",
    "Para finalizar con el algoritmo de Viterbi, obtendremos el símbolo final que maximice la probabilidad. Inicializando como:\n",
    "\n",
    "$$\\hat{s}^{(T)} = \\arg\\max_i \\delta_i(T)$$\n",
    "\n",
    "Y con esto podemos recuperar el camino haciendo inducción sobre la variable $\\phi$:\n",
    "\n",
    "$$\\hat{s}^{(t)} = \\phi_{\\hat{s}^{(t+1)}}(t+1)$$"
   ]
  },
  {
   "cell_type": "code",
   "execution_count": 25,
   "metadata": {},
   "outputs": [
    {
     "name": "stdout",
     "output_type": "stream",
     "text": [
      "Texto orig: yo salto el salto de altura ellos saltaban\n",
      "Viterbi: ['DP', 'V', 'DA', 'NC', 'PP', 'NC', 'DP', 'V']\n"
     ]
    }
   ],
   "source": [
    "#Inicialización\n",
    "sT = np.argmax( d[len(obs_text)-1])\n",
    "\n",
    "#Guarda las etiquetas\n",
    "tags_prop = [sT]\n",
    "for t in range(0, len(obs_text)-1)[::-1]:\n",
    "    #Inducción\n",
    "    st = int(phi[t][tags_prop[-1]])\n",
    "    tags_prop.append(st)\n",
    "        \n",
    "print('Texto orig:',text1)\n",
    "print('Viterbi:', [tags[w] for w in tags_prop][::-1])"
   ]
  },
  {
   "cell_type": "markdown",
   "metadata": {},
   "source": [
    "    "
   ]
  }
 ],
 "metadata": {
  "kernelspec": {
   "display_name": "Python 3",
   "language": "python",
   "name": "python3"
  },
  "language_info": {
   "codemirror_mode": {
    "name": "ipython",
    "version": 3
   },
   "file_extension": ".py",
   "mimetype": "text/x-python",
   "name": "python",
   "nbconvert_exporter": "python",
   "pygments_lexer": "ipython3",
   "version": "3.8.8"
  }
 },
 "nbformat": 4,
 "nbformat_minor": 1
}
