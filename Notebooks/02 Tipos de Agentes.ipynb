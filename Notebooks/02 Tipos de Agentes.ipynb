{
 "cells": [
  {
   "cell_type": "markdown",
   "id": "4c52bcc6",
   "metadata": {},
   "source": [
    "# Tipos de agentes\n",
    "\n",
    "Para definir los diferentes tipos de agentes, necesitamos definir un ambiente. En este caso usaremos el problema de la aspiradora, pero crearemos un ambiente en donde se cuente con cuatro cuadrados:\n",
    "\n",
    "$$\n",
    "\\begin{pmatrix}\n",
    "A & B \\\\ C & D\n",
    "\\end{pmatrix}\n",
    "$$\n",
    "\n",
    "Los movimientos que se podrán realizar son, entonces, a los lados (izquierda, derecha) y hacia arriba o abajo."
   ]
  },
  {
   "cell_type": "code",
   "execution_count": 22,
   "id": "417c6378",
   "metadata": {},
   "outputs": [],
   "source": [
    "import random\n",
    "\n",
    "class Square(object):\n",
    "    def __init__(self, name):\n",
    "        \"\"\"\n",
    "        Crea un objeto square, que representa los cuadrados del ambiente.\n",
    "\n",
    "        Argumentos\n",
    "        ----------\n",
    "        name : str\n",
    "          Nombre del cuadrado ('A', 'B', etc.)\n",
    "        \"\"\"\n",
    "        self.name = name\n",
    "        \n",
    "        # Hasta que no se coloque con cuadrados vecinos, los movimientos no llevan a ningún lado\n",
    "        self.left = self\n",
    "        self.right = self\n",
    "        self.up = self\n",
    "        self.down = self\n",
    "        \n",
    "class VacuumWorld(object):\n",
    "    def __init__(self, dirt_init='random'):\n",
    "        \"\"\"\n",
    "        Objeto que crea el ambiente para el mundo de la aspiradora:\n",
    "        Se conforma de:\n",
    "        - Cuatro cuadrados: A, B, C y D\n",
    "        - Indicación de la limpieza (0) o suciedad (1) de los cuadrados.\n",
    "\n",
    "        Argumentos\n",
    "        ----------\n",
    "        dirt_init : str\n",
    "          Forma en que se inicializará la suciedad de los cuadrados.\n",
    "        init_loc : str\n",
    "          Cuadrado en que se iniciará el agente (A o B).\n",
    "        \"\"\"\n",
    "        self.squares = []\n",
    "        self.A = Square('A')\n",
    "        self.B = Square('B')\n",
    "        self.C = Square('C')\n",
    "        self.D = Square('D')\n",
    "        self.squares.append(self.A)\n",
    "        self.squares.append(self.B)\n",
    "        self.squares.append(self.C)\n",
    "        self.squares.append(self.D)\n",
    "\n",
    "        #Cambia la posición de A\n",
    "        self.A.right = self.B\n",
    "        self.A.down = self.C\n",
    "        #Cambia la posición de B\n",
    "        self.B.left = self.A\n",
    "        self.B.down = self.D\n",
    "        #Cambia la posición de C\n",
    "        self.C.right = self.D\n",
    "        self.C.up = self.A\n",
    "        #Cambia la posición de D\n",
    "        self.D.left = self.C\n",
    "        self.D.up = self.B\n",
    "\n",
    "        #Inicialización de suciedad\n",
    "        self.dirt_init = dirt_init\n",
    "        \n",
    "    def initialize_dirt(self):\n",
    "        \"\"\"\n",
    "        Inicializa la suciedad de los cuadrados:\n",
    "\n",
    "        Opciones (se indican en init)\n",
    "        --------\n",
    "        random : Inicializa con uno de los cuadrados sucios y otro limpio de forma aleatoria.\n",
    "        dirty : Inicializa con los dos cuadrados sucios\n",
    "        clean : Inicializa con los dos cuadrados limpios\n",
    "        \"\"\"\n",
    "        if self.dirt_init=='random':\n",
    "            for square in self.squares:\n",
    "                if random.random() > 0.5:\n",
    "                    square.dirt = 1\n",
    "                else:\n",
    "                    square.dirt = 0\n",
    "\n",
    "        elif self.dirt_init=='dirty':\n",
    "            for square in self.squares:\n",
    "                square.dirt = 1\n",
    "\n",
    "        elif self.dirt_init=='clean':\n",
    "            for square in self.squares:\n",
    "                square.dirt = 0\n",
    "\n",
    "        else:\n",
    "            for square, value in zip(self.squares, self.dirt_init):\n",
    "                square.dirt = value\n",
    "                    \n",
    "    def initialize_agent_location(self, agent):\n",
    "        \"\"\"\n",
    "        Inicializa la localización de un agente dado el objeto agente.\n",
    "\n",
    "        Argumentos\n",
    "        ----------\n",
    "        agent : object\n",
    "          Objeto agente que interecturá con el ambiente.\n",
    "        \"\"\"\n",
    "        #Inicializa al objeto de forma aleatoria\n",
    "        i = random.randint(0, len(self.squares)-1)\n",
    "        agent.location = self.squares[i]"
   ]
  },
  {
   "cell_type": "markdown",
   "id": "ee54c47c",
   "metadata": {},
   "source": [
    "Iniciamos el ambiente de tal forma que la suciedad se distributa de manera aleatoria."
   ]
  },
  {
   "cell_type": "code",
   "execution_count": 332,
   "id": "fd90b168",
   "metadata": {},
   "outputs": [
    {
     "name": "stdout",
     "output_type": "stream",
     "text": [
      "Inicialización de estados:\n",
      "[('A', 0), ('B', 1), ('C', 1), ('D', 0)]\n"
     ]
    }
   ],
   "source": [
    "#Creación del ambiente\n",
    "env = VacuumWorld(dirt_init='random')\n",
    "\n",
    "#Inicializa la suciedad\n",
    "env.initialize_dirt()\n",
    "\n",
    "print('Inicialización de estados:\\n{}'.format([(s.name, s.dirt) for s in env.squares]))"
   ]
  },
  {
   "cell_type": "markdown",
   "id": "167cb83b",
   "metadata": {},
   "source": [
    "## Agente dirigido mediante tabla\n",
    "\n",
    "El primer agente que definiremos es un agente dirigido mediante tabla. En este caso, definimos al agente, el cual requiere de una tabla que especifique las acciones que debe tomar según la secuencia de percepciones."
   ]
  },
  {
   "cell_type": "code",
   "execution_count": 301,
   "id": "b2c286d4",
   "metadata": {},
   "outputs": [],
   "source": [
    "class TableDrivenAgent(VacuumWorld):\n",
    "    \"\"\"\n",
    "    Objeto agente.\n",
    "    \"\"\"\n",
    "    def __init__(self, table):\n",
    "        \"\"\"\n",
    "        percept\n",
    "            Percepción del agente, enlista las percepciones hasta el estado actual\n",
    "        table\n",
    "            Tabla de percepción-acción\n",
    "        location\n",
    "            Lugar donde se localiza el agente\n",
    "        \"\"\"\n",
    "        self.percept = None\n",
    "        self.table = table\n",
    "        self.location = None\n",
    "        \n",
    "    def sensor(self):\n",
    "        \"\"\"\n",
    "        Función que determina la percepción a partir de observar \n",
    "        en donde se encuentra el agente.\n",
    "        \"\"\"\n",
    "        if self.percept == None:\n",
    "            self.percept = (self.location.name, self.location.dirt)\n",
    "        else:\n",
    "            self.percept += (self.location.name, self.location.dirt)\n",
    "        \n",
    "    def decide(self):\n",
    "        \"\"\"\n",
    "        Simple función para ejecutar una acción a partir de \n",
    "        consultar la tabla\n",
    "        \"\"\"\n",
    "        action = self.table[self.percept]\n",
    "        #Cuando se tiene más de una acción\n",
    "        #la acción se realiza aleatoriamente\n",
    "        if type(action) == list:\n",
    "            action = random.choice(action)\n",
    "        \n",
    "        return action"
   ]
  },
  {
   "cell_type": "markdown",
   "id": "a5798b2b",
   "metadata": {},
   "source": [
    "Definimos la tabla, que en este caso sólo cuenta con sólo combinaciones de hasta dos elementos. Una tabla más completa consideraría un mayor número de combinaciones (de hasta cuatro elementos, para que el agente pueda explorar todo el ambiente)."
   ]
  },
  {
   "cell_type": "code",
   "execution_count": 330,
   "id": "c81c8394",
   "metadata": {},
   "outputs": [],
   "source": [
    "table = {('A',1):'Clean', ('A',0): ['Right', 'Down'], ('B',1):'Clean', ('B',0): ['Left', 'Down'],\n",
    "        ('C',1):'Clean', ('C',0): ['Right', 'Up'], ('D',1):'Clean', ('D',0): ['Left', 'Up'],\n",
    "        (('A',0,'B',0)):'Down', (('A',0,'C',0)):'Right',\n",
    "        (('A',0,'B',1)):'Clean', (('A',0,'C',1)):'Clean',\n",
    "        (('A',1,'B',0)):'Down', (('A',1,'C',0)):'Right', (('A',1,'A',0)):['Right', 'Down'],\n",
    "        (('B',0,'A',0)):'Down', (('B',0,'D',0)):'Left',\n",
    "        (('B',0,'A',1)):'Clean', (('B',0,'D',1)):'Clean',\n",
    "        (('B',1,'A',0)):'Down', (('B',1,'D',0)):'Left', (('B',1,'B',0)):['Left', 'Down'],\n",
    "        (('C',0,'A',0)):'Right', (('C',0,'D',0)):'Up',\n",
    "        (('C',0,'A',1)):'Clean', (('C',0,'D',1)):'Clean',\n",
    "        (('C',1,'A',0)):'Right', (('C',1,'D',0)):'Up', (('C',1,'C',0)):['Right', 'Up'],\n",
    "        (('D',0,'B',0)):'Left', (('D',0,'C',0)):'Up',\n",
    "        (('D',0,'B',1)):'Clean', (('D',0,'C',1)):'Clean',\n",
    "        (('D',1,'B',0)):'Left', (('D',1,'C',0)):'Up', (('D',1,'D',0)):['Left', 'Up']}"
   ]
  },
  {
   "cell_type": "markdown",
   "id": "1af1db23",
   "metadata": {},
   "source": [
    "Creamos el agente, y le asignamos la tabla que hemos definido. Inicializamos su posición en el ambiente."
   ]
  },
  {
   "cell_type": "code",
   "execution_count": 331,
   "id": "705cb6df",
   "metadata": {},
   "outputs": [
    {
     "name": "stdout",
     "output_type": "stream",
     "text": [
      "Posición actual del agente: A\n"
     ]
    }
   ],
   "source": [
    "#Creamos el agente\n",
    "agent = TableDrivenAgent(table)\n",
    "#Inicializamos la localización del agente\n",
    "env.initialize_agent_location(agent)\n",
    "\n",
    "print('Posición actual del agente: {}'.format(agent.location.name))"
   ]
  },
  {
   "cell_type": "code",
   "execution_count": 297,
   "id": "1c073010",
   "metadata": {},
   "outputs": [],
   "source": [
    "#agent.table"
   ]
  },
  {
   "cell_type": "code",
   "execution_count": 329,
   "id": "904da452",
   "metadata": {},
   "outputs": [
    {
     "name": "stdout",
     "output_type": "stream",
     "text": [
      "Tiempo: 0\n",
      "Acción: Left\n",
      "Nueva localización: C\n",
      "\n",
      "Tiempo: 1\n",
      "Acción: Right\n",
      "Nueva localización: D\n",
      "\n",
      "Estados al final del proceso:\n",
      "[('A', 0), ('B', 0), ('C', 0), ('D', 0)]\n"
     ]
    }
   ],
   "source": [
    "for t in range(0,2):\n",
    "    #El agente revisa el ambiente\n",
    "    agent.sensor()\n",
    "    #En base a su percepción decide por una acción\n",
    "    action = agent.decide()\n",
    "    \n",
    "    #Con base en la acción, se hace un cambio\n",
    "    if action == 'Clean':\n",
    "        agent.location.dirt = 0\n",
    "    if action == 'Left':\n",
    "        agent.location = agent.location.left\n",
    "    if action == 'Right':\n",
    "        agent.location = agent.location.right\n",
    "    if action == 'Up':\n",
    "        agent.location.up\n",
    "    if action == 'Down':\n",
    "        agent.location = agent.location.down\n",
    "        \n",
    "    #Se reinician las percpeciones\n",
    "    #Si se tiene una tabla completa, no es necesario\n",
    "    agent.percept = None\n",
    "\n",
    "        \n",
    "    print('Tiempo: {}\\nAcción: {}\\nNueva localización: {}\\n'.format(t,action,agent.location.name))\n",
    "    \n",
    "print('Estados al final del proceso:\\n{}'.format([(s.name, s.dirt) for s in env.squares]))"
   ]
  },
  {
   "cell_type": "markdown",
   "id": "0caf9e2b",
   "metadata": {},
   "source": [
    "## Agente reactivo simple"
   ]
  },
  {
   "cell_type": "code",
   "execution_count": 333,
   "id": "2ba9b3af",
   "metadata": {},
   "outputs": [],
   "source": [
    "class SimpleReflexAgent(object):\n",
    "    \"\"\"\n",
    "    Objeto agente.\n",
    "    \"\"\"\n",
    "    def __init__(self):\n",
    "        self.location = None\n",
    "        \n",
    "    def decide(self):        \n",
    "        if self.location.dirt == 1:\n",
    "            self.location.dirt = 0\n",
    "        elif self.location.name == 'A':\n",
    "            self.location = random.choice([self.location.right, self.location.down])\n",
    "        elif self.location.name == 'B':\n",
    "            self.location = random.choice([self.location.left, self.location.down])\n",
    "        elif self.location.name == 'C':\n",
    "            self.location = random.choice([self.location.right, self.location.up])\n",
    "        elif self.location.name == 'D':\n",
    "            self.location = random.choice([self.location.left, self.location.up])"
   ]
  },
  {
   "cell_type": "code",
   "execution_count": 334,
   "id": "70ef3c70",
   "metadata": {},
   "outputs": [
    {
     "name": "stdout",
     "output_type": "stream",
     "text": [
      "Posición actual del agente: A\n"
     ]
    }
   ],
   "source": [
    "#Creamos el agente\n",
    "sr_agent = SimpleReflexAgent()\n",
    "#Inicializamos la localización del agente\n",
    "env.initialize_agent_location(sr_agent)\n",
    "\n",
    "print('Posición actual del agente: {}'.format(sr_agent.location.name))"
   ]
  },
  {
   "cell_type": "code",
   "execution_count": 335,
   "id": "d3841d75",
   "metadata": {},
   "outputs": [
    {
     "name": "stdout",
     "output_type": "stream",
     "text": [
      "None\n",
      "Posición actual del agente: C\n"
     ]
    }
   ],
   "source": [
    "action = sr_agent.decide()\n",
    "print(action)\n",
    "print('Posición actual del agente: {}'.format(sr_agent.location.name))"
   ]
  },
  {
   "cell_type": "code",
   "execution_count": null,
   "id": "6bce1e52",
   "metadata": {},
   "outputs": [],
   "source": []
  }
 ],
 "metadata": {
  "kernelspec": {
   "display_name": "Python 3",
   "language": "python",
   "name": "python3"
  },
  "language_info": {
   "codemirror_mode": {
    "name": "ipython",
    "version": 3
   },
   "file_extension": ".py",
   "mimetype": "text/x-python",
   "name": "python",
   "nbconvert_exporter": "python",
   "pygments_lexer": "ipython3",
   "version": "3.8.8"
  }
 },
 "nbformat": 4,
 "nbformat_minor": 5
}
