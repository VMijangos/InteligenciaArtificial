{
 "cells": [
  {
   "cell_type": "markdown",
   "id": "a41867fb",
   "metadata": {},
   "source": [
    "# Algoritmo Best-First Search para problemas de búsqueda\n",
    "\n",
    "El algoritmo de Best-First Search es un algoritmo simple basado en un árbol de búsqueda. Este algoritmo toma como entrada un problema de búsqueda y construye un árbol de búsqueda a partir de este.\n",
    "\n",
    "Para definirlo, presentaremos en primer lugar los elementos necesarios para definir nuestro problema de búsqueda.\n",
    "\n",
    "## Problema de búsqueda (mundo de la aspiradora)\n",
    "\n",
    "Definiremos el problema del mundo de la aspiradora, para esto recordemos que un problema de búsqueda cuenta con los siguientes elementos:\n",
    "\n",
    "* Conjunto de estados\n",
    "* Estado inicial\n",
    "* Estados finales\n",
    "* Acciones\n",
    "* Modelo de transición\n",
    "* Función de costo"
   ]
  },
  {
   "cell_type": "code",
   "execution_count": 1,
   "id": "6817809f",
   "metadata": {},
   "outputs": [],
   "source": [
    "#Paqueterías\n",
    "from itertools import product\n",
    "from copy import deepcopy\n",
    "import networkx as nx\n",
    "import matplotlib.pyplot as plt\n",
    "import random\n",
    "import numpy as np"
   ]
  },
  {
   "cell_type": "markdown",
   "id": "d0ce9e86",
   "metadata": {},
   "source": [
    "#### Estados\n",
    "\n",
    "Para plantear los estados, definimos una clase para crear objetos estados que nos indique cómo se encuentra el mundo en ese estado y dónde se encuentra el agente."
   ]
  },
  {
   "cell_type": "code",
   "execution_count": 2,
   "id": "57902417",
   "metadata": {},
   "outputs": [],
   "source": [
    "class State(object):\n",
    "    \"\"\"\n",
    "    Define un objeto estado que contiene:\n",
    "    \n",
    "    world\n",
    "        información sobre el mundo\n",
    "    agent_location\n",
    "        posición del agente en el mundo\n",
    "    \"\"\"\n",
    "    def __init__(self):\n",
    "        self.world = None\n",
    "        self.agent_location = None\n",
    "        \n",
    "    def __str__(self):\n",
    "        #return \"World state: {} - Agent location: {}\".format(self.world, self.agent_location)\n",
    "        return \"World: {}, Loc: {}\".format(self.world, self.agent_location)"
   ]
  },
  {
   "cell_type": "markdown",
   "id": "6b14fc98",
   "metadata": {},
   "source": [
    "En el mundo de la aspitadora, contaremos con dos cuadros. Para definir los estados indexaremos cada uno de los posibles situaciones del mundo (que uno o ambos cuadrados estén sucios o limpios, y que el agente se encuentre en uno o otro cuadrado).\n",
    "\n",
    "La idea es indexar cada estado, de tal forma que podamos referirnos a estos estados con los índices y recueprar la descripción del estado de manera sencilla.\n",
    "\n",
    "Los estados finales corresponderán a los estados en donde ambos cuadrados están limpios. El estado inicial podrá ser cualquier estado."
   ]
  },
  {
   "cell_type": "code",
   "execution_count": 3,
   "id": "c027b0dc",
   "metadata": {},
   "outputs": [],
   "source": [
    "cuadros = ['A','B']\n",
    "\n",
    "#Inicializa contador de estados\n",
    "i = 0\n",
    "#Guarda estados\n",
    "states = {}\n",
    "#Determina los estados de suciedad\n",
    "for dirt in product([1,0],repeat=len(cuadros)):\n",
    "    #Determina la posición del agente\n",
    "    for agent_loc in cuadros:\n",
    "        #Asigna valores al objeto estado\n",
    "        state = State()\n",
    "        state.world = {cuadros[j]:dirt[j] for j in range(len(cuadros))}\n",
    "        state.agent_location = agent_loc\n",
    "        #print(i, state)\n",
    "        #Guarda el estado en diccionario\n",
    "        states[i] = state\n",
    "        #Aumenta el valor de i\n",
    "        i += 1"
   ]
  },
  {
   "cell_type": "code",
   "execution_count": 4,
   "id": "65896719",
   "metadata": {},
   "outputs": [
    {
     "name": "stdout",
     "output_type": "stream",
     "text": [
      "0 World: {'A': 1, 'B': 1}, Loc: A\n",
      "1 World: {'A': 1, 'B': 1}, Loc: B\n",
      "2 World: {'A': 1, 'B': 0}, Loc: A\n",
      "3 World: {'A': 1, 'B': 0}, Loc: B\n",
      "4 World: {'A': 0, 'B': 1}, Loc: A\n",
      "5 World: {'A': 0, 'B': 1}, Loc: B\n",
      "6 World: {'A': 0, 'B': 0}, Loc: A\n",
      "7 World: {'A': 0, 'B': 0}, Loc: B\n"
     ]
    }
   ],
   "source": [
    "for i,state in states.items():\n",
    "    print(i, state)"
   ]
  },
  {
   "cell_type": "markdown",
   "id": "99bcae02",
   "metadata": {},
   "source": [
    "Para poder recuperar el índice del estado definimos la siguiente función:"
   ]
  },
  {
   "cell_type": "code",
   "execution_count": 5,
   "id": "60a273e2",
   "metadata": {},
   "outputs": [],
   "source": [
    "def return_state_idx(state):    \n",
    "    \"\"\"\n",
    "    Regresa el índice de un estado en el diccionario de estados.\n",
    "    \n",
    "    Argumentos\n",
    "    ----------\n",
    "    state : object\n",
    "        el estado del cual se quiere obtener el índice\n",
    "    \"\"\"\n",
    "    for i, new_state in states.items():\n",
    "        if state.world == new_state.world and state.agent_location == new_state.agent_location:\n",
    "            return i"
   ]
  },
  {
   "cell_type": "code",
   "execution_count": 6,
   "id": "6513e46e",
   "metadata": {},
   "outputs": [],
   "source": [
    "class Transition(object):\n",
    "    \"\"\"\n",
    "    Clase para obtener el modelo de transicion.\n",
    "    \"\"\"\n",
    "    def __init__(self, cost_function = None):\n",
    "        self.transitions = []\n",
    "        self.cost_function = cost_function\n",
    "\n",
    "    def get_transitions(self, states):\n",
    "        \"\"\"\n",
    "        Genera el modelo de transición con los estados.\n",
    "        Únicamente para el mundo de la aspiradora.\n",
    "\n",
    "        Argumentos\n",
    "        ----------\n",
    "        states : dict\n",
    "        Diccionario de estados del modelo de búsqueda\n",
    "        \"\"\"\n",
    "        for i,prev_state in states.items():\n",
    "            #Copia el estado para no modificarlo\n",
    "            state = deepcopy(prev_state)\n",
    "            #Guarda locación del agente\n",
    "            location = state.agent_location\n",
    "            #Guarda estado de la suciedad\n",
    "            dirt = state.world[location]\n",
    "\n",
    "            #Acción: si está sucio, limpia\n",
    "            if dirt == 1:\n",
    "                new_state = deepcopy(state)\n",
    "                new_state.world[location] = 0\n",
    "                clean_state = return_state_idx(new_state)\n",
    "                self.transitions += [(i,'Clean',clean_state)]\n",
    "            #Acción: Moverse de A a B\n",
    "            if location == 'A':\n",
    "                #right action\n",
    "                new_r_state = deepcopy(state)\n",
    "                new_r_state.agent_location = 'B'\n",
    "                right_state = return_state_idx(new_r_state)\n",
    "                self.transitions += [(i,'Right',right_state)]\n",
    "                #left action\n",
    "                self.transitions += [(i,'Left',i)]\n",
    "                \n",
    "            #Acción: Moverse de B a A\n",
    "            if location == 'B':\n",
    "                #right action\n",
    "                self.transitions += [(i,'Right',i)]\n",
    "                #left action\n",
    "                new_state = deepcopy(state)\n",
    "                new_state.agent_location = 'A'\n",
    "                left_state = return_state_idx(new_state)\n",
    "                self.transitions += [(i,'Left',left_state)]\n",
    "\n",
    "    def transition(self, state_idx, action):\n",
    "        \"\"\"\n",
    "        Función de transición.\n",
    "\n",
    "        Argumentos\n",
    "        ----------\n",
    "        state_idx : int\n",
    "            Estado actual en el que nos encontramos\n",
    "        action : str\n",
    "            Acción que se ejecuta en el estado\n",
    "\n",
    "        Salida\n",
    "        ------\n",
    "        new_state : int\n",
    "            Nuevo estado, resultado de la acción. \n",
    "            Si la acción no cambia el mundo, permanece en el mismo estado.\n",
    "        \"\"\"\n",
    "        for (st,act,new_state) in self.transitions:\n",
    "            if st == state_idx and act == action:\n",
    "                return new_state\n",
    "            else:\n",
    "                pass\n",
    "        \n",
    "        return state_idx\n",
    "\n",
    "    def cost(self, state, action, new_state):\n",
    "        \"\"\"\n",
    "        Función de costo de la acción. En general cada acción \n",
    "        del mundo de la aspiradora cuesta 1.\n",
    "        \"\"\"\n",
    "        if self.cost_function == None:\n",
    "            return 1\n",
    "    \n",
    "        else:\n",
    "            return self.cost_function(state, action, new_state)\n",
    "\n",
    "    def plot_graph(self):\n",
    "        \"\"\"\n",
    "        Función para visualizar la gráfica de las transiciones.\n",
    "        \"\"\"\n",
    "        #Crea gráfica dirigida en networkx\n",
    "        G = nx.DiGraph(directed=True)\n",
    "        G = nx.from_edgelist([(e[0],e[2]) for e in self.transitions])\n",
    "        \n",
    "        #Funciones para plotear\n",
    "        pos = nx.spring_layout(G)\n",
    "        nx.draw(G, pos, labels=states, with_labels=True,node_size=1)\n",
    "        nx.draw_networkx_edges(G, pos, edgelist=G.edges(), edge_color='b')\n",
    "        nx.draw_networkx_edge_labels(G, pos, edge_labels={(e[0],e[2]):e[1] for e in self.transitions},\n",
    "                                     font_color='red')\n",
    "        plt.show()"
   ]
  },
  {
   "cell_type": "markdown",
   "id": "9afb4faa",
   "metadata": {},
   "source": [
    "#### Modelo de transición\n",
    "\n",
    "Para el modelo de transición, necesitamos definir qué es lo que hace cada acción al estado actual. Las acciones serán las mismas de siempre:\n",
    "\n",
    "* Limpia\n",
    "* Moverse a la izquierda\n",
    "* Moverse a la derecha\n",
    "\n",
    "Para definir el modelo de transición, creamos una clase. Dentro de esta clase se generan las transiciones observando en qué nuevo estado nos coloca una acción. Guardamos las transiciones para definir la función de transición.\n",
    "\n",
    "Esta clase también recuperará el nuevo estado cuando un estado previo y una acción sean dadas.\n",
    "\n",
    "Finalmente, incluímos aquí la función de costo, que en el caso más sencillo asigna un costo igual a 1 a toda acción."
   ]
  },
  {
   "cell_type": "code",
   "execution_count": 7,
   "id": "2d2c41b3",
   "metadata": {},
   "outputs": [],
   "source": [
    "def cost_function(state, action, new_state):\n",
    "    if state == new_state:\n",
    "        return np.inf\n",
    "    else:\n",
    "        s = states[new_state]\n",
    "        if s.world[s.agent_location] == 0:\n",
    "            return 2\n",
    "        else:\n",
    "            return 1"
   ]
  },
  {
   "cell_type": "code",
   "execution_count": 8,
   "id": "5dfb3134",
   "metadata": {},
   "outputs": [],
   "source": [
    "#Generamos el modelo de transición\n",
    "transition_model = Transition(cost_function=cost_function)\n",
    "transition_model.get_transitions(states)"
   ]
  },
  {
   "cell_type": "markdown",
   "id": "08108050",
   "metadata": {},
   "source": [
    "Podemos ver el modelo de transción en la forma en que las accciones nos trasladan de un estado del mundo a otro. Esto también lo podemos visualizar como una gráfica."
   ]
  },
  {
   "cell_type": "code",
   "execution_count": 9,
   "id": "253e452e",
   "metadata": {},
   "outputs": [
    {
     "name": "stdout",
     "output_type": "stream",
     "text": [
      "World: {'A': 1, 'B': 1}, Loc: A -- Clean --> World: {'A': 0, 'B': 1}, Loc: A\n",
      "World: {'A': 1, 'B': 1}, Loc: A -- Right --> World: {'A': 1, 'B': 1}, Loc: B\n",
      "World: {'A': 1, 'B': 1}, Loc: A -- Left --> World: {'A': 1, 'B': 1}, Loc: A\n",
      "World: {'A': 1, 'B': 1}, Loc: B -- Clean --> World: {'A': 1, 'B': 0}, Loc: B\n",
      "World: {'A': 1, 'B': 1}, Loc: B -- Right --> World: {'A': 1, 'B': 1}, Loc: B\n",
      "World: {'A': 1, 'B': 1}, Loc: B -- Left --> World: {'A': 1, 'B': 1}, Loc: A\n",
      "World: {'A': 1, 'B': 0}, Loc: A -- Clean --> World: {'A': 0, 'B': 0}, Loc: A\n",
      "World: {'A': 1, 'B': 0}, Loc: A -- Right --> World: {'A': 1, 'B': 0}, Loc: B\n",
      "World: {'A': 1, 'B': 0}, Loc: A -- Left --> World: {'A': 1, 'B': 0}, Loc: A\n",
      "World: {'A': 1, 'B': 0}, Loc: B -- Right --> World: {'A': 1, 'B': 0}, Loc: B\n",
      "World: {'A': 1, 'B': 0}, Loc: B -- Left --> World: {'A': 1, 'B': 0}, Loc: A\n",
      "World: {'A': 0, 'B': 1}, Loc: A -- Right --> World: {'A': 0, 'B': 1}, Loc: B\n",
      "World: {'A': 0, 'B': 1}, Loc: A -- Left --> World: {'A': 0, 'B': 1}, Loc: A\n",
      "World: {'A': 0, 'B': 1}, Loc: B -- Clean --> World: {'A': 0, 'B': 0}, Loc: B\n",
      "World: {'A': 0, 'B': 1}, Loc: B -- Right --> World: {'A': 0, 'B': 1}, Loc: B\n",
      "World: {'A': 0, 'B': 1}, Loc: B -- Left --> World: {'A': 0, 'B': 1}, Loc: A\n",
      "World: {'A': 0, 'B': 0}, Loc: A -- Right --> World: {'A': 0, 'B': 0}, Loc: B\n",
      "World: {'A': 0, 'B': 0}, Loc: A -- Left --> World: {'A': 0, 'B': 0}, Loc: A\n",
      "World: {'A': 0, 'B': 0}, Loc: B -- Right --> World: {'A': 0, 'B': 0}, Loc: B\n",
      "World: {'A': 0, 'B': 0}, Loc: B -- Left --> World: {'A': 0, 'B': 0}, Loc: A\n"
     ]
    },
    {
     "data": {
      "image/png": "[encoded data removed]",
      "text/plain": [
       "<Figure size 432x288 with 1 Axes>"
      ]
     },
     "metadata": {},
     "output_type": "display_data"
    }
   ],
   "source": [
    "for (i,act,j) in transition_model.transitions:\n",
    "    print(\"{} -- {} --> {}\".format(states[i], act, states[j]))\n",
    "    \n",
    "transition_model.plot_graph()"
   ]
  },
  {
   "cell_type": "markdown",
   "id": "931af779",
   "metadata": {},
   "source": [
    "### Definición del problema de búsqueda\n",
    "\n",
    "Ya que hemos determinado los estados, y el modelo de transición, podemos crear una clase para el problema de búsqueda. Esta clase contendrá los elementos que definen a un problema de búsqueda."
   ]
  },
  {
   "cell_type": "code",
   "execution_count": 10,
   "id": "04576478",
   "metadata": {},
   "outputs": [],
   "source": [
    "class SearchProblem(object):\n",
    "    \"\"\"\n",
    "    Define el problema de búsquda.\n",
    "    \"\"\"\n",
    "    def __init__(self, states, goal, transition_model, initial=0, actions=None):\n",
    "        self.states = states\n",
    "        self.initial = initial\n",
    "        self.goal = goal\n",
    "        self.actions_list = actions\n",
    "        self.transition_model = transition_model\n",
    "        \n",
    "    def actions(self,state):\n",
    "        #Regresa las posibles acciones de un estado\n",
    "    #    actions_list = []\n",
    "    #    for transition in self.transition_model.transitions:\n",
    "    #        if transition[0] == state:\n",
    "    #            actions_list.append(transition[1])\n",
    "        \n",
    "        return self.actions_list #actions_list\n",
    "        \n",
    "    def __str__(self):\n",
    "        return \"States: \\n -{}\\nInitial State:\\n -{}\\nFinal states:\\n -{}\\nTransition model:\\n -{}\".format(list(self.states.keys()),self.initial,self.goal,self.transition_model.transitions)\n",
    "    \n",
    "    def act(self,state,action):\n",
    "        #Regresa la transición de una acción\n",
    "        return self.transition_model.transition(state,action)"
   ]
  },
  {
   "cell_type": "markdown",
   "id": "3bfaeb74",
   "metadata": {},
   "source": [
    "En el caso del problema en el mundo de la aspirador, los estados finales son los estados en que el mundo está limpio (estados 6 y 7), el estado inicial será elegido aleatoriamente, el modelo de transición es el que hemos definido, y las acciones son las que hemos determinado en este mundo."
   ]
  },
  {
   "cell_type": "code",
   "execution_count": 11,
   "id": "dab72e53",
   "metadata": {},
   "outputs": [
    {
     "name": "stdout",
     "output_type": "stream",
     "text": [
      "States: \n",
      " -[0, 1, 2, 3, 4, 5, 6, 7]\n",
      "Initial State:\n",
      " -0\n",
      "Final states:\n",
      " -[6, 7]\n",
      "Transition model:\n",
      " -[(0, 'Clean', 4), (0, 'Right', 1), (0, 'Left', 0), (1, 'Clean', 3), (1, 'Right', 1), (1, 'Left', 0), (2, 'Clean', 6), (2, 'Right', 3), (2, 'Left', 2), (3, 'Right', 3), (3, 'Left', 2), (4, 'Right', 5), (4, 'Left', 4), (5, 'Clean', 7), (5, 'Right', 5), (5, 'Left', 4), (6, 'Right', 7), (6, 'Left', 6), (7, 'Right', 7), (7, 'Left', 6)]\n"
     ]
    }
   ],
   "source": [
    "#Definimos el problema de búsqueda\n",
    "vacuum_problem = SearchProblem(states=states,goal=[6,7], initial=0,\n",
    "                        transition_model=transition_model, actions=['Clean','Left','Right'])\n",
    "print(vacuum_problem)"
   ]
  },
  {
   "cell_type": "code",
   "execution_count": 12,
   "id": "585f5a73",
   "metadata": {},
   "outputs": [
    {
     "data": {
      "text/plain": [
       "['Clean', 'Left', 'Right']"
      ]
     },
     "execution_count": 12,
     "metadata": {},
     "output_type": "execute_result"
    }
   ],
   "source": [
    "vacuum_problem.actions(0)"
   ]
  },
  {
   "cell_type": "markdown",
   "id": "5e673b32",
   "metadata": {},
   "source": [
    "## Algoritmo Best-First Search\n",
    "\n",
    "Para el algoritmo de Best-First Search definiremos una pila de prioridad que tiene la particularid, con las siguientes funciones:\n",
    "\n",
    "* isEmpty(), determina si la pila está o no vacía.\n",
    "* push(), añade un nuevo elemento a la pila.\n",
    "* pop(), elimina el elemento de acuerdo a la prioridad y lo regresa.\n",
    "* top(), devuelve el elemento con más alta prioridad."
   ]
  },
  {
   "cell_type": "code",
   "execution_count": 13,
   "id": "f54092d6",
   "metadata": {},
   "outputs": [],
   "source": [
    "class PriorityQueue(object):\n",
    "    \"\"\"\n",
    "    Clase de una cola de prioridad en los problemas de búsqueda.\n",
    "    \"\"\"\n",
    "    def __init__(self):\n",
    "        self.queue = []\n",
    "  \n",
    "    def __str__(self):\n",
    "        return ' '.join([str(q) for q in self.queue])\n",
    "  \n",
    "    def isEmpty(self):\n",
    "        \"\"\"\n",
    "        Returns\n",
    "        -------\n",
    "        empty : bool\n",
    "            Devuelve el valor True si el queue está vacío\n",
    "        \"\"\"\n",
    "        return self.queue == []\n",
    "  \n",
    "    def push(self, element):\n",
    "        \"\"\"\n",
    "        Arguments\n",
    "        ---------\n",
    "        element : \n",
    "            El elemento que se va agregar al queue\n",
    "        \"\"\"\n",
    "        self.queue.append(element)\n",
    "  \n",
    "    def pop(self):\n",
    "        \"\"\"\n",
    "        Elimina el elemento con más valor según un peso f\n",
    "        y regresa el elemento correspondiente a este valor.\n",
    "        \"\"\"\n",
    "        #Encuentra el elemento máximo en base al costo\n",
    "        min_element = np.argmin([element.cost for element in self.queue])\n",
    "        #Guarda el elemento máximo\n",
    "        item = self.queue[min_element]\n",
    "        #Borra este elemento de la cola\n",
    "        del self.queue[min_element]\n",
    "    \n",
    "        return item\n",
    "    \n",
    "    def top(self):\n",
    "        \"\"\"\n",
    "        Devuelve el elemento con la función de costo más alta.\n",
    "        A diferencia de pop, no elimina el elemento de la pila.\n",
    "        \"\"\"\n",
    "        #Encuentra el elemento máximo en base al costo\n",
    "        min_element = np.argmin([element.cost for element in self.queue])\n",
    "        #Guarda el elemento máximo\n",
    "        item = self.queue[min_element]\n",
    "        \n",
    "        return item"
   ]
  },
  {
   "cell_type": "markdown",
   "id": "63eb8ec0",
   "metadata": {},
   "source": [
    "Ahora debemos definir el objeto de <b>nodo</b>, el cual deberá contar con los siguientes elementos:\n",
    "\n",
    "* state, el estado del problema de búsqueda asociado.\n",
    "* parent, el nodel del que proviene.\n",
    "* action, la acción que lo derivó.\n",
    "* cost, el costo de llegar al nodo."
   ]
  },
  {
   "cell_type": "code",
   "execution_count": 14,
   "id": "b3d06c2e",
   "metadata": {},
   "outputs": [],
   "source": [
    "class Node(object):\n",
    "    \"\"\"\n",
    "    Clase para crear nodos con sus atributos.\n",
    "    \"\"\"\n",
    "    def __init__(self):\n",
    "        self.state = 0\n",
    "        self.parent = None\n",
    "        self.action = None\n",
    "        self.cost = 0\n",
    "        self.depth = 0\n",
    "        \n",
    "    def __str__(self):\n",
    "        if self.parent == None:\n",
    "            return \"State: {}, Cost: {}\".format(self.state,self.cost)\n",
    "        else:\n",
    "            return \"State: {}, Action: {}, Parent: {}, Cost: {}\".format(self.state,self.action,self.parent.state,self.cost)"
   ]
  },
  {
   "cell_type": "markdown",
   "id": "711c00f2",
   "metadata": {},
   "source": [
    "Una vez que hemos definido los elementos con los que trabajaremos, definiremos el algoritmo de Best-First Search como una función. Para esto, también necesimaos definir una función para <b>expandir</b> cada nodo según la estructura del problema de búsqueda."
   ]
  },
  {
   "cell_type": "code",
   "execution_count": 15,
   "id": "ad95eb60",
   "metadata": {},
   "outputs": [],
   "source": [
    "def expand(problem, node):\n",
    "    \"\"\"\n",
    "    Función para expandir los nodos dado el problema.\n",
    "    \n",
    "    Argumentos\n",
    "    ---------\n",
    "    problem : objeto\n",
    "        Problema de búsqueda.\n",
    "    node : objeto\n",
    "        Nodo que se va a expandir.\n",
    "        \n",
    "    Salida\n",
    "    ------\n",
    "    childs :generator\n",
    "        Generador con los hijos del nodo.\n",
    "    \"\"\"\n",
    "    #Nodo en el que se inicia\n",
    "    s = node.state \n",
    "    \n",
    "    for action in problem.actions(s):\n",
    "        #Ejecuta la acción\n",
    "        new_s = problem.act(s, action)\n",
    "        #Guarda el costo de la acción\n",
    "        cost = node.cost + problem.transition_model.cost(s,action,new_s)\n",
    "        \n",
    "        #Genera un nuevo nodo\n",
    "        new_node = Node()\n",
    "        new_node.state = new_s\n",
    "        new_node.parent = node \n",
    "        new_node.action = action \n",
    "        new_node.cost = cost\n",
    "\n",
    "        yield new_node"
   ]
  },
  {
   "cell_type": "markdown",
   "id": "d4cd72be",
   "metadata": {},
   "source": [
    "Ya con la función de expansión definida, podemos pasar a definir el algoritmo de <b>Best-First Search</b> para un problema de búsqueda."
   ]
  },
  {
   "cell_type": "code",
   "execution_count": 16,
   "id": "c9173135",
   "metadata": {},
   "outputs": [],
   "source": [
    "def BestFirstSearch(problem):\n",
    "    \"\"\"\n",
    "    Algoritmo Best-First Search para generar el camino más apto\n",
    "    en el árbol de búsqueda de un problema.\n",
    "    \n",
    "    Argumentos\n",
    "    ----------\n",
    "    problem : objeto\n",
    "        Problema de búsquda.\n",
    "        \n",
    "    Salida\n",
    "    ------\n",
    "    nodes : list\n",
    "        Lista de los nodos que llevan a la solución.\n",
    "    \"\"\"\n",
    "    #Almacenamiento de nodos\n",
    "    nodes = []\n",
    "    #Nodo inicial\n",
    "    node = Node()\n",
    "    node.state = problem.initial\n",
    "    #Frontera con cola de prioridad\n",
    "    frontier = PriorityQueue()\n",
    "    frontier.push(node)\n",
    "    #Nodos alcanzados\n",
    "    reached = {problem.initial:node}\n",
    "\n",
    "    #Mientras la frontera no esté vacía\n",
    "    while frontier.isEmpty() == False:\n",
    "        #Pop en frontera\n",
    "        node = frontier.pop()\n",
    "        #Guarda el nodo en la lista\n",
    "        nodes.append(node)                        \n",
    "        \n",
    "        #Si llega a un nodo final se detiene \n",
    "        #y regresa el camino de nodos\n",
    "        if node.state in problem.goal:\n",
    "            return nodes\n",
    "\n",
    "        #Expande el nodo actual\n",
    "        for child in expand(problem, node):\n",
    "            #Guarda estado de los hijos\n",
    "            state = child.state\n",
    "            #Guarda los hijos no alcanzados o que tengan menor costo\n",
    "            if state not in reached.keys() or child.cost < reached[state].cost:\n",
    "                reached[state] = child\n",
    "                frontier.push(child)                    \n",
    "\n",
    "    #Si no logra llegar a un nodo final\n",
    "    #El algoritmo regresa mensaje de error\n",
    "    return \"No se ha logrado llegar a un estado final.\""
   ]
  },
  {
   "cell_type": "markdown",
   "id": "c16b6069",
   "metadata": {},
   "source": [
    "### Aplicación del algoritmo Best-First Search al problema\n",
    "\n",
    "Hemos definido el problema de búsqueda del mundo de la aspiradora y el algoritmo de Best-First Search. Ahora podemos ver cuál es el resultado de aplicar este algoritmo a nuestro problema."
   ]
  },
  {
   "cell_type": "code",
   "execution_count": 17,
   "id": "5bec924e",
   "metadata": {},
   "outputs": [
    {
     "name": "stdout",
     "output_type": "stream",
     "text": [
      "| --> Action: None, World: {'A': 1, 'B': 1}, Loc: A, cost: 0\n",
      "World: {'A': 1, 'B': 1}, Loc: A --> Action: Right, World: {'A': 1, 'B': 1}, Loc: B, cost: 1\n",
      "World: {'A': 1, 'B': 1}, Loc: A --> Action: Clean, World: {'A': 0, 'B': 1}, Loc: A, cost: 2\n",
      "World: {'A': 1, 'B': 1}, Loc: B --> Action: Clean, World: {'A': 1, 'B': 0}, Loc: B, cost: 3\n",
      "World: {'A': 0, 'B': 1}, Loc: A --> Action: Right, World: {'A': 0, 'B': 1}, Loc: B, cost: 3\n",
      "World: {'A': 1, 'B': 0}, Loc: B --> Action: Left, World: {'A': 1, 'B': 0}, Loc: A, cost: 4\n",
      "World: {'A': 0, 'B': 1}, Loc: B --> Action: Clean, World: {'A': 0, 'B': 0}, Loc: B, cost: 5\n"
     ]
    }
   ],
   "source": [
    "#Aplica el algoritmo al problema\n",
    "tree = BestFirstSearch(vacuum_problem)\n",
    "\n",
    "#Observamos el resultado del árbol\n",
    "for node in tree:\n",
    "    if node.parent != None:\n",
    "        parent = states[node.parent.state]\n",
    "    else:\n",
    "        parent = '|'\n",
    "    print(\"{} --> Action: {}, {}, cost: {}\".format(parent, node.action, states[node.state], node.cost))"
   ]
  },
  {
   "cell_type": "markdown",
   "id": "5687c41d",
   "metadata": {},
   "source": [
    "En el algoritmo de Best-First Search hemos obtenido el árbol de búsqueda que llega hasta el estado final, pero "
   ]
  },
  {
   "cell_type": "code",
   "execution_count": 18,
   "id": "6029890f",
   "metadata": {},
   "outputs": [
    {
     "name": "stdout",
     "output_type": "stream",
     "text": [
      "None ----->\n",
      "World: {'A': 1, 'B': 1}, Loc: A\n",
      "Clean ----->\n",
      "World: {'A': 0, 'B': 1}, Loc: A\n",
      "Right ----->\n",
      "World: {'A': 0, 'B': 1}, Loc: B\n",
      "Clean ----->\n",
      "World: {'A': 0, 'B': 0}, Loc: B\n"
     ]
    }
   ],
   "source": [
    "def get_path(search_tree, root):\n",
    "    \"\"\"\n",
    "    Recorre el árbol de búsqueda de atrás hacia el inicio para obtener el camino de acciones\n",
    "    que llevaron a la meta.\n",
    "    \"\"\"\n",
    "    #Meta\n",
    "    leaf = search_tree[::-1][0]\n",
    "    #Padre de la meta\n",
    "    parent = leaf.parent\n",
    "    #Adjunta la meta y su padre al camino\n",
    "    path = [leaf, parent]\n",
    "    #Recorre el árbol de búsqueda hasta el inicial\n",
    "    while parent.state != root:\n",
    "        parent = parent.parent\n",
    "        #Adjunta los padres en el camino\n",
    "        path.append(parent)\n",
    "        \n",
    "    return path[::-1]\n",
    "    \n",
    "for n in get_path(tree, vacuum_problem.initial):\n",
    "    print(\"{} ----->\\n{}\".format(n.action, states[n.state]))"
   ]
  },
  {
   "cell_type": "markdown",
   "id": "79687af8",
   "metadata": {},
   "source": [
    "En el resultado anterior, hemos iniciado a partir del estado 0, pero podemos aleatorizar el estado de inicialización para observar el comportamiento del algoritmo cuando iniciamos en diferentes estados."
   ]
  },
  {
   "cell_type": "code",
   "execution_count": 19,
   "id": "6ae61bdf",
   "metadata": {},
   "outputs": [
    {
     "name": "stdout",
     "output_type": "stream",
     "text": [
      "States: \n",
      " -[0, 1, 2, 3, 4, 5, 6, 7]\n",
      "Initial State:\n",
      " -4\n",
      "Final states:\n",
      " -[6, 7]\n",
      "Transition model:\n",
      " -[(0, 'Clean', 4), (0, 'Right', 1), (0, 'Left', 0), (1, 'Clean', 3), (1, 'Right', 1), (1, 'Left', 0), (2, 'Clean', 6), (2, 'Right', 3), (2, 'Left', 2), (3, 'Right', 3), (3, 'Left', 2), (4, 'Right', 5), (4, 'Left', 4), (5, 'Clean', 7), (5, 'Right', 5), (5, 'Left', 4), (6, 'Right', 7), (6, 'Left', 6), (7, 'Right', 7), (7, 'Left', 6)] \n",
      "\n",
      "| --> Action: None, World: {'A': 0, 'B': 1}, Loc: A, cost: 0\n",
      "World: {'A': 0, 'B': 1}, Loc: A --> Action: Right, World: {'A': 0, 'B': 1}, Loc: B, cost: 1\n",
      "World: {'A': 0, 'B': 1}, Loc: B --> Action: Clean, World: {'A': 0, 'B': 0}, Loc: B, cost: 3\n"
     ]
    }
   ],
   "source": [
    "#Definimos el problema de búsqueda\n",
    "#El estado inicial es aleatorio\n",
    "problem = SearchProblem(states=states,goal=[6,7], initial=random.choice(list(states.keys())),\n",
    "                        transition_model=transition_model, actions=['Clean','Left','Right'])\n",
    "print(problem,'\\n')\n",
    "\n",
    "for node in BestFirstSearch(problem):\n",
    "    if node.parent != None:\n",
    "        parent = states[node.parent.state]\n",
    "    else:\n",
    "        parent = '|'\n",
    "    print(\"{} --> Action: {}, {}, cost: {}\".format(parent, node.action, states[node.state], node.cost))"
   ]
  },
  {
   "cell_type": "code",
   "execution_count": 20,
   "id": "00d46e75",
   "metadata": {},
   "outputs": [
    {
     "name": "stdout",
     "output_type": "stream",
     "text": [
      "None ----->\n",
      "World: {'A': 0, 'B': 1}, Loc: A\n",
      "Right ----->\n",
      "World: {'A': 0, 'B': 1}, Loc: B\n",
      "Clean ----->\n",
      "World: {'A': 0, 'B': 0}, Loc: B\n"
     ]
    }
   ],
   "source": [
    "for n in get_path(BestFirstSearch(problem), problem.initial):\n",
    "    print(\"{} ----->\\n{}\".format(n.action, states[n.state]))"
   ]
  },
  {
   "cell_type": "markdown",
   "id": "cc38bb45",
   "metadata": {},
   "source": [
    "       "
   ]
  }
 ],
 "metadata": {
  "kernelspec": {
   "display_name": "Python 3",
   "language": "python",
   "name": "python3"
  },
  "language_info": {
   "codemirror_mode": {
    "name": "ipython",
    "version": 3
   },
   "file_extension": ".py",
   "mimetype": "text/x-python",
   "name": "python",
   "nbconvert_exporter": "python",
   "pygments_lexer": "ipython3",
   "version": "3.8.8"
  }
 },
 "nbformat": 4,
 "nbformat_minor": 5
}
