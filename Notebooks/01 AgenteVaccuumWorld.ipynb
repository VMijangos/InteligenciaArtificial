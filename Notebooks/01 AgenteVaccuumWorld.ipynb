{
 "cells": [
  {
   "cell_type": "markdown",
   "metadata": {
    "id": "pOrIooZgPERE"
   },
   "source": [
    "# Mundo de la aspiradora\n",
    "\n",
    "Este notebook presenta un agente que interactúa en el mundo de la aspiradora, tal como se presenta en Russel & Norvig (2021). Una versión más compleja de este mundo puede encontrarse en <url>https://github.com/rayheberer/AI-A-Modern-Approach/tree/master/Chapter%202%20Intelligent%20Agents</url>."
   ]
  },
  {
   "cell_type": "markdown",
   "metadata": {
    "id": "zPf4akIFP9cX"
   },
   "source": [
    "### Creación del ambiente\n",
    "\n",
    "El ambiente consiste en un conjunto de cuadrados a través de los cuales el agente puede desplazarse. Estos cuadrados se definirán como objetos que contienen un nombre y un conjunto de movimientos."
   ]
  },
  {
   "cell_type": "code",
   "execution_count": 1,
   "metadata": {
    "id": "Z-VZxpd1QO1f"
   },
   "outputs": [],
   "source": [
    "class Square(object):\n",
    "    def __init__(self, name):\n",
    "        \"\"\"\n",
    "        Crea un objeto square, que representa los cuadrados del ambiente.\n",
    "\n",
    "        Argumentos\n",
    "        ----------\n",
    "        name : str\n",
    "          Nombre del cuadrado ('A', 'B', etc.)\n",
    "        \"\"\"\n",
    "        self.name = name\n",
    "        \n",
    "        # Hasta que no se coloque con cuadrados vecinos, los movimientos no llevan a ningún lado\n",
    "        self.left = self\n",
    "        self.right = self\n",
    "        #self.up = self\n",
    "        #self.down = self"
   ]
  },
  {
   "cell_type": "markdown",
   "metadata": {
    "id": "xBVcnUcQQlqM"
   },
   "source": [
    "En el ejemplo más simple, el ambiente se conforma por dos cuadrados nombrados 'A' y 'B':\n",
    "\n",
    "Construiremos estos cuadrados de tal forma que el cuadrado 'A' este a la izquierda del cuadrado 'B' y, por tanto, el cuadrado 'B' a la derecha del 'A'.\n",
    "Para desplazarse el agente podrá moverse a la izquierda o a la derecha. \n",
    "\n",
    "$$[A] [B]$$\n",
    "\n",
    "Asimismo, uno o ambos cuadrados pueden estar sucios (lo que se indica con 1) o limpios (indicado con 0). El ambiente indicará, de manera, aleatoria qué cuadrado está o no sucio."
   ]
  },
  {
   "cell_type": "code",
   "execution_count": 2,
   "metadata": {
    "id": "iF2CVwTxFC0d"
   },
   "outputs": [],
   "source": [
    "import random\n",
    "\n",
    "class VacuumWorld(object):\n",
    "    def __init__(self, dirt_init='random', move_penalty=False):\n",
    "        \"\"\"\n",
    "        Objeto que crea el ambiente para el mundo de la aspiradora:\n",
    "        Se conforma de:\n",
    "        - Dos cuadrados: A y B (A a la izquierda de B)\n",
    "        - Indicación de la limpieza (0) o suciedad (1) de los cuadrados.\n",
    "\n",
    "        Argumentos\n",
    "        ----------\n",
    "        dirt_init : str\n",
    "          Forma en que se inicializará la suciedad de los cuadrados.\n",
    "        move_penalty : boolean\n",
    "          Señala si se penalizará o no por el movimiento del agente en el ambiente.\n",
    "        init_loc : str\n",
    "          Cuadrado en que se iniciará el agente (A o B).\n",
    "        \"\"\"\n",
    "        self.squares = []\n",
    "        self.A = Square('A')\n",
    "        self.B = Square('B')\n",
    "        self.squares.append(self.A)\n",
    "        self.squares.append(self.B)\n",
    "\n",
    "        #Cambia la posición de A a B\n",
    "        self.A.right = self.B\n",
    "        #Cambia la posición de B a A\n",
    "        self.B.left = self.A\n",
    "\n",
    "        #Inicialización de suciedad\n",
    "        self.dirt_init = dirt_init\n",
    "        #Penalización por movimiento\n",
    "        self.move_penalty = move_penalty\n",
    "        \n",
    "    def initialize_dirt(self):\n",
    "        \"\"\"\n",
    "        Inicializa la suciedad de los cuadrados:\n",
    "\n",
    "        Opciones (se indican en init)\n",
    "        --------\n",
    "        random : Inicializa con uno de los cuadrados sucios y otro limpio de forma aleatoria.\n",
    "        dirty : Inicializa con los dos cuadrados sucios\n",
    "        clean : Inicializa con los dos cuadrados limpios\n",
    "        \"\"\"\n",
    "        if self.dirt_init=='random':\n",
    "            for square in self.squares:\n",
    "                if random.random() > 0.5:\n",
    "                    square.dirt = 1\n",
    "                else:\n",
    "                    square.dirt = 0\n",
    "\n",
    "        elif self.dirt_init=='dirty':\n",
    "            for square in self.squares:\n",
    "                square.dirt = 1\n",
    "\n",
    "        elif self.dirt_init=='clean':\n",
    "            for square in self.squares:\n",
    "                square.dirt = 0\n",
    "\n",
    "        else:\n",
    "            for square, value in zip(self.squares, self.dirt_init):\n",
    "                square.dirt = value\n",
    "                    \n",
    "    def initialize_agent_location(self, agent):\n",
    "        \"\"\"\n",
    "        Inicializa la localización de un agente dado el objeto agente.\n",
    "\n",
    "        Argumentos\n",
    "        ----------\n",
    "        agent : object\n",
    "          Objeto agente que interecturá con el ambiente.\n",
    "        \"\"\"\n",
    "        #Inicializa al objeto de forma aleatoria\n",
    "        i = random.randint(0, len(self.squares)-1)\n",
    "        agent.location = self.squares[i]\n",
    "\n",
    "    def performance(self, action):\n",
    "        \"\"\"\n",
    "        Determina el rendimiento del agente en base a los movimientos que realiza.\n",
    "\n",
    "        Argumentos\n",
    "        ----------\n",
    "        action : str\n",
    "          Action que ha realizado el agente.\n",
    "        \"\"\"\n",
    "        move = 0\n",
    "        if self.move_penalty:\n",
    "            if action is not None and action != 'Clean':\n",
    "                move += 1\n",
    "        dirt = sum([square.dirt for square in self.squares])\n",
    "        \n",
    "        return len(self.squares) - dirt - move"
   ]
  },
  {
   "cell_type": "markdown",
   "metadata": {
    "id": "ArMs03mQRYBd"
   },
   "source": [
    "### Creación del agente\n",
    "\n",
    "El agente será un objeto que pueda interactuar con el ambiente. Este se compondrá de los siguientes elementos:\n",
    "\n",
    "* Sensores: El agente tiene acceso a la información del lugar (cuadrado) en que está y si este cuadrado está sucio.\n",
    "* Actuadores: El agente puede realizar las siguientes acciones:\n",
    "  1. Moverse a la izquierda ('Left').\n",
    "  2. Moverse a la derecha ('Right').\n",
    "  3. Limpiar ('Clean')."
   ]
  },
  {
   "cell_type": "code",
   "execution_count": 3,
   "metadata": {
    "id": "j4nAiXBtFUSY"
   },
   "outputs": [],
   "source": [
    "class Agent(object):\n",
    "    \"\"\"\n",
    "    Objeto agente.\n",
    "    \"\"\"\n",
    "    def decide(self, location, dirt):\n",
    "        \"\"\"\n",
    "        Función del agente que decidirá que hacer según cada percepción.\n",
    "\n",
    "        Argumentos\n",
    "        ----------\n",
    "        location : object\n",
    "          Lugar (cuadrado) en donde se encuentra el agente en el momento actual.\n",
    "        dirt : {0,1}\n",
    "          Indica si el lugar actual del agente está o no sucio.\n",
    "        \"\"\"\n",
    "        if dirt:\n",
    "            return 'Clean'\n",
    "        elif location.name == 'A':\n",
    "            return 'Right'\n",
    "        elif location.name == 'B':\n",
    "            return 'Left'"
   ]
  },
  {
   "cell_type": "markdown",
   "metadata": {
    "id": "pOiuh_NVSPOs"
   },
   "source": [
    "## Interacción del agente en el ambiente\n",
    "\n",
    "En primer lugar, construiremos el ambiente. Señalamos que la suciedad se inicializará de manera aleatoria y que se penalizará el movimiento del agente."
   ]
  },
  {
   "cell_type": "code",
   "execution_count": 4,
   "metadata": {
    "id": "UcZT7orpFeVM"
   },
   "outputs": [],
   "source": [
    "#Creación del ambiente\n",
    "env = VacuumWorld(dirt_init='random', move_penalty=True)"
   ]
  },
  {
   "cell_type": "markdown",
   "metadata": {
    "id": "PRg6iX-XSpuB"
   },
   "source": [
    "Ya que hemos creado el ambiente con los dos cuadrados 'A' y 'B' inicializamos la suciedad.\n",
    "\n",
    "El ambiente entonces será un conjunto de tuplas ${(A,dirt), (B,dirt)}$, donde $dirt \\in \\{0,1\\}$ indica si el cuadrado está o no sucio."
   ]
  },
  {
   "cell_type": "code",
   "execution_count": 5,
   "metadata": {
    "colab": {
     "base_uri": "https://localhost:8080/"
    },
    "id": "jGPIxaaFSpEU",
    "outputId": "a7fc8d1c-cbd6-4a23-f337-71eeeaffae55"
   },
   "outputs": [
    {
     "name": "stdout",
     "output_type": "stream",
     "text": [
      "Inicialización de estados:\n",
      "[('A', 1), ('B', 0)]\n"
     ]
    }
   ],
   "source": [
    "#Inicializa la suciedad\n",
    "env.initialize_dirt()\n",
    "\n",
    "print('Inicialización de estados:\\n{}'.format([(s.name, s.dirt) for s in env.squares]))"
   ]
  },
  {
   "cell_type": "markdown",
   "metadata": {
    "id": "Wtt567idTYWD"
   },
   "source": [
    "Ahora podemos crear el agente e indicar su posición en el ambiente."
   ]
  },
  {
   "cell_type": "code",
   "execution_count": 6,
   "metadata": {
    "colab": {
     "base_uri": "https://localhost:8080/"
    },
    "id": "N46JUf1lKY9A",
    "outputId": "6d1573c4-54e4-475b-8f08-c5265ede76a5"
   },
   "outputs": [
    {
     "name": "stdout",
     "output_type": "stream",
     "text": [
      "Posición actual del agente: A\n"
     ]
    }
   ],
   "source": [
    "#Creamos el agente\n",
    "agent = Agent()\n",
    "#Inicializamos la localización del agente\n",
    "env.initialize_agent_location(agent)\n",
    "\n",
    "print('Posición actual del agente: {}'.format(agent.location.name))"
   ]
  },
  {
   "cell_type": "markdown",
   "metadata": {
    "id": "cENaNuMAXxn5"
   },
   "source": [
    "Finalmente, indicamos como va a interactuar el agente con el ambiente. En este caso, el agente percibirá y realizará acciones hasta que los dos cuadros estén limpios.\n",
    "\n",
    "La siguiente tabla resume las función del agente que hemos indicado:\n",
    "\n",
    "| Percepción | Acción |\n",
    "| :- | -: |\n",
    "| (A,0) | Right |\n",
    "| (B,0) | Left |\n",
    "| (A,1) | Clean |\n",
    "| (B,1) | Clean |"
   ]
  },
  {
   "cell_type": "code",
   "execution_count": 7,
   "metadata": {
    "colab": {
     "base_uri": "https://localhost:8080/"
    },
    "id": "gnsLWm6fLOXM",
    "outputId": "a624e16c-8258-4453-c8f9-4d741ca2025d"
   },
   "outputs": [
    {
     "name": "stdout",
     "output_type": "stream",
     "text": [
      "Ubicación del agente: A\n",
      "¿Está sucio?: 1\n",
      "Acción a realizar: Clean\n",
      "\n"
     ]
    }
   ],
   "source": [
    "while env.squares[0].dirt == 1 or env.squares[1].dirt == 1:\n",
    "  #Realiza acción en base a lugar y suciedad\n",
    "  location = agent.location\n",
    "  dirt = agent.location.dirt\n",
    "  action = agent.decide(location,dirt)\n",
    "  \n",
    "  print('Ubicación del agente: {}\\n¿Está sucio?: {}\\nAcción a realizar: {}\\n'.format(location.name, dirt, action))\n",
    "  \n",
    "  #(A,1) -> Clean ;  (B,1)-> Clean\n",
    "  if action == 'Clean':\n",
    "    agent.location.dirt = 0\n",
    "  #(A,0) -> Right\n",
    "  if action == 'Right':\n",
    "    agent.location = env.A.right\n",
    "  #(B,0) -> Left\n",
    "  if action == 'Left':\n",
    "    agent.location = env.B.left"
   ]
  },
  {
   "cell_type": "code",
   "execution_count": 8,
   "metadata": {
    "colab": {
     "base_uri": "https://localhost:8080/"
    },
    "id": "XH7dqumuWaz8",
    "outputId": "207545ed-ae5e-4b5e-e459-2cc86f12ea5d"
   },
   "outputs": [
    {
     "name": "stdout",
     "output_type": "stream",
     "text": [
      "Estados después del agente:\n",
      "[('A', 0), ('B', 0)]\n"
     ]
    }
   ],
   "source": [
    "print('Estados después del agente:\\n{}'.format([(s.name, s.dirt) for s in env.squares]))"
   ]
  }
 ],
 "metadata": {
  "colab": {
   "collapsed_sections": [],
   "name": "01 Agentes: Mundo_aspiradora.ipynb",
   "provenance": []
  },
  "kernelspec": {
   "display_name": "Python 3",
   "language": "python",
   "name": "python3"
  },
  "language_info": {
   "codemirror_mode": {
    "name": "ipython",
    "version": 3
   },
   "file_extension": ".py",
   "mimetype": "text/x-python",
   "name": "python",
   "nbconvert_exporter": "python",
   "pygments_lexer": "ipython3",
   "version": "3.8.8"
  }
 },
 "nbformat": 4,
 "nbformat_minor": 1
}
