{
 "cells": [
  {
   "cell_type": "markdown",
   "id": "fd661ba4",
   "metadata": {},
   "source": [
    "# Algoritmos de Depth-Limited Search y Iterative Deepening Search\n",
    "\n",
    "El algoritmo de Depth-Limited Search o de profunidad limitada es una versión del algoritmo de Depth-First Search donde se limita la profundidad en el árbol de búsqueda. \n",
    "\n",
    "Aquí aplicamos este algoritmo al problema del mundo de la aspiradora y también extendemos este algoritmo al llamado Iterative Deepening Search que permitirá encontrar una solución sin depender de la profundidad.\n",
    "\n",
    "### Preparación del problema\n",
    "\n",
    "En primer lugar definimos el problema del mundo de la aspiradora."
   ]
  },
  {
   "cell_type": "code",
   "execution_count": 1,
   "id": "09cfb5fe",
   "metadata": {},
   "outputs": [
    {
     "name": "stdout",
     "output_type": "stream",
     "text": [
      "States: \n",
      " -[0, 1, 2, 3, 4, 5, 6, 7]\n",
      "Initial State:\n",
      " -0\n",
      "Final states:\n",
      " -[6, 7]\n",
      "Actions:\n",
      " -['Clean', 'Left', 'Right']\n",
      "Transition model:\n",
      " -[(0, 'Clean', 4), (0, 'Right', 1), (1, 'Clean', 3), (1, 'Left', 0), (2, 'Clean', 6), (2, 'Right', 3), (3, 'Left', 2), (4, 'Right', 5), (5, 'Clean', 7), (5, 'Left', 4), (6, 'Right', 7), (7, 'Left', 6)]\n"
     ]
    }
   ],
   "source": [
    "from itertools import product\n",
    "from VaccuumWorldSearchProblem import State, Transition, SearchProblem\n",
    "\n",
    "cuadros = ['A','B']\n",
    "\n",
    "#Inicializa contador de estados\n",
    "i = 0\n",
    "#Guarda estados\n",
    "states = {}\n",
    "#Determina los estados de suciedad\n",
    "for dirt in product([1,0],repeat=len(cuadros)):\n",
    "    #Determina la posición del agente\n",
    "    for agent_loc in cuadros:\n",
    "        #Asigna valores al objeto estado\n",
    "        state = State()\n",
    "        state.world = {cuadros[j]:dirt[j] for j in range(len(cuadros))}\n",
    "        state.agent_location = agent_loc\n",
    "        #Guarda el estado en diccionario\n",
    "        states[i] = state\n",
    "        #Aumenta el valor de i\n",
    "        i += 1\n",
    "        \n",
    "#Definimos transiciones\n",
    "transition_model = Transition()\n",
    "transition_model.get_transitions(states)\n",
    "\n",
    "#Definimos el problema de búsqueda\n",
    "vacuum_problem = SearchProblem(states=states,goal=[6,7], initial=0,\n",
    "                        transition_model=transition_model,actions=['Clean','Left','Right'])\n",
    "\n",
    "print(vacuum_problem)"
   ]
  },
  {
   "cell_type": "markdown",
   "id": "c1dbd2e4",
   "metadata": {},
   "source": [
    "### Funciones de apoyo\n",
    "\n",
    "Los algoritmos de Depth-Limited Search e Iterative Deepening Search utilizan una pila de tipo LIFO (Last-in-First-Out) que revisa los elementos desde el útlimo añadido hasta el primero, definimos esta pila a continuación:"
   ]
  },
  {
   "cell_type": "code",
   "execution_count": 2,
   "id": "7e3b08d3",
   "metadata": {},
   "outputs": [],
   "source": [
    "class LIFOQueue(object):\n",
    "    \"\"\"\n",
    "    Clase de una cola LIFO en los problemas de búsqueda.\n",
    "    \"\"\"\n",
    "    def __init__(self):\n",
    "        self.queue = []\n",
    "  \n",
    "    def __str__(self):\n",
    "        return ' '.join([str(q) for q in self.queue])\n",
    "  \n",
    "    def isEmpty(self):\n",
    "        \"\"\"\n",
    "        Returns\n",
    "        -------\n",
    "        empty : bool\n",
    "            Devuelve el valor True si el queue está vacío\n",
    "        \"\"\"\n",
    "        return self.queue == []\n",
    "  \n",
    "    def push(self, element):\n",
    "        \"\"\"\n",
    "        Arguments\n",
    "        ---------\n",
    "        element : \n",
    "            El elemento que se va agregar al queue\n",
    "        \"\"\"\n",
    "        self.queue.append(element)\n",
    "  \n",
    "    def pop(self):\n",
    "        \"\"\"\n",
    "        Elimina el elemento con más valor según un peso f\n",
    "        y regresa el elemento correspondiente a este valor.\n",
    "        \"\"\"\n",
    "        #Regresa el primer elemento que llegó\n",
    "        first_element = self.queue[-1]\n",
    "        #Borra este elemento de la cola\n",
    "        del self.queue[-1]\n",
    "    \n",
    "        return first_element\n",
    "    \n",
    "    def top(self):\n",
    "        \"\"\"\n",
    "        Devuelve el elemento en el tope de la pila.\n",
    "        A diferencia de pop, no elimina el elemento de la pila.\n",
    "        \"\"\"\n",
    "        #Tope de la pila LIFO\n",
    "        item = self.queue[-1]\n",
    "        \n",
    "        return item"
   ]
  },
  {
   "cell_type": "markdown",
   "id": "e0adc51a",
   "metadata": {},
   "source": [
    "Los objetos nodos se definirán por el estado, el padre, la acción, y además el elemento de profundidad que indicará cuál es el elemento con mayor profundidad en el árbol de búsqueda."
   ]
  },
  {
   "cell_type": "code",
   "execution_count": 3,
   "id": "6cb4cd11",
   "metadata": {},
   "outputs": [],
   "source": [
    "class Node(object):\n",
    "    \"\"\"\n",
    "    Clase para crear nodos con sus atributos.\n",
    "    \"\"\"\n",
    "    def __init__(self):\n",
    "        self.state = 0\n",
    "        self.parent = None \n",
    "        self.action = None\n",
    "        self.depth = 0\n",
    "        \n",
    "    def __str__(self):\n",
    "        if self.parent == None:\n",
    "            return \"State: {}, Cost: {}\".format(self.state,self.depth)\n",
    "        else:\n",
    "            return \"State: {}, Action: {}, Parent: {}, Depth: {}\".format(self.state,self.action,self.parent.state,self.depth)"
   ]
  },
  {
   "cell_type": "markdown",
   "id": "7e2cb952",
   "metadata": {},
   "source": [
    "La función para expandir los nodos guardará la profundidad del nodo. El nodo raíz tendrá profundidad 0, y por cada expansión se sumará 1 a la profundidad. Los elementos de mayor profundidad se irán agregando a la pila, de tal forma que los elementos de mayor profundidad estén en el tope de ésta."
   ]
  },
  {
   "cell_type": "code",
   "execution_count": 4,
   "id": "a72edbe3",
   "metadata": {},
   "outputs": [],
   "source": [
    "def expand(problem, node):\n",
    "    \"\"\"\n",
    "    Función para expandir los nodos dado el problema.\n",
    "    \n",
    "    Argumentos\n",
    "    ---------\n",
    "    problem : objeto\n",
    "        Problema de búsqueda.\n",
    "    node : objeto\n",
    "        Nodo que se va a expandir.\n",
    "        \n",
    "    Salida\n",
    "    ------\n",
    "    childs :generator\n",
    "        Generador con los hijos del nodo.\n",
    "    \"\"\"\n",
    "    #Nodo en el que se inicia\n",
    "    s = node.state \n",
    "\n",
    "    for action in problem.actions:\n",
    "        #Ejecuta la acción\n",
    "        new_s = problem.act(s, action)\n",
    "        #Guarda la profundidad del nodo\n",
    "        depth = node.depth + 1\n",
    "        \n",
    "        #Genera un nuevo nodo\n",
    "        new_node = Node()\n",
    "        new_node.state = new_s\n",
    "        new_node.parent = node \n",
    "        new_node.action = action \n",
    "        new_node.depth = depth\n",
    "\n",
    "        yield new_node"
   ]
  },
  {
   "cell_type": "markdown",
   "id": "2678cf78",
   "metadata": {},
   "source": [
    "Finalmente, definiremos una función para revisar si un nodo <b>forma un ciclo</b>. Esta función revisará si los nodos ya han sido visitados, si lo han sido entonces forman un ciclo."
   ]
  },
  {
   "cell_type": "code",
   "execution_count": 5,
   "id": "0a744869",
   "metadata": {},
   "outputs": [],
   "source": [
    "def CheckVisited(node, visited, recStack):\n",
    "        #Marca el nodo actual como visitado\n",
    "        visited[node.state] = True\n",
    "        #Añade al stack de recursión\n",
    "        recStack[node.state] = True\n",
    " \n",
    "        #Si hay un padre hacer...\n",
    "        if node.parent != None:\n",
    "            #Revisa si el padre ha sido visitado\n",
    "            if visited[node.parent.state] == False:\n",
    "                #Aplica una recursión\n",
    "                if CheckVisited(node.parent, visited, recStack) == True:\n",
    "                    return True\n",
    "            elif recStack[node.parent.state] == True:\n",
    "                return True\n",
    " \n",
    "        #Quita el nodo de la recursión\n",
    "        recStack[node.state] = False\n",
    "        \n",
    "        return False\n",
    "\n",
    "def isCycle(node,nodes):\n",
    "    #Crea lista de False por cada nodo\n",
    "    visited = [False]*(len(nodes)+1)\n",
    "    recStack = [False]*(len(nodes)+1)\n",
    "    #Revisa los nodos que se han visitado\n",
    "    for prev_node in nodes:\n",
    "        if CheckVisited(node, visited, recStack) == True:\n",
    "            return True\n",
    "    return False"
   ]
  },
  {
   "cell_type": "markdown",
   "id": "aaa2dfc0",
   "metadata": {},
   "source": [
    "## Algoritmo Depth-Limited Search\n",
    "\n",
    "Definimos el algoritmo de Depth-Limited Search. El algoritmo regresará los nodos que ha encontrado en el camino de búsqueda o bien señalará que no ha encontrado el camino (\"failure\"). Si el método no es capas de encontrar un nodo final al agotar la máxima profundidad, regresará un \"cutoff\"."
   ]
  },
  {
   "cell_type": "code",
   "execution_count": 6,
   "id": "57bdbb05",
   "metadata": {},
   "outputs": [],
   "source": [
    "def DepthLimitedSearch(problem,l):\n",
    "    \"\"\"\n",
    "    Algoritmo Depth-Limited Search para generar el camino más apto\n",
    "    en el árbol de búsqueda de un problema.\n",
    "    \n",
    "    Argumentos\n",
    "    ----------\n",
    "    problem : objeto\n",
    "        Problema de búsquda.\n",
    "    l : int\n",
    "        Máxima profunidad del árbol de búsqueda.\n",
    "        \n",
    "    Salida\n",
    "    ------\n",
    "    nodes : list\n",
    "        Lista de los nodos que llevan a la solución.\n",
    "    \"\"\"\n",
    "    #Almacenamiento de nodos\n",
    "    nodes = []\n",
    "    #Nodo inicial\n",
    "    node = Node()\n",
    "    node.state = problem.initial    \n",
    "    #Frontera con cola de prioridad\n",
    "    frontier = LIFOQueue()\n",
    "    frontier.push(node)\n",
    "    #resultado\n",
    "    result = \"failure\"\n",
    "\n",
    "    #Mientras la frontera no esté vacía\n",
    "    while frontier.isEmpty() == False:\n",
    "        #Pop en frontera\n",
    "        node = frontier.pop()\n",
    "        #Guarda el nodo en la lista\n",
    "        nodes.append(node)\n",
    "        \n",
    "        if node.state in problem.goal:\n",
    "            return nodes\n",
    "        \n",
    "        if node.depth > l:\n",
    "            result = \"cutoff\"\n",
    "        elif isCycle(node,nodes) == False:\n",
    "            for child in expand(problem, node):\n",
    "                frontier.push(child)\n",
    "        \n",
    "    return result"
   ]
  },
  {
   "cell_type": "markdown",
   "id": "4e41b7f4",
   "metadata": {},
   "source": [
    "Aplicamos el algoritmo al problema del mundo de la aspiradora. En este caso, el encontrar una solución depende de la profundidad máxima que determinemos."
   ]
  },
  {
   "cell_type": "code",
   "execution_count": 7,
   "id": "da876204",
   "metadata": {},
   "outputs": [
    {
     "name": "stdout",
     "output_type": "stream",
     "text": [
      "cutoff\n"
     ]
    }
   ],
   "source": [
    "#Aplicamos el algoritmo al problema\n",
    "solution = DepthLimitedSearch(vacuum_problem,1)\n",
    "\n",
    "print(solution)"
   ]
  },
  {
   "cell_type": "markdown",
   "id": "134ee913",
   "metadata": {},
   "source": [
    "## Iterative Deepening Search\n",
    "\n",
    "Para solucionar el problema de los \"cutoff\", utilizaremos el algoritmo de Iterative Deepening Search que lo que hace es iterar sobre la máxima profundidad y aplicar el método de Depth-Limited Search. Es decir, explorará las profundidades desde 0 hasta infinito hasta encontrar una en donde se llegué a una solución del problema."
   ]
  },
  {
   "cell_type": "code",
   "execution_count": 8,
   "id": "13c68eb7",
   "metadata": {},
   "outputs": [],
   "source": [
    "def IterativeDeepeningSearch(problem):\n",
    "    \"\"\"\n",
    "    Algoritmo de Iterative Deepening Search.\n",
    "    \n",
    "    Argumentos\n",
    "    ----------\n",
    "    problem : object\n",
    "        Problema del que buscamos la solución.\n",
    "    \"\"\"\n",
    "    #Inicializa la profundidad\n",
    "    l = 0\n",
    "    #Revisa si hay resultados\n",
    "    result = DepthLimitedSearch(problem,l)\n",
    "    #Itera hasta encontrar una solución\n",
    "    while result == \"cutoff\":\n",
    "        #Agrega una profundidad más\n",
    "        l += 1\n",
    "        #Revisa el resultado\n",
    "        result = DepthLimitedSearch(problem,l)\n",
    "    \n",
    "    print(\"Resuelto en {} iteraciones\".format(l))\n",
    "    return result"
   ]
  },
  {
   "cell_type": "code",
   "execution_count": 9,
   "id": "8b025b59",
   "metadata": {},
   "outputs": [
    {
     "name": "stdout",
     "output_type": "stream",
     "text": [
      "Resuelto en 2 iteraciones\n",
      "State: 0, Cost: 0\n",
      "State: 1, Action: Right, Parent: 0, Depth: 1\n",
      "State: 1, Action: Right, Parent: 1, Depth: 2\n",
      "State: 0, Action: Left, Parent: 1, Depth: 2\n",
      "State: 3, Action: Clean, Parent: 1, Depth: 2\n",
      "State: 3, Action: Right, Parent: 3, Depth: 3\n",
      "State: 2, Action: Left, Parent: 3, Depth: 3\n",
      "State: 3, Action: Clean, Parent: 3, Depth: 3\n",
      "State: 0, Action: Left, Parent: 0, Depth: 1\n",
      "State: 4, Action: Clean, Parent: 0, Depth: 1\n",
      "State: 5, Action: Right, Parent: 4, Depth: 2\n",
      "State: 5, Action: Right, Parent: 5, Depth: 3\n",
      "State: 4, Action: Left, Parent: 5, Depth: 3\n",
      "State: 7, Action: Clean, Parent: 5, Depth: 3\n"
     ]
    }
   ],
   "source": [
    "#Aplicamos el algoritmo al problema\n",
    "solution = IterativeDeepeningSearch(vacuum_problem)\n",
    "\n",
    "for node in solution:\n",
    "    print(node)"
   ]
  },
  {
   "cell_type": "markdown",
   "id": "40871655",
   "metadata": {},
   "source": [
    "    "
   ]
  }
 ],
 "metadata": {
  "kernelspec": {
   "display_name": "Python 3",
   "language": "python",
   "name": "python3"
  },
  "language_info": {
   "codemirror_mode": {
    "name": "ipython",
    "version": 3
   },
   "file_extension": ".py",
   "mimetype": "text/x-python",
   "name": "python",
   "nbconvert_exporter": "python",
   "pygments_lexer": "ipython3",
   "version": "3.8.8"
  }
 },
 "nbformat": 4,
 "nbformat_minor": 5
}
